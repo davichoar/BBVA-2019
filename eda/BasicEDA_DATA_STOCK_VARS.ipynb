{
 "cells": [
  {
   "cell_type": "code",
   "execution_count": 3,
   "metadata": {},
   "outputs": [],
   "source": [
    "import pandas as pd\n",
    "import numpy as np\n",
    "import seaborn as sns\n",
    "import matplotlib.pyplot as plt\n",
    "%matplotlib inline\n",
    "\n",
    "sns.set()"
   ]
  },
  {
   "cell_type": "markdown",
   "metadata": {},
   "source": [
    "# Stock y TARGET\n",
    "Aquí se encuentra el target. Analizaremos diferencias entre set de train y de test. De aquí saldrá el primer modelo base."
   ]
  },
  {
   "cell_type": "code",
   "execution_count": 4,
   "metadata": {},
   "outputs": [],
   "source": [
    "# Reading dataset\n",
    "df_stock_train = pd.read_csv(\"../data/DATA_STOCK_VARS_TRAIN_F.csv\")\n",
    "df_stock_test = pd.read_csv(\"../data/DATA_STOCK_VARS_TEST_F.csv\")"
   ]
  },
  {
   "cell_type": "code",
   "execution_count": 3,
   "metadata": {
    "scrolled": true
   },
   "outputs": [
    {
     "data": {
      "text/html": [
       "<div>\n",
       "<style scoped>\n",
       "    .dataframe tbody tr th:only-of-type {\n",
       "        vertical-align: middle;\n",
       "    }\n",
       "\n",
       "    .dataframe tbody tr th {\n",
       "        vertical-align: top;\n",
       "    }\n",
       "\n",
       "    .dataframe thead th {\n",
       "        text-align: right;\n",
       "    }\n",
       "</style>\n",
       "<table border=\"1\" class=\"dataframe\">\n",
       "  <thead>\n",
       "    <tr style=\"text-align: right;\">\n",
       "      <th></th>\n",
       "      <th>0</th>\n",
       "      <th>1</th>\n",
       "      <th>2</th>\n",
       "      <th>3</th>\n",
       "      <th>4</th>\n",
       "    </tr>\n",
       "  </thead>\n",
       "  <tbody>\n",
       "    <tr>\n",
       "      <th>ID</th>\n",
       "      <td>201808_48117</td>\n",
       "      <td>201808_87846</td>\n",
       "      <td>201808_89372</td>\n",
       "      <td>201804_87164</td>\n",
       "      <td>201804_13922</td>\n",
       "    </tr>\n",
       "    <tr>\n",
       "      <th>MES_T0</th>\n",
       "      <td>201808</td>\n",
       "      <td>201808</td>\n",
       "      <td>201808</td>\n",
       "      <td>201804</td>\n",
       "      <td>201804</td>\n",
       "    </tr>\n",
       "    <tr>\n",
       "      <th>ID_CLIENTE</th>\n",
       "      <td>48117</td>\n",
       "      <td>87846</td>\n",
       "      <td>89372</td>\n",
       "      <td>87164</td>\n",
       "      <td>13922</td>\n",
       "    </tr>\n",
       "    <tr>\n",
       "      <th>FUGA_3M</th>\n",
       "      <td>0</td>\n",
       "      <td>1</td>\n",
       "      <td>0</td>\n",
       "      <td>0</td>\n",
       "      <td>0</td>\n",
       "    </tr>\n",
       "    <tr>\n",
       "      <th>FH_NACIMIENTO</th>\n",
       "      <td>2015-12-04 00:00:00</td>\n",
       "      <td>1970-11-11 00:00:00</td>\n",
       "      <td>1985-01-23 00:00:00</td>\n",
       "      <td>2008-01-01 00:00:00</td>\n",
       "      <td>2016-08-11 00:00:00</td>\n",
       "    </tr>\n",
       "    <tr>\n",
       "      <th>FH_ALTA</th>\n",
       "      <td>2017-09-04 00:00:00</td>\n",
       "      <td>2007-08-14 00:00:00</td>\n",
       "      <td>2006-02-22 00:00:00</td>\n",
       "      <td>2008-06-12 00:00:00</td>\n",
       "      <td>2017-01-04 00:00:00</td>\n",
       "    </tr>\n",
       "    <tr>\n",
       "      <th>RGO_RIEGO_BBVA</th>\n",
       "      <td>1</td>\n",
       "      <td>1</td>\n",
       "      <td>1</td>\n",
       "      <td>1</td>\n",
       "      <td>1</td>\n",
       "    </tr>\n",
       "    <tr>\n",
       "      <th>RGO_RIESGO_SIST</th>\n",
       "      <td>8</td>\n",
       "      <td>13</td>\n",
       "      <td>5</td>\n",
       "      <td>17</td>\n",
       "      <td>15</td>\n",
       "    </tr>\n",
       "    <tr>\n",
       "      <th>RGO_SDO_MEDIO_ACTIVO</th>\n",
       "      <td>6</td>\n",
       "      <td>16</td>\n",
       "      <td>8</td>\n",
       "      <td>1</td>\n",
       "      <td>15</td>\n",
       "    </tr>\n",
       "    <tr>\n",
       "      <th>RGO_SDO_MEDIO_PASIVO</th>\n",
       "      <td>9</td>\n",
       "      <td>15</td>\n",
       "      <td>7</td>\n",
       "      <td>20</td>\n",
       "      <td>17</td>\n",
       "    </tr>\n",
       "    <tr>\n",
       "      <th>RGO_MARGEN_OPER_MES</th>\n",
       "      <td>1</td>\n",
       "      <td>1</td>\n",
       "      <td>1</td>\n",
       "      <td>1</td>\n",
       "      <td>1</td>\n",
       "    </tr>\n",
       "    <tr>\n",
       "      <th>RGO_MARGEN_OPER_ACUM</th>\n",
       "      <td>1</td>\n",
       "      <td>1</td>\n",
       "      <td>1</td>\n",
       "      <td>1</td>\n",
       "      <td>1</td>\n",
       "    </tr>\n",
       "    <tr>\n",
       "      <th>RGO_FACTURA_ANUAL</th>\n",
       "      <td>7</td>\n",
       "      <td>18</td>\n",
       "      <td>9</td>\n",
       "      <td>2</td>\n",
       "      <td>17</td>\n",
       "    </tr>\n",
       "    <tr>\n",
       "      <th>TO_EMPLEADOS</th>\n",
       "      <td>2</td>\n",
       "      <td>0</td>\n",
       "      <td>0</td>\n",
       "      <td>0</td>\n",
       "      <td>0</td>\n",
       "    </tr>\n",
       "    <tr>\n",
       "      <th>CD_SBS_NORMAL</th>\n",
       "      <td>100</td>\n",
       "      <td>99.97</td>\n",
       "      <td>100</td>\n",
       "      <td>NaN</td>\n",
       "      <td>NaN</td>\n",
       "    </tr>\n",
       "    <tr>\n",
       "      <th>CD_SBS_CPP</th>\n",
       "      <td>0</td>\n",
       "      <td>0.03</td>\n",
       "      <td>0</td>\n",
       "      <td>NaN</td>\n",
       "      <td>NaN</td>\n",
       "    </tr>\n",
       "    <tr>\n",
       "      <th>CD_SBS_DDP</th>\n",
       "      <td>0</td>\n",
       "      <td>0</td>\n",
       "      <td>0</td>\n",
       "      <td>NaN</td>\n",
       "      <td>NaN</td>\n",
       "    </tr>\n",
       "    <tr>\n",
       "      <th>TP_VIVI</th>\n",
       "      <td>LEGAL</td>\n",
       "      <td>HOGAR</td>\n",
       "      <td>HOGAR</td>\n",
       "      <td>LEGAL</td>\n",
       "      <td>LEGAL</td>\n",
       "    </tr>\n",
       "    <tr>\n",
       "      <th>TP_PERSONA</th>\n",
       "      <td>J</td>\n",
       "      <td>A</td>\n",
       "      <td>A</td>\n",
       "      <td>J</td>\n",
       "      <td>J</td>\n",
       "    </tr>\n",
       "    <tr>\n",
       "      <th>TIPO_NEGOCIO</th>\n",
       "      <td>Pyme</td>\n",
       "      <td>PNN</td>\n",
       "      <td>PNN</td>\n",
       "      <td>Pyme</td>\n",
       "      <td>Pyme</td>\n",
       "    </tr>\n",
       "  </tbody>\n",
       "</table>\n",
       "</div>"
      ],
      "text/plain": [
       "                                        0                    1  \\\n",
       "ID                           201808_48117         201808_87846   \n",
       "MES_T0                             201808               201808   \n",
       "ID_CLIENTE                          48117                87846   \n",
       "FUGA_3M                                 0                    1   \n",
       "FH_NACIMIENTO         2015-12-04 00:00:00  1970-11-11 00:00:00   \n",
       "FH_ALTA               2017-09-04 00:00:00  2007-08-14 00:00:00   \n",
       "RGO_RIEGO_BBVA                          1                    1   \n",
       "RGO_RIESGO_SIST                         8                   13   \n",
       "RGO_SDO_MEDIO_ACTIVO                    6                   16   \n",
       "RGO_SDO_MEDIO_PASIVO                    9                   15   \n",
       "RGO_MARGEN_OPER_MES                     1                    1   \n",
       "RGO_MARGEN_OPER_ACUM                    1                    1   \n",
       "RGO_FACTURA_ANUAL                       7                   18   \n",
       "TO_EMPLEADOS                            2                    0   \n",
       "CD_SBS_NORMAL                         100                99.97   \n",
       "CD_SBS_CPP                              0                 0.03   \n",
       "CD_SBS_DDP                              0                    0   \n",
       "TP_VIVI                             LEGAL                HOGAR   \n",
       "TP_PERSONA                              J                    A   \n",
       "TIPO_NEGOCIO                         Pyme                  PNN   \n",
       "\n",
       "                                        2                    3  \\\n",
       "ID                           201808_89372         201804_87164   \n",
       "MES_T0                             201808               201804   \n",
       "ID_CLIENTE                          89372                87164   \n",
       "FUGA_3M                                 0                    0   \n",
       "FH_NACIMIENTO         1985-01-23 00:00:00  2008-01-01 00:00:00   \n",
       "FH_ALTA               2006-02-22 00:00:00  2008-06-12 00:00:00   \n",
       "RGO_RIEGO_BBVA                          1                    1   \n",
       "RGO_RIESGO_SIST                         5                   17   \n",
       "RGO_SDO_MEDIO_ACTIVO                    8                    1   \n",
       "RGO_SDO_MEDIO_PASIVO                    7                   20   \n",
       "RGO_MARGEN_OPER_MES                     1                    1   \n",
       "RGO_MARGEN_OPER_ACUM                    1                    1   \n",
       "RGO_FACTURA_ANUAL                       9                    2   \n",
       "TO_EMPLEADOS                            0                    0   \n",
       "CD_SBS_NORMAL                         100                  NaN   \n",
       "CD_SBS_CPP                              0                  NaN   \n",
       "CD_SBS_DDP                              0                  NaN   \n",
       "TP_VIVI                             HOGAR                LEGAL   \n",
       "TP_PERSONA                              A                    J   \n",
       "TIPO_NEGOCIO                          PNN                 Pyme   \n",
       "\n",
       "                                        4  \n",
       "ID                           201804_13922  \n",
       "MES_T0                             201804  \n",
       "ID_CLIENTE                          13922  \n",
       "FUGA_3M                                 0  \n",
       "FH_NACIMIENTO         2016-08-11 00:00:00  \n",
       "FH_ALTA               2017-01-04 00:00:00  \n",
       "RGO_RIEGO_BBVA                          1  \n",
       "RGO_RIESGO_SIST                        15  \n",
       "RGO_SDO_MEDIO_ACTIVO                   15  \n",
       "RGO_SDO_MEDIO_PASIVO                   17  \n",
       "RGO_MARGEN_OPER_MES                     1  \n",
       "RGO_MARGEN_OPER_ACUM                    1  \n",
       "RGO_FACTURA_ANUAL                      17  \n",
       "TO_EMPLEADOS                            0  \n",
       "CD_SBS_NORMAL                         NaN  \n",
       "CD_SBS_CPP                            NaN  \n",
       "CD_SBS_DDP                            NaN  \n",
       "TP_VIVI                             LEGAL  \n",
       "TP_PERSONA                              J  \n",
       "TIPO_NEGOCIO                         Pyme  "
      ]
     },
     "execution_count": 3,
     "metadata": {},
     "output_type": "execute_result"
    }
   ],
   "source": [
    "df_stock_train.head().T"
   ]
  },
  {
   "cell_type": "code",
   "execution_count": 9,
   "metadata": {},
   "outputs": [
    {
     "name": "stdout",
     "output_type": "stream",
     "text": [
      "<class 'pandas.core.frame.DataFrame'>\n",
      "RangeIndex: 73661 entries, 0 to 73660\n",
      "Data columns (total 20 columns):\n",
      "ID                      73661 non-null object\n",
      "MES_T0                  73661 non-null int64\n",
      "ID_CLIENTE              73661 non-null int64\n",
      "FUGA_3M                 73661 non-null int64\n",
      "FH_NACIMIENTO           72765 non-null object\n",
      "FH_ALTA                 72852 non-null object\n",
      "RGO_RIEGO_BBVA          73661 non-null int64\n",
      "RGO_RIESGO_SIST         73661 non-null int64\n",
      "RGO_SDO_MEDIO_ACTIVO    73661 non-null int64\n",
      "RGO_SDO_MEDIO_PASIVO    73661 non-null int64\n",
      "RGO_MARGEN_OPER_MES     73661 non-null int64\n",
      "RGO_MARGEN_OPER_ACUM    73661 non-null int64\n",
      "RGO_FACTURA_ANUAL       73661 non-null int64\n",
      "TO_EMPLEADOS            72211 non-null float64\n",
      "CD_SBS_NORMAL           51297 non-null float64\n",
      "CD_SBS_CPP              51297 non-null float64\n",
      "CD_SBS_DDP              51297 non-null float64\n",
      "TP_VIVI                 72734 non-null object\n",
      "TP_PERSONA              73661 non-null object\n",
      "TIPO_NEGOCIO            73661 non-null object\n",
      "dtypes: float64(4), int64(10), object(6)\n",
      "memory usage: 11.2+ MB\n"
     ]
    }
   ],
   "source": [
    "df_stock_train.info() # Enteros... pocos valores continuos en general en todos los datasets."
   ]
  },
  {
   "cell_type": "code",
   "execution_count": 5,
   "metadata": {},
   "outputs": [
    {
     "data": {
      "text/plain": [
       "(73661, 20)"
      ]
     },
     "execution_count": 5,
     "metadata": {},
     "output_type": "execute_result"
    }
   ],
   "source": [
    "df_stock_train.shape"
   ]
  },
  {
   "cell_type": "code",
   "execution_count": 6,
   "metadata": {},
   "outputs": [
    {
     "data": {
      "text/plain": [
       "(26338, 20)"
      ]
     },
     "execution_count": 6,
     "metadata": {},
     "output_type": "execute_result"
    }
   ],
   "source": [
    "df_stock_test.shape"
   ]
  },
  {
   "cell_type": "code",
   "execution_count": 7,
   "metadata": {},
   "outputs": [
    {
     "data": {
      "text/html": [
       "<div>\n",
       "<style scoped>\n",
       "    .dataframe tbody tr th:only-of-type {\n",
       "        vertical-align: middle;\n",
       "    }\n",
       "\n",
       "    .dataframe tbody tr th {\n",
       "        vertical-align: top;\n",
       "    }\n",
       "\n",
       "    .dataframe thead th {\n",
       "        text-align: right;\n",
       "    }\n",
       "</style>\n",
       "<table border=\"1\" class=\"dataframe\">\n",
       "  <thead>\n",
       "    <tr style=\"text-align: right;\">\n",
       "      <th></th>\n",
       "      <th>count</th>\n",
       "      <th>mean</th>\n",
       "      <th>std</th>\n",
       "      <th>min</th>\n",
       "      <th>25%</th>\n",
       "      <th>50%</th>\n",
       "      <th>75%</th>\n",
       "      <th>max</th>\n",
       "    </tr>\n",
       "  </thead>\n",
       "  <tbody>\n",
       "    <tr>\n",
       "      <th>MES_T0</th>\n",
       "      <td>73661.0</td>\n",
       "      <td>201807.052986</td>\n",
       "      <td>2.582256</td>\n",
       "      <td>201803.0</td>\n",
       "      <td>201805.00</td>\n",
       "      <td>201807.0</td>\n",
       "      <td>201809.0</td>\n",
       "      <td>201811.00</td>\n",
       "    </tr>\n",
       "    <tr>\n",
       "      <th>ID_CLIENTE</th>\n",
       "      <td>73661.0</td>\n",
       "      <td>47394.093414</td>\n",
       "      <td>29003.402790</td>\n",
       "      <td>1.0</td>\n",
       "      <td>23564.00</td>\n",
       "      <td>43712.0</td>\n",
       "      <td>72122.0</td>\n",
       "      <td>99999.00</td>\n",
       "    </tr>\n",
       "    <tr>\n",
       "      <th>FUGA_3M</th>\n",
       "      <td>73661.0</td>\n",
       "      <td>0.133721</td>\n",
       "      <td>0.340354</td>\n",
       "      <td>0.0</td>\n",
       "      <td>0.00</td>\n",
       "      <td>0.0</td>\n",
       "      <td>0.0</td>\n",
       "      <td>1.00</td>\n",
       "    </tr>\n",
       "    <tr>\n",
       "      <th>RGO_RIEGO_BBVA</th>\n",
       "      <td>73661.0</td>\n",
       "      <td>10.482630</td>\n",
       "      <td>5.772145</td>\n",
       "      <td>1.0</td>\n",
       "      <td>5.00</td>\n",
       "      <td>10.0</td>\n",
       "      <td>15.0</td>\n",
       "      <td>20.00</td>\n",
       "    </tr>\n",
       "    <tr>\n",
       "      <th>RGO_RIESGO_SIST</th>\n",
       "      <td>73661.0</td>\n",
       "      <td>10.487707</td>\n",
       "      <td>5.768797</td>\n",
       "      <td>1.0</td>\n",
       "      <td>5.00</td>\n",
       "      <td>10.0</td>\n",
       "      <td>16.0</td>\n",
       "      <td>20.00</td>\n",
       "    </tr>\n",
       "    <tr>\n",
       "      <th>RGO_SDO_MEDIO_ACTIVO</th>\n",
       "      <td>73661.0</td>\n",
       "      <td>10.437776</td>\n",
       "      <td>5.786781</td>\n",
       "      <td>1.0</td>\n",
       "      <td>5.00</td>\n",
       "      <td>10.0</td>\n",
       "      <td>15.0</td>\n",
       "      <td>20.00</td>\n",
       "    </tr>\n",
       "    <tr>\n",
       "      <th>RGO_SDO_MEDIO_PASIVO</th>\n",
       "      <td>73661.0</td>\n",
       "      <td>10.482318</td>\n",
       "      <td>5.771627</td>\n",
       "      <td>1.0</td>\n",
       "      <td>5.00</td>\n",
       "      <td>10.0</td>\n",
       "      <td>15.0</td>\n",
       "      <td>20.00</td>\n",
       "    </tr>\n",
       "    <tr>\n",
       "      <th>RGO_MARGEN_OPER_MES</th>\n",
       "      <td>73661.0</td>\n",
       "      <td>10.488427</td>\n",
       "      <td>5.778695</td>\n",
       "      <td>1.0</td>\n",
       "      <td>5.00</td>\n",
       "      <td>10.0</td>\n",
       "      <td>15.0</td>\n",
       "      <td>20.00</td>\n",
       "    </tr>\n",
       "    <tr>\n",
       "      <th>RGO_MARGEN_OPER_ACUM</th>\n",
       "      <td>73661.0</td>\n",
       "      <td>10.559333</td>\n",
       "      <td>5.708147</td>\n",
       "      <td>1.0</td>\n",
       "      <td>6.00</td>\n",
       "      <td>11.0</td>\n",
       "      <td>15.0</td>\n",
       "      <td>20.00</td>\n",
       "    </tr>\n",
       "    <tr>\n",
       "      <th>RGO_FACTURA_ANUAL</th>\n",
       "      <td>73661.0</td>\n",
       "      <td>10.399723</td>\n",
       "      <td>5.795914</td>\n",
       "      <td>1.0</td>\n",
       "      <td>5.00</td>\n",
       "      <td>10.0</td>\n",
       "      <td>15.0</td>\n",
       "      <td>20.00</td>\n",
       "    </tr>\n",
       "    <tr>\n",
       "      <th>TO_EMPLEADOS</th>\n",
       "      <td>72211.0</td>\n",
       "      <td>213.794186</td>\n",
       "      <td>10566.006201</td>\n",
       "      <td>0.0</td>\n",
       "      <td>0.00</td>\n",
       "      <td>0.0</td>\n",
       "      <td>1.0</td>\n",
       "      <td>955035.00</td>\n",
       "    </tr>\n",
       "    <tr>\n",
       "      <th>CD_SBS_NORMAL</th>\n",
       "      <td>51297.0</td>\n",
       "      <td>73.679333</td>\n",
       "      <td>42.897517</td>\n",
       "      <td>0.0</td>\n",
       "      <td>26.72</td>\n",
       "      <td>100.0</td>\n",
       "      <td>100.0</td>\n",
       "      <td>100.00</td>\n",
       "    </tr>\n",
       "    <tr>\n",
       "      <th>CD_SBS_CPP</th>\n",
       "      <td>51297.0</td>\n",
       "      <td>2.632929</td>\n",
       "      <td>14.291530</td>\n",
       "      <td>0.0</td>\n",
       "      <td>0.00</td>\n",
       "      <td>0.0</td>\n",
       "      <td>0.0</td>\n",
       "      <td>100.00</td>\n",
       "    </tr>\n",
       "    <tr>\n",
       "      <th>CD_SBS_DDP</th>\n",
       "      <td>51297.0</td>\n",
       "      <td>17.792656</td>\n",
       "      <td>37.361267</td>\n",
       "      <td>0.0</td>\n",
       "      <td>0.00</td>\n",
       "      <td>0.0</td>\n",
       "      <td>0.0</td>\n",
       "      <td>100.01</td>\n",
       "    </tr>\n",
       "  </tbody>\n",
       "</table>\n",
       "</div>"
      ],
      "text/plain": [
       "                        count           mean           std       min  \\\n",
       "MES_T0                73661.0  201807.052986      2.582256  201803.0   \n",
       "ID_CLIENTE            73661.0   47394.093414  29003.402790       1.0   \n",
       "FUGA_3M               73661.0       0.133721      0.340354       0.0   \n",
       "RGO_RIEGO_BBVA        73661.0      10.482630      5.772145       1.0   \n",
       "RGO_RIESGO_SIST       73661.0      10.487707      5.768797       1.0   \n",
       "RGO_SDO_MEDIO_ACTIVO  73661.0      10.437776      5.786781       1.0   \n",
       "RGO_SDO_MEDIO_PASIVO  73661.0      10.482318      5.771627       1.0   \n",
       "RGO_MARGEN_OPER_MES   73661.0      10.488427      5.778695       1.0   \n",
       "RGO_MARGEN_OPER_ACUM  73661.0      10.559333      5.708147       1.0   \n",
       "RGO_FACTURA_ANUAL     73661.0      10.399723      5.795914       1.0   \n",
       "TO_EMPLEADOS          72211.0     213.794186  10566.006201       0.0   \n",
       "CD_SBS_NORMAL         51297.0      73.679333     42.897517       0.0   \n",
       "CD_SBS_CPP            51297.0       2.632929     14.291530       0.0   \n",
       "CD_SBS_DDP            51297.0      17.792656     37.361267       0.0   \n",
       "\n",
       "                            25%       50%       75%        max  \n",
       "MES_T0                201805.00  201807.0  201809.0  201811.00  \n",
       "ID_CLIENTE             23564.00   43712.0   72122.0   99999.00  \n",
       "FUGA_3M                    0.00       0.0       0.0       1.00  \n",
       "RGO_RIEGO_BBVA             5.00      10.0      15.0      20.00  \n",
       "RGO_RIESGO_SIST            5.00      10.0      16.0      20.00  \n",
       "RGO_SDO_MEDIO_ACTIVO       5.00      10.0      15.0      20.00  \n",
       "RGO_SDO_MEDIO_PASIVO       5.00      10.0      15.0      20.00  \n",
       "RGO_MARGEN_OPER_MES        5.00      10.0      15.0      20.00  \n",
       "RGO_MARGEN_OPER_ACUM       6.00      11.0      15.0      20.00  \n",
       "RGO_FACTURA_ANUAL          5.00      10.0      15.0      20.00  \n",
       "TO_EMPLEADOS               0.00       0.0       1.0  955035.00  \n",
       "CD_SBS_NORMAL             26.72     100.0     100.0     100.00  \n",
       "CD_SBS_CPP                 0.00       0.0       0.0     100.00  \n",
       "CD_SBS_DDP                 0.00       0.0       0.0     100.01  "
      ]
     },
     "execution_count": 7,
     "metadata": {},
     "output_type": "execute_result"
    }
   ],
   "source": [
    "df_stock_train.describe().T"
   ]
  },
  {
   "cell_type": "code",
   "execution_count": 8,
   "metadata": {
    "scrolled": true
   },
   "outputs": [
    {
     "data": {
      "text/html": [
       "<div>\n",
       "<style scoped>\n",
       "    .dataframe tbody tr th:only-of-type {\n",
       "        vertical-align: middle;\n",
       "    }\n",
       "\n",
       "    .dataframe tbody tr th {\n",
       "        vertical-align: top;\n",
       "    }\n",
       "\n",
       "    .dataframe thead th {\n",
       "        text-align: right;\n",
       "    }\n",
       "</style>\n",
       "<table border=\"1\" class=\"dataframe\">\n",
       "  <thead>\n",
       "    <tr style=\"text-align: right;\">\n",
       "      <th></th>\n",
       "      <th>count</th>\n",
       "      <th>mean</th>\n",
       "      <th>std</th>\n",
       "      <th>min</th>\n",
       "      <th>25%</th>\n",
       "      <th>50%</th>\n",
       "      <th>75%</th>\n",
       "      <th>max</th>\n",
       "    </tr>\n",
       "  </thead>\n",
       "  <tbody>\n",
       "    <tr>\n",
       "      <th>MES_T0</th>\n",
       "      <td>26338.0</td>\n",
       "      <td>201872.224201</td>\n",
       "      <td>41.994893</td>\n",
       "      <td>201812.0</td>\n",
       "      <td>201812.00</td>\n",
       "      <td>201901.0</td>\n",
       "      <td>201902.00</td>\n",
       "      <td>201902.00</td>\n",
       "    </tr>\n",
       "    <tr>\n",
       "      <th>ID_CLIENTE</th>\n",
       "      <td>26338.0</td>\n",
       "      <td>57288.088883</td>\n",
       "      <td>27188.746346</td>\n",
       "      <td>394.0</td>\n",
       "      <td>28529.25</td>\n",
       "      <td>64161.5</td>\n",
       "      <td>77969.75</td>\n",
       "      <td>97214.00</td>\n",
       "    </tr>\n",
       "    <tr>\n",
       "      <th>FUGA_3M</th>\n",
       "      <td>0.0</td>\n",
       "      <td>NaN</td>\n",
       "      <td>NaN</td>\n",
       "      <td>NaN</td>\n",
       "      <td>NaN</td>\n",
       "      <td>NaN</td>\n",
       "      <td>NaN</td>\n",
       "      <td>NaN</td>\n",
       "    </tr>\n",
       "    <tr>\n",
       "      <th>RGO_RIEGO_BBVA</th>\n",
       "      <td>26338.0</td>\n",
       "      <td>10.548219</td>\n",
       "      <td>5.749604</td>\n",
       "      <td>1.0</td>\n",
       "      <td>6.00</td>\n",
       "      <td>11.0</td>\n",
       "      <td>16.00</td>\n",
       "      <td>20.00</td>\n",
       "    </tr>\n",
       "    <tr>\n",
       "      <th>RGO_RIESGO_SIST</th>\n",
       "      <td>26338.0</td>\n",
       "      <td>10.534019</td>\n",
       "      <td>5.759135</td>\n",
       "      <td>1.0</td>\n",
       "      <td>6.00</td>\n",
       "      <td>11.0</td>\n",
       "      <td>15.00</td>\n",
       "      <td>20.00</td>\n",
       "    </tr>\n",
       "    <tr>\n",
       "      <th>RGO_SDO_MEDIO_ACTIVO</th>\n",
       "      <td>26338.0</td>\n",
       "      <td>10.673665</td>\n",
       "      <td>5.704997</td>\n",
       "      <td>1.0</td>\n",
       "      <td>6.00</td>\n",
       "      <td>11.0</td>\n",
       "      <td>16.00</td>\n",
       "      <td>20.00</td>\n",
       "    </tr>\n",
       "    <tr>\n",
       "      <th>RGO_SDO_MEDIO_PASIVO</th>\n",
       "      <td>26338.0</td>\n",
       "      <td>10.549093</td>\n",
       "      <td>5.751050</td>\n",
       "      <td>1.0</td>\n",
       "      <td>6.00</td>\n",
       "      <td>11.0</td>\n",
       "      <td>16.00</td>\n",
       "      <td>20.00</td>\n",
       "    </tr>\n",
       "    <tr>\n",
       "      <th>RGO_MARGEN_OPER_MES</th>\n",
       "      <td>26338.0</td>\n",
       "      <td>10.532007</td>\n",
       "      <td>5.731330</td>\n",
       "      <td>1.0</td>\n",
       "      <td>6.00</td>\n",
       "      <td>11.0</td>\n",
       "      <td>16.00</td>\n",
       "      <td>20.00</td>\n",
       "    </tr>\n",
       "    <tr>\n",
       "      <th>RGO_MARGEN_OPER_ACUM</th>\n",
       "      <td>26338.0</td>\n",
       "      <td>10.333700</td>\n",
       "      <td>5.922709</td>\n",
       "      <td>1.0</td>\n",
       "      <td>5.00</td>\n",
       "      <td>10.0</td>\n",
       "      <td>16.00</td>\n",
       "      <td>20.00</td>\n",
       "    </tr>\n",
       "    <tr>\n",
       "      <th>RGO_FACTURA_ANUAL</th>\n",
       "      <td>26338.0</td>\n",
       "      <td>10.780090</td>\n",
       "      <td>5.673229</td>\n",
       "      <td>1.0</td>\n",
       "      <td>6.00</td>\n",
       "      <td>11.0</td>\n",
       "      <td>16.00</td>\n",
       "      <td>20.00</td>\n",
       "    </tr>\n",
       "    <tr>\n",
       "      <th>TO_EMPLEADOS</th>\n",
       "      <td>25896.0</td>\n",
       "      <td>179.117431</td>\n",
       "      <td>9734.492860</td>\n",
       "      <td>0.0</td>\n",
       "      <td>0.00</td>\n",
       "      <td>0.0</td>\n",
       "      <td>1.00</td>\n",
       "      <td>775465.00</td>\n",
       "    </tr>\n",
       "    <tr>\n",
       "      <th>CD_SBS_NORMAL</th>\n",
       "      <td>18425.0</td>\n",
       "      <td>73.889005</td>\n",
       "      <td>42.759573</td>\n",
       "      <td>0.0</td>\n",
       "      <td>30.95</td>\n",
       "      <td>100.0</td>\n",
       "      <td>100.00</td>\n",
       "      <td>100.00</td>\n",
       "    </tr>\n",
       "    <tr>\n",
       "      <th>CD_SBS_CPP</th>\n",
       "      <td>18425.0</td>\n",
       "      <td>2.251717</td>\n",
       "      <td>13.230253</td>\n",
       "      <td>0.0</td>\n",
       "      <td>0.00</td>\n",
       "      <td>0.0</td>\n",
       "      <td>0.00</td>\n",
       "      <td>100.00</td>\n",
       "    </tr>\n",
       "    <tr>\n",
       "      <th>CD_SBS_DDP</th>\n",
       "      <td>18425.0</td>\n",
       "      <td>18.160500</td>\n",
       "      <td>37.578570</td>\n",
       "      <td>0.0</td>\n",
       "      <td>0.00</td>\n",
       "      <td>0.0</td>\n",
       "      <td>0.00</td>\n",
       "      <td>100.01</td>\n",
       "    </tr>\n",
       "  </tbody>\n",
       "</table>\n",
       "</div>"
      ],
      "text/plain": [
       "                        count           mean           std       min  \\\n",
       "MES_T0                26338.0  201872.224201     41.994893  201812.0   \n",
       "ID_CLIENTE            26338.0   57288.088883  27188.746346     394.0   \n",
       "FUGA_3M                   0.0            NaN           NaN       NaN   \n",
       "RGO_RIEGO_BBVA        26338.0      10.548219      5.749604       1.0   \n",
       "RGO_RIESGO_SIST       26338.0      10.534019      5.759135       1.0   \n",
       "RGO_SDO_MEDIO_ACTIVO  26338.0      10.673665      5.704997       1.0   \n",
       "RGO_SDO_MEDIO_PASIVO  26338.0      10.549093      5.751050       1.0   \n",
       "RGO_MARGEN_OPER_MES   26338.0      10.532007      5.731330       1.0   \n",
       "RGO_MARGEN_OPER_ACUM  26338.0      10.333700      5.922709       1.0   \n",
       "RGO_FACTURA_ANUAL     26338.0      10.780090      5.673229       1.0   \n",
       "TO_EMPLEADOS          25896.0     179.117431   9734.492860       0.0   \n",
       "CD_SBS_NORMAL         18425.0      73.889005     42.759573       0.0   \n",
       "CD_SBS_CPP            18425.0       2.251717     13.230253       0.0   \n",
       "CD_SBS_DDP            18425.0      18.160500     37.578570       0.0   \n",
       "\n",
       "                            25%       50%        75%        max  \n",
       "MES_T0                201812.00  201901.0  201902.00  201902.00  \n",
       "ID_CLIENTE             28529.25   64161.5   77969.75   97214.00  \n",
       "FUGA_3M                     NaN       NaN        NaN        NaN  \n",
       "RGO_RIEGO_BBVA             6.00      11.0      16.00      20.00  \n",
       "RGO_RIESGO_SIST            6.00      11.0      15.00      20.00  \n",
       "RGO_SDO_MEDIO_ACTIVO       6.00      11.0      16.00      20.00  \n",
       "RGO_SDO_MEDIO_PASIVO       6.00      11.0      16.00      20.00  \n",
       "RGO_MARGEN_OPER_MES        6.00      11.0      16.00      20.00  \n",
       "RGO_MARGEN_OPER_ACUM       5.00      10.0      16.00      20.00  \n",
       "RGO_FACTURA_ANUAL          6.00      11.0      16.00      20.00  \n",
       "TO_EMPLEADOS               0.00       0.0       1.00  775465.00  \n",
       "CD_SBS_NORMAL             30.95     100.0     100.00     100.00  \n",
       "CD_SBS_CPP                 0.00       0.0       0.00     100.00  \n",
       "CD_SBS_DDP                 0.00       0.0       0.00     100.01  "
      ]
     },
     "execution_count": 8,
     "metadata": {},
     "output_type": "execute_result"
    }
   ],
   "source": [
    "df_stock_test.describe().T"
   ]
  },
  {
   "cell_type": "markdown",
   "metadata": {},
   "source": [
    "### Train y test se ven con una distribución similar."
   ]
  },
  {
   "cell_type": "code",
   "execution_count": 12,
   "metadata": {},
   "outputs": [
    {
     "data": {
      "text/html": [
       "<div>\n",
       "<style scoped>\n",
       "    .dataframe tbody tr th:only-of-type {\n",
       "        vertical-align: middle;\n",
       "    }\n",
       "\n",
       "    .dataframe tbody tr th {\n",
       "        vertical-align: top;\n",
       "    }\n",
       "\n",
       "    .dataframe thead th {\n",
       "        text-align: right;\n",
       "    }\n",
       "</style>\n",
       "<table border=\"1\" class=\"dataframe\">\n",
       "  <thead>\n",
       "    <tr style=\"text-align: right;\">\n",
       "      <th></th>\n",
       "      <th>ID</th>\n",
       "      <th>MES_T0</th>\n",
       "      <th>ID_CLIENTE</th>\n",
       "      <th>FUGA_3M</th>\n",
       "      <th>FH_NACIMIENTO</th>\n",
       "      <th>FH_ALTA</th>\n",
       "      <th>RGO_RIEGO_BBVA</th>\n",
       "      <th>RGO_RIESGO_SIST</th>\n",
       "      <th>RGO_SDO_MEDIO_ACTIVO</th>\n",
       "      <th>RGO_SDO_MEDIO_PASIVO</th>\n",
       "      <th>RGO_MARGEN_OPER_MES</th>\n",
       "      <th>RGO_MARGEN_OPER_ACUM</th>\n",
       "      <th>RGO_FACTURA_ANUAL</th>\n",
       "      <th>TO_EMPLEADOS</th>\n",
       "      <th>CD_SBS_NORMAL</th>\n",
       "      <th>CD_SBS_CPP</th>\n",
       "      <th>CD_SBS_DDP</th>\n",
       "      <th>TP_VIVI</th>\n",
       "      <th>TP_PERSONA</th>\n",
       "      <th>TIPO_NEGOCIO</th>\n",
       "    </tr>\n",
       "  </thead>\n",
       "  <tbody>\n",
       "  </tbody>\n",
       "</table>\n",
       "</div>"
      ],
      "text/plain": [
       "Empty DataFrame\n",
       "Columns: [ID, MES_T0, ID_CLIENTE, FUGA_3M, FH_NACIMIENTO, FH_ALTA, RGO_RIEGO_BBVA, RGO_RIESGO_SIST, RGO_SDO_MEDIO_ACTIVO, RGO_SDO_MEDIO_PASIVO, RGO_MARGEN_OPER_MES, RGO_MARGEN_OPER_ACUM, RGO_FACTURA_ANUAL, TO_EMPLEADOS, CD_SBS_NORMAL, CD_SBS_CPP, CD_SBS_DDP, TP_VIVI, TP_PERSONA, TIPO_NEGOCIO]\n",
       "Index: []"
      ]
     },
     "execution_count": 12,
     "metadata": {},
     "output_type": "execute_result"
    }
   ],
   "source": [
    "# Duplicados? (No debería haber)\n",
    "\n",
    "df_stock_train.sort_values([\"MES_T0\",\"ID_CLIENTE\"], inplace = True)\n",
    "bool_series = df_stock_train[[\"MES_T0\",\"ID_CLIENTE\"]].duplicated()\n",
    "df_stock_train[bool_series] "
   ]
  },
  {
   "cell_type": "code",
   "execution_count": 13,
   "metadata": {},
   "outputs": [
    {
     "data": {
      "text/html": [
       "<div>\n",
       "<style scoped>\n",
       "    .dataframe tbody tr th:only-of-type {\n",
       "        vertical-align: middle;\n",
       "    }\n",
       "\n",
       "    .dataframe tbody tr th {\n",
       "        vertical-align: top;\n",
       "    }\n",
       "\n",
       "    .dataframe thead th {\n",
       "        text-align: right;\n",
       "    }\n",
       "</style>\n",
       "<table border=\"1\" class=\"dataframe\">\n",
       "  <thead>\n",
       "    <tr style=\"text-align: right;\">\n",
       "      <th></th>\n",
       "      <th>ID</th>\n",
       "      <th>MES_T0</th>\n",
       "      <th>ID_CLIENTE</th>\n",
       "      <th>FUGA_3M</th>\n",
       "      <th>FH_NACIMIENTO</th>\n",
       "      <th>FH_ALTA</th>\n",
       "      <th>RGO_RIEGO_BBVA</th>\n",
       "      <th>RGO_RIESGO_SIST</th>\n",
       "      <th>RGO_SDO_MEDIO_ACTIVO</th>\n",
       "      <th>RGO_SDO_MEDIO_PASIVO</th>\n",
       "      <th>RGO_MARGEN_OPER_MES</th>\n",
       "      <th>RGO_MARGEN_OPER_ACUM</th>\n",
       "      <th>RGO_FACTURA_ANUAL</th>\n",
       "      <th>TO_EMPLEADOS</th>\n",
       "      <th>CD_SBS_NORMAL</th>\n",
       "      <th>CD_SBS_CPP</th>\n",
       "      <th>CD_SBS_DDP</th>\n",
       "      <th>TP_VIVI</th>\n",
       "      <th>TP_PERSONA</th>\n",
       "      <th>TIPO_NEGOCIO</th>\n",
       "    </tr>\n",
       "  </thead>\n",
       "  <tbody>\n",
       "  </tbody>\n",
       "</table>\n",
       "</div>"
      ],
      "text/plain": [
       "Empty DataFrame\n",
       "Columns: [ID, MES_T0, ID_CLIENTE, FUGA_3M, FH_NACIMIENTO, FH_ALTA, RGO_RIEGO_BBVA, RGO_RIESGO_SIST, RGO_SDO_MEDIO_ACTIVO, RGO_SDO_MEDIO_PASIVO, RGO_MARGEN_OPER_MES, RGO_MARGEN_OPER_ACUM, RGO_FACTURA_ANUAL, TO_EMPLEADOS, CD_SBS_NORMAL, CD_SBS_CPP, CD_SBS_DDP, TP_VIVI, TP_PERSONA, TIPO_NEGOCIO]\n",
       "Index: []"
      ]
     },
     "execution_count": 13,
     "metadata": {},
     "output_type": "execute_result"
    }
   ],
   "source": [
    "\n",
    "df_stock_test.sort_values([\"MES_T0\",\"ID_CLIENTE\"], inplace = True)\n",
    "bool_series = df_stock_test[[\"MES_T0\",\"ID_CLIENTE\"]].duplicated()\n",
    "df_stock_test[bool_series]"
   ]
  },
  {
   "cell_type": "code",
   "execution_count": 25,
   "metadata": {},
   "outputs": [
    {
     "data": {
      "text/html": [
       "<div>\n",
       "<style scoped>\n",
       "    .dataframe tbody tr th:only-of-type {\n",
       "        vertical-align: middle;\n",
       "    }\n",
       "\n",
       "    .dataframe tbody tr th {\n",
       "        vertical-align: top;\n",
       "    }\n",
       "\n",
       "    .dataframe thead th {\n",
       "        text-align: right;\n",
       "    }\n",
       "</style>\n",
       "<table border=\"1\" class=\"dataframe\">\n",
       "  <thead>\n",
       "    <tr style=\"text-align: right;\">\n",
       "      <th></th>\n",
       "      <th>ID</th>\n",
       "      <th>MES_T0</th>\n",
       "      <th>ID_CLIENTE</th>\n",
       "      <th>FUGA_3M</th>\n",
       "      <th>FH_NACIMIENTO</th>\n",
       "      <th>FH_ALTA</th>\n",
       "      <th>RGO_RIEGO_BBVA</th>\n",
       "      <th>RGO_RIESGO_SIST</th>\n",
       "      <th>RGO_SDO_MEDIO_ACTIVO</th>\n",
       "      <th>RGO_SDO_MEDIO_PASIVO</th>\n",
       "      <th>RGO_MARGEN_OPER_MES</th>\n",
       "      <th>RGO_MARGEN_OPER_ACUM</th>\n",
       "      <th>RGO_FACTURA_ANUAL</th>\n",
       "      <th>TO_EMPLEADOS</th>\n",
       "      <th>CD_SBS_NORMAL</th>\n",
       "      <th>CD_SBS_CPP</th>\n",
       "      <th>CD_SBS_DDP</th>\n",
       "      <th>TP_VIVI</th>\n",
       "      <th>TP_PERSONA</th>\n",
       "      <th>TIPO_NEGOCIO</th>\n",
       "    </tr>\n",
       "  </thead>\n",
       "  <tbody>\n",
       "  </tbody>\n",
       "</table>\n",
       "</div>"
      ],
      "text/plain": [
       "Empty DataFrame\n",
       "Columns: [ID, MES_T0, ID_CLIENTE, FUGA_3M, FH_NACIMIENTO, FH_ALTA, RGO_RIEGO_BBVA, RGO_RIESGO_SIST, RGO_SDO_MEDIO_ACTIVO, RGO_SDO_MEDIO_PASIVO, RGO_MARGEN_OPER_MES, RGO_MARGEN_OPER_ACUM, RGO_FACTURA_ANUAL, TO_EMPLEADOS, CD_SBS_NORMAL, CD_SBS_CPP, CD_SBS_DDP, TP_VIVI, TP_PERSONA, TIPO_NEGOCIO]\n",
       "Index: []"
      ]
     },
     "execution_count": 25,
     "metadata": {},
     "output_type": "execute_result"
    }
   ],
   "source": [
    "#Por cliente?\n",
    "df_stock_train.sort_values([\"ID_CLIENTE\"], inplace = True)\n",
    "bool_series = df_stock_train[[\"ID_CLIENTE\"]].duplicated()\n",
    "df_stock_train[bool_series] "
   ]
  },
  {
   "cell_type": "markdown",
   "metadata": {},
   "source": [
    "Sòlo un registro por cliente. Amazing."
   ]
  },
  {
   "cell_type": "markdown",
   "metadata": {},
   "source": [
    "# Distribución del target"
   ]
  },
  {
   "cell_type": "code",
   "execution_count": 14,
   "metadata": {},
   "outputs": [
    {
     "data": {
      "text/plain": [
       "0    63811\n",
       "1     9850\n",
       "Name: FUGA_3M, dtype: int64"
      ]
     },
     "execution_count": 14,
     "metadata": {},
     "output_type": "execute_result"
    }
   ],
   "source": [
    "df_stock_train.FUGA_3M.value_counts(dropna=False).sort_index()"
   ]
  },
  {
   "cell_type": "code",
   "execution_count": 15,
   "metadata": {},
   "outputs": [
    {
     "data": {
      "image/png": "[encoded data removed]",
      "text/plain": [
       "<Figure size 1440x360 with 1 Axes>"
      ]
     },
     "metadata": {
      "needs_background": "light"
     },
     "output_type": "display_data"
    }
   ],
   "source": [
    "plt.figure(figsize=(20,5))\n",
    "plot = sns.countplot(x = 'FUGA_3M', data = df_stock_train)"
   ]
  },
  {
   "cell_type": "markdown",
   "metadata": {},
   "source": [
    "Tengo muchas preguntas xd a ver"
   ]
  },
  {
   "cell_type": "markdown",
   "metadata": {},
   "source": [
    "# Distribución del target por periodo"
   ]
  },
  {
   "cell_type": "code",
   "execution_count": 18,
   "metadata": {},
   "outputs": [
    {
     "data": {
      "text/plain": [
       "<matplotlib.axes._subplots.AxesSubplot at 0x1a20f2f128>"
      ]
     },
     "execution_count": 18,
     "metadata": {},
     "output_type": "execute_result"
    },
    {
     "data": {
      "image/png": "[encoded data removed]",
      "text/plain": [
       "<Figure size 1440x360 with 1 Axes>"
      ]
     },
     "metadata": {
      "needs_background": "light"
     },
     "output_type": "display_data"
    }
   ],
   "source": [
    "plt.figure(figsize=(20,5))\n",
    "sns.barplot(x='MES_T0', y='FUGA_3M', data=df_stock_train)"
   ]
  },
  {
   "cell_type": "markdown",
   "metadata": {},
   "source": [
    "- Poca variación entre el porcentaje total de attrition por periodo (12-15%)\n",
    "- Rangos elevados en la mitad de año. [ojo, periodos que serán evaluados son del fin de año]"
   ]
  },
  {
   "cell_type": "markdown",
   "metadata": {},
   "source": [
    "# Solo se tiene un punto por cliente."
   ]
  },
  {
   "cell_type": "code",
   "execution_count": 27,
   "metadata": {
    "scrolled": true
   },
   "outputs": [
    {
     "data": {
      "text/plain": [
       "32       1\n",
       "37       1\n",
       "43       1\n",
       "79       1\n",
       "85       1\n",
       "114      1\n",
       "177      1\n",
       "183      1\n",
       "189      1\n",
       "215      1\n",
       "257      1\n",
       "385      1\n",
       "390      1\n",
       "393      1\n",
       "395      1\n",
       "406      1\n",
       "412      1\n",
       "447      1\n",
       "489      1\n",
       "510      1\n",
       "530      1\n",
       "554      1\n",
       "558      1\n",
       "566      1\n",
       "578      1\n",
       "638      1\n",
       "651      1\n",
       "662      1\n",
       "663      1\n",
       "682      1\n",
       "        ..\n",
       "93916    1\n",
       "93921    1\n",
       "93935    1\n",
       "93950    1\n",
       "93986    1\n",
       "93996    1\n",
       "94001    1\n",
       "94008    1\n",
       "94021    1\n",
       "94058    1\n",
       "94148    1\n",
       "94154    1\n",
       "94161    1\n",
       "94170    1\n",
       "94179    1\n",
       "94183    1\n",
       "94216    1\n",
       "94219    1\n",
       "94243    1\n",
       "94245    1\n",
       "94246    1\n",
       "94286    1\n",
       "94301    1\n",
       "94329    1\n",
       "94342    1\n",
       "94353    1\n",
       "94366    1\n",
       "94380    1\n",
       "94414    1\n",
       "94415    1\n",
       "Name: ID_CLIENTE, Length: 989, dtype: int64"
      ]
     },
     "execution_count": 27,
     "metadata": {},
     "output_type": "execute_result"
    }
   ],
   "source": [
    "df_stock_train[(df_stock_train['MES_T0'] == 201803) & (df_stock_train['FUGA_3M'] == 1)].ID_CLIENTE.value_counts(dropna=False).sort_index() #7823 clientes"
   ]
  },
  {
   "cell_type": "code",
   "execution_count": 28,
   "metadata": {},
   "outputs": [
    {
     "data": {
      "text/html": [
       "<div>\n",
       "<style scoped>\n",
       "    .dataframe tbody tr th:only-of-type {\n",
       "        vertical-align: middle;\n",
       "    }\n",
       "\n",
       "    .dataframe tbody tr th {\n",
       "        vertical-align: top;\n",
       "    }\n",
       "\n",
       "    .dataframe thead th {\n",
       "        text-align: right;\n",
       "    }\n",
       "</style>\n",
       "<table border=\"1\" class=\"dataframe\">\n",
       "  <thead>\n",
       "    <tr style=\"text-align: right;\">\n",
       "      <th></th>\n",
       "      <th>ID</th>\n",
       "      <th>MES_T0</th>\n",
       "      <th>ID_CLIENTE</th>\n",
       "      <th>FUGA_3M</th>\n",
       "      <th>FH_NACIMIENTO</th>\n",
       "      <th>FH_ALTA</th>\n",
       "      <th>RGO_RIEGO_BBVA</th>\n",
       "      <th>RGO_RIESGO_SIST</th>\n",
       "      <th>RGO_SDO_MEDIO_ACTIVO</th>\n",
       "      <th>RGO_SDO_MEDIO_PASIVO</th>\n",
       "      <th>RGO_MARGEN_OPER_MES</th>\n",
       "      <th>RGO_MARGEN_OPER_ACUM</th>\n",
       "      <th>RGO_FACTURA_ANUAL</th>\n",
       "      <th>TO_EMPLEADOS</th>\n",
       "      <th>CD_SBS_NORMAL</th>\n",
       "      <th>CD_SBS_CPP</th>\n",
       "      <th>CD_SBS_DDP</th>\n",
       "      <th>TP_VIVI</th>\n",
       "      <th>TP_PERSONA</th>\n",
       "      <th>TIPO_NEGOCIO</th>\n",
       "    </tr>\n",
       "  </thead>\n",
       "  <tbody>\n",
       "    <tr>\n",
       "      <th>2923</th>\n",
       "      <td>201803_32</td>\n",
       "      <td>201803</td>\n",
       "      <td>32</td>\n",
       "      <td>1</td>\n",
       "      <td>1990-01-05 00:00:00</td>\n",
       "      <td>2017-10-24 00:00:00</td>\n",
       "      <td>1</td>\n",
       "      <td>2</td>\n",
       "      <td>10</td>\n",
       "      <td>3</td>\n",
       "      <td>1</td>\n",
       "      <td>1</td>\n",
       "      <td>11</td>\n",
       "      <td>0.0</td>\n",
       "      <td>100.0</td>\n",
       "      <td>0.0</td>\n",
       "      <td>0.0</td>\n",
       "      <td>HOGAR</td>\n",
       "      <td>F</td>\n",
       "      <td>PNN</td>\n",
       "    </tr>\n",
       "  </tbody>\n",
       "</table>\n",
       "</div>"
      ],
      "text/plain": [
       "             ID  MES_T0  ID_CLIENTE  FUGA_3M        FH_NACIMIENTO  \\\n",
       "2923  201803_32  201803          32        1  1990-01-05 00:00:00   \n",
       "\n",
       "                  FH_ALTA  RGO_RIEGO_BBVA  RGO_RIESGO_SIST  \\\n",
       "2923  2017-10-24 00:00:00               1                2   \n",
       "\n",
       "      RGO_SDO_MEDIO_ACTIVO  RGO_SDO_MEDIO_PASIVO  RGO_MARGEN_OPER_MES  \\\n",
       "2923                    10                     3                    1   \n",
       "\n",
       "      RGO_MARGEN_OPER_ACUM  RGO_FACTURA_ANUAL  TO_EMPLEADOS  CD_SBS_NORMAL  \\\n",
       "2923                     1                 11           0.0          100.0   \n",
       "\n",
       "      CD_SBS_CPP  CD_SBS_DDP TP_VIVI TP_PERSONA TIPO_NEGOCIO  \n",
       "2923         0.0         0.0   HOGAR          F          PNN  "
      ]
     },
     "execution_count": 28,
     "metadata": {},
     "output_type": "execute_result"
    }
   ],
   "source": [
    "#Historia del cliente 32\n",
    "df_stock_train[df_stock_train['ID_CLIENTE'] == 32]"
   ]
  },
  {
   "cell_type": "markdown",
   "metadata": {},
   "source": [
    "A la hora de comparar con otros datasets, revisar que si hay informacion de estos clientes en abandono en pasados los 3 meses, ya que se podrian descubrir data leaks"
   ]
  },
  {
   "cell_type": "markdown",
   "metadata": {},
   "source": [
    "# Correlación entre rangos"
   ]
  },
  {
   "cell_type": "code",
   "execution_count": 29,
   "metadata": {},
   "outputs": [],
   "source": [
    "rang_cols = ['RGO_RIEGO_BBVA','RGO_RIESGO_SIST','RGO_SDO_MEDIO_ACTIVO',\n",
    "             'RGO_SDO_MEDIO_PASIVO','RGO_MARGEN_OPER_MES','RGO_MARGEN_OPER_ACUM','RGO_FACTURA_ANUAL']"
   ]
  },
  {
   "cell_type": "code",
   "execution_count": 30,
   "metadata": {},
   "outputs": [
    {
     "data": {
      "text/plain": [
       "<matplotlib.axes._subplots.AxesSubplot at 0x1a2147f1d0>"
      ]
     },
     "execution_count": 30,
     "metadata": {},
     "output_type": "execute_result"
    },
    {
     "data": {
      "image/png": "[encoded data removed]",
      "text/plain": [
       "<Figure size 1296x720 with 2 Axes>"
      ]
     },
     "metadata": {
      "needs_background": "light"
     },
     "output_type": "display_data"
    }
   ],
   "source": [
    "# Heatmap train\n",
    "plt.figure(figsize=(18,10))\n",
    "sns.heatmap(df_stock_train[rang_cols].corr(),annot=True)"
   ]
  },
  {
   "cell_type": "code",
   "execution_count": 31,
   "metadata": {},
   "outputs": [
    {
     "data": {
      "text/plain": [
       "<matplotlib.axes._subplots.AxesSubplot at 0x1a2147f470>"
      ]
     },
     "execution_count": 31,
     "metadata": {},
     "output_type": "execute_result"
    },
    {
     "data": {
      "image/png": "[encoded data removed]",
      "text/plain": [
       "<Figure size 1296x720 with 2 Axes>"
      ]
     },
     "metadata": {
      "needs_background": "light"
     },
     "output_type": "display_data"
    }
   ],
   "source": [
    "# Heatmap test\n",
    "plt.figure(figsize=(18,10))\n",
    "sns.heatmap(df_stock_test[rang_cols].corr(),annot=True)"
   ]
  },
  {
   "cell_type": "markdown",
   "metadata": {},
   "source": [
    "### Hay correlaciones fuertes entre los rangos,como es de esperarse. Todos son en el tiempo N-1."
   ]
  },
  {
   "cell_type": "markdown",
   "metadata": {},
   "source": [
    "# Analisis por el total de empleados. (Deberia tener relación con el tipo de empresa)"
   ]
  },
  {
   "cell_type": "code",
   "execution_count": 32,
   "metadata": {},
   "outputs": [
    {
     "data": {
      "text/plain": [
       "0.0         53422\n",
       "1.0          6544\n",
       "2.0          4857\n",
       "3.0          2027\n",
       "4.0           951\n",
       "5.0          1531\n",
       "6.0           445\n",
       "7.0           175\n",
       "8.0           250\n",
       "9.0           106\n",
       "10.0          627\n",
       "11.0          118\n",
       "12.0          174\n",
       "13.0           33\n",
       "14.0           32\n",
       "15.0          187\n",
       "16.0           42\n",
       "17.0           29\n",
       "18.0           40\n",
       "19.0           14\n",
       "20.0          128\n",
       "21.0           18\n",
       "22.0           18\n",
       "23.0           18\n",
       "24.0           12\n",
       "25.0           40\n",
       "26.0            8\n",
       "27.0            2\n",
       "28.0           11\n",
       "29.0            5\n",
       "            ...  \n",
       "123703.0        1\n",
       "124651.0        1\n",
       "128772.0        1\n",
       "130942.0        1\n",
       "130953.0        1\n",
       "134001.0        1\n",
       "137319.0        1\n",
       "140568.0        1\n",
       "150121.0        1\n",
       "150122.0        1\n",
       "206018.0        1\n",
       "206029.0        1\n",
       "347608.0        2\n",
       "392996.0        1\n",
       "406336.0        1\n",
       "436884.0        1\n",
       "467099.0        1\n",
       "471520.0        1\n",
       "546921.0        1\n",
       "601207.0        1\n",
       "653892.0        1\n",
       "660335.0        1\n",
       "698197.0        2\n",
       "703105.0        1\n",
       "709674.0        1\n",
       "727261.0        1\n",
       "789533.0        1\n",
       "940078.0        1\n",
       "955035.0        1\n",
       "NaN          1450\n",
       "Name: TO_EMPLEADOS, Length: 170, dtype: int64"
      ]
     },
     "execution_count": 32,
     "metadata": {},
     "output_type": "execute_result"
    }
   ],
   "source": [
    "#Train\n",
    "df_stock_train.TO_EMPLEADOS.value_counts(dropna=False).sort_index() # Mayoria en 0"
   ]
  },
  {
   "cell_type": "code",
   "execution_count": 34,
   "metadata": {
    "scrolled": true
   },
   "outputs": [
    {
     "data": {
      "image/png": "[encoded data removed]",
      "text/plain": [
       "<Figure size 1440x360 with 1 Axes>"
      ]
     },
     "metadata": {
      "needs_background": "light"
     },
     "output_type": "display_data"
    }
   ],
   "source": [
    "#Train\n",
    "plt.figure(figsize=(20,5))\n",
    "plot = sns.countplot(x = 'TO_EMPLEADOS', data = df_stock_train) # flags por intervalos? analizar cuales son las empresas que tienen 0"
   ]
  },
  {
   "cell_type": "code",
   "execution_count": 35,
   "metadata": {
    "scrolled": true
   },
   "outputs": [
    {
     "data": {
      "text/plain": [
       "0.0         19266\n",
       "1.0          2304\n",
       "2.0          1698\n",
       "3.0           698\n",
       "4.0           366\n",
       "5.0           546\n",
       "6.0           148\n",
       "7.0            68\n",
       "8.0            92\n",
       "9.0            35\n",
       "10.0          237\n",
       "11.0           39\n",
       "12.0           53\n",
       "13.0           12\n",
       "14.0           14\n",
       "15.0           67\n",
       "16.0           16\n",
       "17.0           11\n",
       "18.0            9\n",
       "19.0            4\n",
       "20.0           38\n",
       "21.0            2\n",
       "22.0            5\n",
       "23.0            8\n",
       "24.0            8\n",
       "25.0           11\n",
       "26.0            3\n",
       "27.0            4\n",
       "28.0            5\n",
       "29.0            1\n",
       "            ...  \n",
       "3566.0          1\n",
       "4530.0          1\n",
       "4641.0          1\n",
       "4741.0          1\n",
       "4923.0          1\n",
       "6205.0          1\n",
       "7110.0          1\n",
       "7229.0          1\n",
       "7547.0          1\n",
       "9609.0          2\n",
       "30000.0         1\n",
       "30091.0         1\n",
       "35465.0         1\n",
       "40143.0         1\n",
       "42019.0         1\n",
       "51906.0         1\n",
       "60230.0         1\n",
       "64207.0         1\n",
       "102779.0        1\n",
       "111205.0        1\n",
       "128772.0        1\n",
       "134001.0        1\n",
       "136333.0        1\n",
       "222437.0        1\n",
       "422513.0        1\n",
       "682400.0        1\n",
       "704310.0        1\n",
       "755075.0        1\n",
       "775465.0        1\n",
       "NaN           442\n",
       "Name: TO_EMPLEADOS, Length: 113, dtype: int64"
      ]
     },
     "execution_count": 35,
     "metadata": {},
     "output_type": "execute_result"
    }
   ],
   "source": [
    "#Test\n",
    "df_stock_test.TO_EMPLEADOS.value_counts(dropna=False).sort_index() "
   ]
  },
  {
   "cell_type": "code",
   "execution_count": 36,
   "metadata": {},
   "outputs": [
    {
     "data": {
      "image/png": "[encoded data removed]",
      "text/plain": [
       "<Figure size 1440x360 with 1 Axes>"
      ]
     },
     "metadata": {
      "needs_background": "light"
     },
     "output_type": "display_data"
    }
   ],
   "source": [
    "#Test\n",
    "plt.figure(figsize=(20,5))\n",
    "plot = sns.countplot(x = 'TO_EMPLEADOS', data = df_stock_test) # Esperaria que gran mayoria sea pymes"
   ]
  },
  {
   "cell_type": "markdown",
   "metadata": {},
   "source": [
    "### Revisar a que negocio pertenecen aquellos que tienen 0 empleados y nulos"
   ]
  },
  {
   "cell_type": "code",
   "execution_count": 5,
   "metadata": {},
   "outputs": [
    {
     "data": {
      "text/plain": [
       "PNN     50906\n",
       "Pyme     2516\n",
       "Name: TIPO_NEGOCIO, dtype: int64"
      ]
     },
     "execution_count": 5,
     "metadata": {},
     "output_type": "execute_result"
    }
   ],
   "source": [
    "\n",
    "df_stock_train[df_stock_train['TO_EMPLEADOS'] == 0].TIPO_NEGOCIO.value_counts(dropna=False).sort_index() "
   ]
  },
  {
   "cell_type": "code",
   "execution_count": 6,
   "metadata": {},
   "outputs": [
    {
     "data": {
      "text/plain": [
       "PNN     18453\n",
       "Pyme      813\n",
       "Name: TIPO_NEGOCIO, dtype: int64"
      ]
     },
     "execution_count": 6,
     "metadata": {},
     "output_type": "execute_result"
    }
   ],
   "source": [
    "df_stock_test[df_stock_test['TO_EMPLEADOS'] == 0].TIPO_NEGOCIO.value_counts(dropna=False).sort_index() "
   ]
  },
  {
   "cell_type": "markdown",
   "metadata": {},
   "source": [
    "#### PNN para empleados en 0"
   ]
  },
  {
   "cell_type": "code",
   "execution_count": 7,
   "metadata": {},
   "outputs": [
    {
     "data": {
      "text/plain": [
       "PNN     942\n",
       "Pyme    508\n",
       "Name: TIPO_NEGOCIO, dtype: int64"
      ]
     },
     "execution_count": 7,
     "metadata": {},
     "output_type": "execute_result"
    }
   ],
   "source": [
    "# Revisar a que negocio pertenecen aquellos que tienen null en nro de emplds.\n",
    "df_stock_train[df_stock_train['TO_EMPLEADOS'].isnull()].TIPO_NEGOCIO.value_counts(dropna=False).sort_index() "
   ]
  },
  {
   "cell_type": "code",
   "execution_count": 8,
   "metadata": {},
   "outputs": [
    {
     "data": {
      "text/plain": [
       "PNN     290\n",
       "Pyme    152\n",
       "Name: TIPO_NEGOCIO, dtype: int64"
      ]
     },
     "execution_count": 8,
     "metadata": {},
     "output_type": "execute_result"
    }
   ],
   "source": [
    "# Revisar a que negocio pertenecen aquellos que tienen null en nro de emplds.\n",
    "df_stock_test[df_stock_test['TO_EMPLEADOS'].isnull()].TIPO_NEGOCIO.value_counts(dropna=False).sort_index() "
   ]
  },
  {
   "cell_type": "markdown",
   "metadata": {},
   "source": [
    "#### Variado"
   ]
  },
  {
   "cell_type": "markdown",
   "metadata": {},
   "source": [
    "### Revisar a que persona pertenecen aquellos que tienen 0 empleados y nulos"
   ]
  },
  {
   "cell_type": "code",
   "execution_count": 9,
   "metadata": {},
   "outputs": [
    {
     "data": {
      "text/plain": [
       "A    11519\n",
       "F    39389\n",
       "J     2514\n",
       "Name: TP_PERSONA, dtype: int64"
      ]
     },
     "execution_count": 9,
     "metadata": {},
     "output_type": "execute_result"
    }
   ],
   "source": [
    "\n",
    "df_stock_train[df_stock_train['TO_EMPLEADOS'] == 0].TP_PERSONA.value_counts(dropna=False).sort_index() "
   ]
  },
  {
   "cell_type": "code",
   "execution_count": 10,
   "metadata": {},
   "outputs": [
    {
     "data": {
      "text/plain": [
       "A     4152\n",
       "F    14301\n",
       "J      813\n",
       "Name: TP_PERSONA, dtype: int64"
      ]
     },
     "execution_count": 10,
     "metadata": {},
     "output_type": "execute_result"
    }
   ],
   "source": [
    "df_stock_test[df_stock_test['TO_EMPLEADOS'] == 0].TP_PERSONA.value_counts(dropna=False).sort_index() "
   ]
  },
  {
   "cell_type": "markdown",
   "metadata": {},
   "source": [
    "#### Variado"
   ]
  },
  {
   "cell_type": "code",
   "execution_count": 13,
   "metadata": {},
   "outputs": [
    {
     "data": {
      "text/plain": [
       "A    154\n",
       "F    788\n",
       "J    508\n",
       "Name: TP_PERSONA, dtype: int64"
      ]
     },
     "execution_count": 13,
     "metadata": {},
     "output_type": "execute_result"
    }
   ],
   "source": [
    "df_stock_train[df_stock_train['TO_EMPLEADOS'].isnull()].TP_PERSONA.value_counts(dropna=False).sort_index() "
   ]
  },
  {
   "cell_type": "code",
   "execution_count": 14,
   "metadata": {},
   "outputs": [
    {
     "data": {
      "text/plain": [
       "A     39\n",
       "F    251\n",
       "J    152\n",
       "Name: TP_PERSONA, dtype: int64"
      ]
     },
     "execution_count": 14,
     "metadata": {},
     "output_type": "execute_result"
    }
   ],
   "source": [
    "df_stock_test[df_stock_test['TO_EMPLEADOS'].isnull()].TP_PERSONA.value_counts(dropna=False).sort_index() "
   ]
  },
  {
   "cell_type": "markdown",
   "metadata": {},
   "source": [
    "#### F y J suben bastante en nulos"
   ]
  },
  {
   "cell_type": "markdown",
   "metadata": {},
   "source": [
    "### Revisar a que tipo de vivienda pertenecen aquellos que tienen null en nro de emplds."
   ]
  },
  {
   "cell_type": "code",
   "execution_count": 11,
   "metadata": {},
   "outputs": [
    {
     "data": {
      "text/plain": [
       "HOGAR      50833\n",
       "LEGAL       2510\n",
       "TRABAJO        6\n",
       "NaN           73\n",
       "Name: TP_VIVI, dtype: int64"
      ]
     },
     "execution_count": 11,
     "metadata": {},
     "output_type": "execute_result"
    }
   ],
   "source": [
    "\n",
    "df_stock_train[df_stock_train['TO_EMPLEADOS']==0].TP_VIVI.value_counts(dropna=False).sort_index() "
   ]
  },
  {
   "cell_type": "code",
   "execution_count": 12,
   "metadata": {},
   "outputs": [
    {
     "data": {
      "text/plain": [
       "HOGAR      18450\n",
       "LEGAL        814\n",
       "TRABAJO        2\n",
       "Name: TP_VIVI, dtype: int64"
      ]
     },
     "execution_count": 12,
     "metadata": {},
     "output_type": "execute_result"
    }
   ],
   "source": [
    "df_stock_test[df_stock_test['TO_EMPLEADOS']==0].TP_VIVI.value_counts(dropna=False).sort_index() "
   ]
  },
  {
   "cell_type": "markdown",
   "metadata": {},
   "source": [
    "#### HOGAR para empleados en 0, mayormente."
   ]
  },
  {
   "cell_type": "code",
   "execution_count": 16,
   "metadata": {},
   "outputs": [
    {
     "data": {
      "text/plain": [
       "HOGAR    514\n",
       "LEGAL    119\n",
       "NaN      817\n",
       "Name: TP_VIVI, dtype: int64"
      ]
     },
     "execution_count": 16,
     "metadata": {},
     "output_type": "execute_result"
    }
   ],
   "source": [
    "\n",
    "df_stock_train[df_stock_train['TO_EMPLEADOS'].isnull()].TP_VIVI.value_counts(dropna=False).sort_index() "
   ]
  },
  {
   "cell_type": "code",
   "execution_count": 17,
   "metadata": {},
   "outputs": [
    {
     "data": {
      "text/plain": [
       "HOGAR    155\n",
       "LEGAL     43\n",
       "NaN      244\n",
       "Name: TP_VIVI, dtype: int64"
      ]
     },
     "execution_count": 17,
     "metadata": {},
     "output_type": "execute_result"
    }
   ],
   "source": [
    "df_stock_test[df_stock_test['TO_EMPLEADOS'].isnull()].TP_VIVI.value_counts(dropna=False).sort_index() "
   ]
  },
  {
   "cell_type": "markdown",
   "metadata": {},
   "source": [
    "### Existe una correspondencia entre los nulos de total de empleados y tipo de vivienda. Ojo al llenar."
   ]
  },
  {
   "cell_type": "markdown",
   "metadata": {},
   "source": [
    "# Analisis del tipo de vivienda"
   ]
  },
  {
   "cell_type": "code",
   "execution_count": 39,
   "metadata": {},
   "outputs": [
    {
     "data": {
      "text/plain": [
       "HOGAR      51646\n",
       "LEGAL      21082\n",
       "TRABAJO        6\n",
       "NaN          927\n",
       "Name: TP_VIVI, dtype: int64"
      ]
     },
     "execution_count": 39,
     "metadata": {},
     "output_type": "execute_result"
    }
   ],
   "source": [
    "#Train\n",
    "df_stock_train.TP_VIVI.value_counts(dropna=False).sort_index() #Mas del doble en hogar"
   ]
  },
  {
   "cell_type": "code",
   "execution_count": 41,
   "metadata": {},
   "outputs": [
    {
     "data": {
      "text/plain": [
       "HOGAR      18689\n",
       "LEGAL       7403\n",
       "TRABAJO        2\n",
       "NaN          244\n",
       "Name: TP_VIVI, dtype: int64"
      ]
     },
     "execution_count": 41,
     "metadata": {},
     "output_type": "execute_result"
    }
   ],
   "source": [
    "#Test\n",
    "df_stock_test.TP_VIVI.value_counts(dropna=False).sort_index()"
   ]
  },
  {
   "cell_type": "markdown",
   "metadata": {},
   "source": [
    "### Análisis contra el target"
   ]
  },
  {
   "cell_type": "code",
   "execution_count": 45,
   "metadata": {},
   "outputs": [
    {
     "data": {
      "text/plain": [
       "<matplotlib.axes._subplots.AxesSubplot at 0x1a21dfb550>"
      ]
     },
     "execution_count": 45,
     "metadata": {},
     "output_type": "execute_result"
    },
    {
     "data": {
      "image/png": "[encoded data removed]",
      "text/plain": [
       "<Figure size 1440x360 with 1 Axes>"
      ]
     },
     "metadata": {
      "needs_background": "light"
     },
     "output_type": "display_data"
    }
   ],
   "source": [
    "plt.figure(figsize=(20,5))\n",
    "sns.barplot(x='TP_VIVI', y='FUGA_3M', data=df_stock_train.fillna('nans')) \n",
    "# Nulos tienen variacion. Trabajo no abandona."
   ]
  },
  {
   "cell_type": "code",
   "execution_count": 46,
   "metadata": {},
   "outputs": [
    {
     "data": {
      "text/plain": [
       "0    6\n",
       "Name: FUGA_3M, dtype: int64"
      ]
     },
     "execution_count": 46,
     "metadata": {},
     "output_type": "execute_result"
    }
   ],
   "source": [
    "df_stock_train[df_stock_train['TP_VIVI'] == 'TRABAJO'].FUGA_3M.value_counts(dropna=False).sort_index()"
   ]
  },
  {
   "cell_type": "code",
   "execution_count": 47,
   "metadata": {},
   "outputs": [
    {
     "data": {
      "text/plain": [
       "0    808\n",
       "1    119\n",
       "Name: FUGA_3M, dtype: int64"
      ]
     },
     "execution_count": 47,
     "metadata": {},
     "output_type": "execute_result"
    }
   ],
   "source": [
    "df_stock_train[df_stock_train['TP_VIVI'].isnull()].FUGA_3M.value_counts(dropna=False).sort_index()"
   ]
  },
  {
   "cell_type": "markdown",
   "metadata": {},
   "source": [
    "# Analisis del tipo de persona"
   ]
  },
  {
   "cell_type": "code",
   "execution_count": 55,
   "metadata": {
    "scrolled": true
   },
   "outputs": [
    {
     "data": {
      "text/plain": [
       "A    11899\n",
       "F    40250\n",
       "J    21512\n",
       "Name: TP_PERSONA, dtype: int64"
      ]
     },
     "execution_count": 55,
     "metadata": {},
     "output_type": "execute_result"
    }
   ],
   "source": [
    "#Train\n",
    "df_stock_train.TP_PERSONA.value_counts(dropna=False).sort_index()"
   ]
  },
  {
   "cell_type": "code",
   "execution_count": 56,
   "metadata": {},
   "outputs": [
    {
     "data": {
      "image/png": "[encoded data removed]",
      "text/plain": [
       "<Figure size 1440x360 with 1 Axes>"
      ]
     },
     "metadata": {
      "needs_background": "light"
     },
     "output_type": "display_data"
    }
   ],
   "source": [
    "#Train\n",
    "plt.figure(figsize=(20,5))\n",
    "plot = sns.countplot(x = 'TP_PERSONA', data = df_stock_train)"
   ]
  },
  {
   "cell_type": "code",
   "execution_count": 53,
   "metadata": {},
   "outputs": [
    {
     "data": {
      "text/plain": [
       "A     4249\n",
       "F    14578\n",
       "J     7511\n",
       "Name: TP_PERSONA, dtype: int64"
      ]
     },
     "execution_count": 53,
     "metadata": {},
     "output_type": "execute_result"
    }
   ],
   "source": [
    "#Test\n",
    "df_stock_test.TP_PERSONA.value_counts(dropna=False).sort_index()"
   ]
  },
  {
   "cell_type": "code",
   "execution_count": 54,
   "metadata": {},
   "outputs": [
    {
     "data": {
      "image/png": "[encoded data removed]",
      "text/plain": [
       "<Figure size 1440x360 with 1 Axes>"
      ]
     },
     "metadata": {
      "needs_background": "light"
     },
     "output_type": "display_data"
    }
   ],
   "source": [
    "#Test\n",
    "plt.figure(figsize=(20,5))\n",
    "plot = sns.countplot(x = 'TP_PERSONA', data = df_stock_test)"
   ]
  },
  {
   "cell_type": "markdown",
   "metadata": {},
   "source": [
    "### Misma distribucion entre train y test (me asusté pero en la x axis se ordena la A y la F al revés xd)"
   ]
  },
  {
   "cell_type": "markdown",
   "metadata": {},
   "source": [
    "### Análisis contra el target"
   ]
  },
  {
   "cell_type": "code",
   "execution_count": 58,
   "metadata": {},
   "outputs": [
    {
     "data": {
      "text/plain": [
       "<matplotlib.axes._subplots.AxesSubplot at 0x1a22a71080>"
      ]
     },
     "execution_count": 58,
     "metadata": {},
     "output_type": "execute_result"
    },
    {
     "data": {
      "image/png": "[encoded data removed]",
      "text/plain": [
       "<Figure size 1440x360 with 1 Axes>"
      ]
     },
     "metadata": {
      "needs_background": "light"
     },
     "output_type": "display_data"
    }
   ],
   "source": [
    "plt.figure(figsize=(20,5))\n",
    "sns.barplot(x='TP_PERSONA', y='FUGA_3M', data=df_stock_train.fillna('nans')) "
   ]
  },
  {
   "cell_type": "markdown",
   "metadata": {},
   "source": [
    "F tiene más abandono en promedio, seguido del tipo persona A."
   ]
  },
  {
   "cell_type": "markdown",
   "metadata": {},
   "source": [
    "# Analisis del tipo de negocio"
   ]
  },
  {
   "cell_type": "code",
   "execution_count": 60,
   "metadata": {},
   "outputs": [
    {
     "data": {
      "text/plain": [
       "PNN     52147\n",
       "Pyme    21514\n",
       "Name: TIPO_NEGOCIO, dtype: int64"
      ]
     },
     "execution_count": 60,
     "metadata": {},
     "output_type": "execute_result"
    }
   ],
   "source": [
    "#Train\n",
    "df_stock_train.TIPO_NEGOCIO.value_counts(dropna=False).sort_index()"
   ]
  },
  {
   "cell_type": "code",
   "execution_count": 61,
   "metadata": {},
   "outputs": [
    {
     "data": {
      "image/png": "[encoded data removed]",
      "text/plain": [
       "<Figure size 1440x360 with 1 Axes>"
      ]
     },
     "metadata": {
      "needs_background": "light"
     },
     "output_type": "display_data"
    }
   ],
   "source": [
    "#Train\n",
    "plt.figure(figsize=(20,5))\n",
    "plot = sns.countplot(x = 'TIPO_NEGOCIO', data = df_stock_train)"
   ]
  },
  {
   "cell_type": "code",
   "execution_count": 62,
   "metadata": {},
   "outputs": [
    {
     "data": {
      "text/plain": [
       "PNN     18827\n",
       "Pyme     7511\n",
       "Name: TIPO_NEGOCIO, dtype: int64"
      ]
     },
     "execution_count": 62,
     "metadata": {},
     "output_type": "execute_result"
    }
   ],
   "source": [
    "#Test\n",
    "df_stock_test.TIPO_NEGOCIO.value_counts(dropna=False).sort_index()"
   ]
  },
  {
   "cell_type": "code",
   "execution_count": 63,
   "metadata": {},
   "outputs": [
    {
     "data": {
      "image/png": "[encoded data removed]",
      "text/plain": [
       "<Figure size 1440x360 with 1 Axes>"
      ]
     },
     "metadata": {
      "needs_background": "light"
     },
     "output_type": "display_data"
    }
   ],
   "source": [
    "#Test\n",
    "plt.figure(figsize=(20,5))\n",
    "plot = sns.countplot(x = 'TIPO_NEGOCIO', data = df_stock_test)"
   ]
  },
  {
   "cell_type": "markdown",
   "metadata": {},
   "source": [
    "### Same dist"
   ]
  },
  {
   "cell_type": "markdown",
   "metadata": {},
   "source": [
    "### Análisis contra el target"
   ]
  },
  {
   "cell_type": "code",
   "execution_count": 64,
   "metadata": {
    "scrolled": true
   },
   "outputs": [
    {
     "data": {
      "text/plain": [
       "<matplotlib.axes._subplots.AxesSubplot at 0x1a232ffe48>"
      ]
     },
     "execution_count": 64,
     "metadata": {},
     "output_type": "execute_result"
    },
    {
     "data": {
      "image/png": "[encoded data removed]",
      "text/plain": [
       "<Figure size 1440x360 with 1 Axes>"
      ]
     },
     "metadata": {
      "needs_background": "light"
     },
     "output_type": "display_data"
    }
   ],
   "source": [
    "plt.figure(figsize=(20,5))\n",
    "sns.barplot(x='TIPO_NEGOCIO', y='FUGA_3M', data=df_stock_train.fillna('nans')) "
   ]
  },
  {
   "cell_type": "markdown",
   "metadata": {},
   "source": [
    "#### PNN presenta mayor abandono en promedio"
   ]
  },
  {
   "cell_type": "markdown",
   "metadata": {},
   "source": [
    "# Analisis de variables de la SBS"
   ]
  },
  {
   "cell_type": "markdown",
   "metadata": {},
   "source": [
    "## CD_SBS_NORMAL"
   ]
  },
  {
   "cell_type": "code",
   "execution_count": 22,
   "metadata": {},
   "outputs": [
    {
     "data": {
      "image/png": "[encoded data removed]",
      "text/plain": [
       "<Figure size 432x288 with 1 Axes>"
      ]
     },
     "metadata": {
      "needs_background": "light"
     },
     "output_type": "display_data"
    }
   ],
   "source": [
    "#Train\n",
    "sns.distplot(df_stock_train['CD_SBS_NORMAL'], bins=10);"
   ]
  },
  {
   "cell_type": "code",
   "execution_count": 23,
   "metadata": {
    "scrolled": true
   },
   "outputs": [
    {
     "data": {
      "image/png": "[encoded data removed]",
      "text/plain": [
       "<Figure size 432x288 with 1 Axes>"
      ]
     },
     "metadata": {
      "needs_background": "light"
     },
     "output_type": "display_data"
    }
   ],
   "source": [
    "#Test\n",
    "sns.distplot(df_stock_test['CD_SBS_NORMAL'], bins=10);"
   ]
  },
  {
   "cell_type": "markdown",
   "metadata": {},
   "source": [
    "### Analisis con target"
   ]
  },
  {
   "cell_type": "code",
   "execution_count": 34,
   "metadata": {},
   "outputs": [
    {
     "data": {
      "image/png": "[encoded data removed]",
      "text/plain": [
       "<Figure size 1440x360 with 1 Axes>"
      ]
     },
     "metadata": {
      "needs_background": "light"
     },
     "output_type": "display_data"
    }
   ],
   "source": [
    "# Evaluaciones menores a 73 (mean)\n",
    "plt.figure(figsize=(20,5))\n",
    "plot = sns.countplot(x = 'FUGA_3M', data = df_stock_train[df_stock_train['CD_SBS_NORMAL'] < 73])"
   ]
  },
  {
   "cell_type": "code",
   "execution_count": 37,
   "metadata": {},
   "outputs": [
    {
     "data": {
      "text/plain": [
       "0    0.812487\n",
       "1    0.187513\n",
       "Name: FUGA_3M, dtype: float64"
      ]
     },
     "execution_count": 37,
     "metadata": {},
     "output_type": "execute_result"
    }
   ],
   "source": [
    "df_stock_train[df_stock_train['CD_SBS_NORMAL'] < 73].FUGA_3M.value_counts(normalize=True) # Mayor al promedio general en unos"
   ]
  },
  {
   "cell_type": "code",
   "execution_count": 32,
   "metadata": {},
   "outputs": [
    {
     "data": {
      "image/png": "[encoded data removed]",
      "text/plain": [
       "<Figure size 1440x360 with 1 Axes>"
      ]
     },
     "metadata": {
      "needs_background": "light"
     },
     "output_type": "display_data"
    }
   ],
   "source": [
    "# Evaluaciones mayores o iguales a 73 (mean)\n",
    "plt.figure(figsize=(20,5))\n",
    "plot = sns.countplot(x = 'FUGA_3M', data = df_stock_train[df_stock_train['CD_SBS_NORMAL'] >= 73])"
   ]
  },
  {
   "cell_type": "code",
   "execution_count": 38,
   "metadata": {},
   "outputs": [
    {
     "data": {
      "text/plain": [
       "0    0.872801\n",
       "1    0.127199\n",
       "Name: FUGA_3M, dtype: float64"
      ]
     },
     "execution_count": 38,
     "metadata": {},
     "output_type": "execute_result"
    }
   ],
   "source": [
    "df_stock_train[df_stock_train['CD_SBS_NORMAL'] >= 73].FUGA_3M.value_counts(normalize=True) # Más bajo número de 1s que el prom"
   ]
  },
  {
   "cell_type": "markdown",
   "metadata": {},
   "source": [
    "## CD_SBS_CPP"
   ]
  },
  {
   "cell_type": "code",
   "execution_count": 26,
   "metadata": {},
   "outputs": [
    {
     "data": {
      "image/png": "[encoded data removed]",
      "text/plain": [
       "<Figure size 432x288 with 1 Axes>"
      ]
     },
     "metadata": {
      "needs_background": "light"
     },
     "output_type": "display_data"
    }
   ],
   "source": [
    "#Train\n",
    "sns.distplot(df_stock_train['CD_SBS_CPP'], bins=10);"
   ]
  },
  {
   "cell_type": "code",
   "execution_count": 28,
   "metadata": {},
   "outputs": [
    {
     "data": {
      "image/png": "[encoded data removed]",
      "text/plain": [
       "<Figure size 432x288 with 1 Axes>"
      ]
     },
     "metadata": {
      "needs_background": "light"
     },
     "output_type": "display_data"
    }
   ],
   "source": [
    "#Test\n",
    "sns.distplot(df_stock_test['CD_SBS_CPP'], bins=10);"
   ]
  },
  {
   "cell_type": "markdown",
   "metadata": {},
   "source": [
    "### Analisis con el target"
   ]
  },
  {
   "cell_type": "code",
   "execution_count": 35,
   "metadata": {},
   "outputs": [
    {
     "data": {
      "image/png": "[encoded data removed]",
      "text/plain": [
       "<Figure size 1440x360 with 1 Axes>"
      ]
     },
     "metadata": {
      "needs_background": "light"
     },
     "output_type": "display_data"
    }
   ],
   "source": [
    "# Evaluaciones menores a 2 (mean)\n",
    "plt.figure(figsize=(20,5))\n",
    "plot = sns.countplot(x = 'FUGA_3M', data = df_stock_train[df_stock_train['CD_SBS_CPP'] < 2])"
   ]
  },
  {
   "cell_type": "code",
   "execution_count": 39,
   "metadata": {},
   "outputs": [
    {
     "data": {
      "image/png": "[encoded data removed]",
      "text/plain": [
       "<Figure size 1440x360 with 1 Axes>"
      ]
     },
     "metadata": {
      "needs_background": "light"
     },
     "output_type": "display_data"
    }
   ],
   "source": [
    "# Evaluaciones may o ig a 2 (mean)\n",
    "plt.figure(figsize=(20,5))\n",
    "plot = sns.countplot(x = 'FUGA_3M', data = df_stock_train[df_stock_train['CD_SBS_CPP'] >= 2])"
   ]
  },
  {
   "cell_type": "code",
   "execution_count": 41,
   "metadata": {},
   "outputs": [
    {
     "data": {
      "text/plain": [
       "0    0.858598\n",
       "1    0.141402\n",
       "Name: FUGA_3M, dtype: float64"
      ]
     },
     "execution_count": 41,
     "metadata": {},
     "output_type": "execute_result"
    }
   ],
   "source": [
    "df_stock_train[df_stock_train['CD_SBS_CPP'] < 2].FUGA_3M.value_counts(normalize=True)"
   ]
  },
  {
   "cell_type": "code",
   "execution_count": 42,
   "metadata": {},
   "outputs": [
    {
     "data": {
      "text/plain": [
       "0    0.804793\n",
       "1    0.195207\n",
       "Name: FUGA_3M, dtype: float64"
      ]
     },
     "execution_count": 42,
     "metadata": {},
     "output_type": "execute_result"
    }
   ],
   "source": [
    "df_stock_train[df_stock_train['CD_SBS_CPP'] >= 2].FUGA_3M.value_counts(normalize=True) # Contradictorio"
   ]
  },
  {
   "cell_type": "markdown",
   "metadata": {},
   "source": [
    "### CD_SBS_DDP"
   ]
  },
  {
   "cell_type": "code",
   "execution_count": 29,
   "metadata": {},
   "outputs": [
    {
     "data": {
      "image/png": "[encoded data removed]",
      "text/plain": [
       "<Figure size 432x288 with 1 Axes>"
      ]
     },
     "metadata": {
      "needs_background": "light"
     },
     "output_type": "display_data"
    }
   ],
   "source": [
    "#Train\n",
    "sns.distplot(df_stock_train['CD_SBS_DDP'], bins=10);"
   ]
  },
  {
   "cell_type": "code",
   "execution_count": 30,
   "metadata": {},
   "outputs": [
    {
     "data": {
      "image/png": "[encoded data removed]",
      "text/plain": [
       "<Figure size 432x288 with 1 Axes>"
      ]
     },
     "metadata": {
      "needs_background": "light"
     },
     "output_type": "display_data"
    }
   ],
   "source": [
    "#Test\n",
    "sns.distplot(df_stock_test['CD_SBS_DDP'], bins=10);"
   ]
  },
  {
   "cell_type": "markdown",
   "metadata": {},
   "source": [
    "### Analisis con el target"
   ]
  },
  {
   "cell_type": "code",
   "execution_count": 43,
   "metadata": {
    "scrolled": true
   },
   "outputs": [
    {
     "data": {
      "image/png": "[encoded data removed]",
      "text/plain": [
       "<Figure size 1440x360 with 1 Axes>"
      ]
     },
     "metadata": {
      "needs_background": "light"
     },
     "output_type": "display_data"
    }
   ],
   "source": [
    "# Evaluaciones menores a 17 (mean)\n",
    "plt.figure(figsize=(20,5))\n",
    "plot = sns.countplot(x = 'FUGA_3M', data = df_stock_train[df_stock_train['CD_SBS_DDP'] < 17])"
   ]
  },
  {
   "cell_type": "code",
   "execution_count": 44,
   "metadata": {},
   "outputs": [
    {
     "data": {
      "image/png": "[encoded data removed]",
      "text/plain": [
       "<Figure size 1440x360 with 1 Axes>"
      ]
     },
     "metadata": {
      "needs_background": "light"
     },
     "output_type": "display_data"
    }
   ],
   "source": [
    "# Evaluaciones menores a 17 (mean)\n",
    "plt.figure(figsize=(20,5))\n",
    "plot = sns.countplot(x = 'FUGA_3M', data = df_stock_train[df_stock_train['CD_SBS_DDP'] >= 17])"
   ]
  },
  {
   "cell_type": "code",
   "execution_count": 45,
   "metadata": {},
   "outputs": [
    {
     "data": {
      "text/plain": [
       "0    0.87146\n",
       "1    0.12854\n",
       "Name: FUGA_3M, dtype: float64"
      ]
     },
     "execution_count": 45,
     "metadata": {},
     "output_type": "execute_result"
    }
   ],
   "source": [
    "df_stock_train[df_stock_train['CD_SBS_DDP'] < 17].FUGA_3M.value_counts(normalize=True)"
   ]
  },
  {
   "cell_type": "code",
   "execution_count": 46,
   "metadata": {},
   "outputs": [
    {
     "data": {
      "text/plain": [
       "0    0.791025\n",
       "1    0.208975\n",
       "Name: FUGA_3M, dtype: float64"
      ]
     },
     "execution_count": 46,
     "metadata": {},
     "output_type": "execute_result"
    }
   ],
   "source": [
    "df_stock_train[df_stock_train['CD_SBS_DDP'] >= 17].FUGA_3M.value_counts(normalize=True)"
   ]
  },
  {
   "cell_type": "markdown",
   "metadata": {},
   "source": [
    "# Analizando las fechas y computando las diferencias dentre fecha y T0.\n",
    "Aqui testearemos el preprocessing y crearemos otros dfs."
   ]
  },
  {
   "cell_type": "code",
   "execution_count": 47,
   "metadata": {},
   "outputs": [
    {
     "data": {
      "text/plain": [
       "0    2015-12-04 00:00:00\n",
       "1    1970-11-11 00:00:00\n",
       "2    1985-01-23 00:00:00\n",
       "3    2008-01-01 00:00:00\n",
       "4    2016-08-11 00:00:00\n",
       "5    2015-04-14 00:00:00\n",
       "6    2006-09-08 00:00:00\n",
       "7    1988-05-16 00:00:00\n",
       "8    1976-07-15 00:00:00\n",
       "9    1951-10-06 00:00:00\n",
       "Name: FH_NACIMIENTO, dtype: object"
      ]
     },
     "execution_count": 47,
     "metadata": {},
     "output_type": "execute_result"
    }
   ],
   "source": [
    "df_stock_train['FH_NACIMIENTO'].head(10)"
   ]
  },
  {
   "cell_type": "code",
   "execution_count": 48,
   "metadata": {},
   "outputs": [
    {
     "data": {
      "text/plain": [
       "0    2017-09-04 00:00:00\n",
       "1    2007-08-14 00:00:00\n",
       "2    2006-02-22 00:00:00\n",
       "3    2008-06-12 00:00:00\n",
       "4    2017-01-04 00:00:00\n",
       "5    2015-05-20 00:00:00\n",
       "6    2006-09-15 00:00:00\n",
       "7    2011-01-18 00:00:00\n",
       "8    2001-05-18 00:00:00\n",
       "9    1996-11-19 00:00:00\n",
       "Name: FH_ALTA, dtype: object"
      ]
     },
     "execution_count": 48,
     "metadata": {},
     "output_type": "execute_result"
    }
   ],
   "source": [
    "df_stock_train['FH_ALTA'].head(10)"
   ]
  },
  {
   "cell_type": "code",
   "execution_count": 49,
   "metadata": {},
   "outputs": [],
   "source": [
    "df_stock_train_p = df_stock_train.copy()\n",
    "df_stock_test_p = df_stock_test.copy()"
   ]
  },
  {
   "cell_type": "code",
   "execution_count": 77,
   "metadata": {},
   "outputs": [],
   "source": [
    "#Numero de meses hasta la fecha de nacimiento desde año 0 mes 0.\n",
    "df_stock_train_p['months_NACIMIENTO'] = df_stock_train_p['FH_NACIMIENTO'].apply(lambda x: int(str(x).split('-')[0])*12 + int(str(x).split('-')[1]) if isinstance(x, str) else x)\n",
    "df_stock_test_p['months_NACIMIENTO'] = df_stock_test_p['FH_NACIMIENTO'].apply(lambda x: int(str(x).split('-')[0])*12 + int(str(x).split('-')[1]) if isinstance(x, str) else x)"
   ]
  },
  {
   "cell_type": "code",
   "execution_count": 78,
   "metadata": {},
   "outputs": [],
   "source": [
    "#Numero de meses basta fecha de alta desde año 0 mes 0\n",
    "df_stock_train_p['months_ALTA'] = df_stock_train_p['FH_ALTA'].apply(lambda x: int(str(x).split('-')[0])*12 + int(str(x).split('-')[1]) if isinstance(x, str) else x)\n",
    "df_stock_test_p['months_ALTA'] = df_stock_test_p['FH_ALTA'].apply(lambda x: int(str(x).split('-')[0])*12 + int(str(x).split('-')[1]) if isinstance(x, str) else x)"
   ]
  },
  {
   "cell_type": "code",
   "execution_count": 82,
   "metadata": {},
   "outputs": [],
   "source": [
    "#Computando los meses del T0 desde el año 0 mes 0\n",
    "df_stock_train_p['months_T0'] = df_stock_train_p['MES_T0'].apply(lambda x: int(str(x)[:4])*12 + int(str(x)[4:6]))\n",
    "df_stock_test_p['months_T0'] = df_stock_test_p['MES_T0'].apply(lambda x: int(str(x)[:4])*12 + int(str(x)[4:6]))"
   ]
  },
  {
   "cell_type": "code",
   "execution_count": 85,
   "metadata": {},
   "outputs": [],
   "source": [
    "#Computando columnas finales\n",
    "df_stock_train_p['diff_months_T0_NACIMIENTO'] = df_stock_train_p['months_T0'] - df_stock_train_p['months_NACIMIENTO']\n",
    "df_stock_test_p['diff_months_T0_NACIMIENTO'] = df_stock_test_p['months_T0'] - df_stock_test_p['months_NACIMIENTO']\n",
    "\n",
    "df_stock_train_p['diff_months_T0_ALTA'] = df_stock_train_p['months_T0'] - df_stock_train_p['months_ALTA']\n",
    "df_stock_test_p['diff_months_T0_ALTA'] = df_stock_test_p['months_T0'] - df_stock_test_p['months_ALTA']"
   ]
  },
  {
   "cell_type": "markdown",
   "metadata": {},
   "source": [
    "# Analizando los meses desde el nacimiento y alta"
   ]
  },
  {
   "cell_type": "code",
   "execution_count": 89,
   "metadata": {},
   "outputs": [
    {
     "data": {
      "text/html": [
       "<div>\n",
       "<style scoped>\n",
       "    .dataframe tbody tr th:only-of-type {\n",
       "        vertical-align: middle;\n",
       "    }\n",
       "\n",
       "    .dataframe tbody tr th {\n",
       "        vertical-align: top;\n",
       "    }\n",
       "\n",
       "    .dataframe thead th {\n",
       "        text-align: right;\n",
       "    }\n",
       "</style>\n",
       "<table border=\"1\" class=\"dataframe\">\n",
       "  <thead>\n",
       "    <tr style=\"text-align: right;\">\n",
       "      <th></th>\n",
       "      <th>count</th>\n",
       "      <th>mean</th>\n",
       "      <th>std</th>\n",
       "      <th>min</th>\n",
       "      <th>25%</th>\n",
       "      <th>50%</th>\n",
       "      <th>75%</th>\n",
       "      <th>max</th>\n",
       "    </tr>\n",
       "  </thead>\n",
       "  <tbody>\n",
       "    <tr>\n",
       "      <th>diff_months_T0_NACIMIENTO</th>\n",
       "      <td>72765.0</td>\n",
       "      <td>399.013688</td>\n",
       "      <td>240.986920</td>\n",
       "      <td>1.0</td>\n",
       "      <td>168.0</td>\n",
       "      <td>429.0</td>\n",
       "      <td>573.0</td>\n",
       "      <td>1426.0</td>\n",
       "    </tr>\n",
       "    <tr>\n",
       "      <th>diff_months_T0_ALTA</th>\n",
       "      <td>72852.0</td>\n",
       "      <td>89.592530</td>\n",
       "      <td>78.745967</td>\n",
       "      <td>1.0</td>\n",
       "      <td>26.0</td>\n",
       "      <td>68.0</td>\n",
       "      <td>130.0</td>\n",
       "      <td>611.0</td>\n",
       "    </tr>\n",
       "  </tbody>\n",
       "</table>\n",
       "</div>"
      ],
      "text/plain": [
       "                             count        mean         std  min    25%    50%  \\\n",
       "diff_months_T0_NACIMIENTO  72765.0  399.013688  240.986920  1.0  168.0  429.0   \n",
       "diff_months_T0_ALTA        72852.0   89.592530   78.745967  1.0   26.0   68.0   \n",
       "\n",
       "                             75%     max  \n",
       "diff_months_T0_NACIMIENTO  573.0  1426.0  \n",
       "diff_months_T0_ALTA        130.0   611.0  "
      ]
     },
     "execution_count": 89,
     "metadata": {},
     "output_type": "execute_result"
    }
   ],
   "source": [
    "df_stock_train_p[['diff_months_T0_NACIMIENTO','diff_months_T0_ALTA']].describe().T"
   ]
  },
  {
   "cell_type": "code",
   "execution_count": 90,
   "metadata": {},
   "outputs": [
    {
     "data": {
      "text/html": [
       "<div>\n",
       "<style scoped>\n",
       "    .dataframe tbody tr th:only-of-type {\n",
       "        vertical-align: middle;\n",
       "    }\n",
       "\n",
       "    .dataframe tbody tr th {\n",
       "        vertical-align: top;\n",
       "    }\n",
       "\n",
       "    .dataframe thead th {\n",
       "        text-align: right;\n",
       "    }\n",
       "</style>\n",
       "<table border=\"1\" class=\"dataframe\">\n",
       "  <thead>\n",
       "    <tr style=\"text-align: right;\">\n",
       "      <th></th>\n",
       "      <th>count</th>\n",
       "      <th>mean</th>\n",
       "      <th>std</th>\n",
       "      <th>min</th>\n",
       "      <th>25%</th>\n",
       "      <th>50%</th>\n",
       "      <th>75%</th>\n",
       "      <th>max</th>\n",
       "    </tr>\n",
       "  </thead>\n",
       "  <tbody>\n",
       "    <tr>\n",
       "      <th>diff_months_T0_NACIMIENTO</th>\n",
       "      <td>26088.0</td>\n",
       "      <td>402.069879</td>\n",
       "      <td>239.109115</td>\n",
       "      <td>1.0</td>\n",
       "      <td>186.0</td>\n",
       "      <td>432.0</td>\n",
       "      <td>575.0</td>\n",
       "      <td>1429.0</td>\n",
       "    </tr>\n",
       "    <tr>\n",
       "      <th>diff_months_T0_ALTA</th>\n",
       "      <td>26094.0</td>\n",
       "      <td>91.207864</td>\n",
       "      <td>80.567834</td>\n",
       "      <td>1.0</td>\n",
       "      <td>26.0</td>\n",
       "      <td>71.0</td>\n",
       "      <td>132.0</td>\n",
       "      <td>613.0</td>\n",
       "    </tr>\n",
       "  </tbody>\n",
       "</table>\n",
       "</div>"
      ],
      "text/plain": [
       "                             count        mean         std  min    25%    50%  \\\n",
       "diff_months_T0_NACIMIENTO  26088.0  402.069879  239.109115  1.0  186.0  432.0   \n",
       "diff_months_T0_ALTA        26094.0   91.207864   80.567834  1.0   26.0   71.0   \n",
       "\n",
       "                             75%     max  \n",
       "diff_months_T0_NACIMIENTO  575.0  1429.0  \n",
       "diff_months_T0_ALTA        132.0   613.0  "
      ]
     },
     "execution_count": 90,
     "metadata": {},
     "output_type": "execute_result"
    }
   ],
   "source": [
    "df_stock_test_p[['diff_months_T0_NACIMIENTO','diff_months_T0_ALTA']].describe().T"
   ]
  },
  {
   "cell_type": "code",
   "execution_count": 92,
   "metadata": {},
   "outputs": [
    {
     "data": {
      "image/png": "[encoded data removed]",
      "text/plain": [
       "<Figure size 432x288 with 1 Axes>"
      ]
     },
     "metadata": {
      "needs_background": "light"
     },
     "output_type": "display_data"
    }
   ],
   "source": [
    "#Train NACIMIENTO\n",
    "sns.distplot(df_stock_train_p['diff_months_T0_NACIMIENTO'], bins=15);"
   ]
  },
  {
   "cell_type": "code",
   "execution_count": 93,
   "metadata": {},
   "outputs": [
    {
     "data": {
      "image/png": "[encoded data removed]",
      "text/plain": [
       "<Figure size 432x288 with 1 Axes>"
      ]
     },
     "metadata": {
      "needs_background": "light"
     },
     "output_type": "display_data"
    }
   ],
   "source": [
    "#Test NACIMIENTO\n",
    "sns.distplot(df_stock_test_p['diff_months_T0_NACIMIENTO'], bins=15);"
   ]
  },
  {
   "cell_type": "code",
   "execution_count": 94,
   "metadata": {},
   "outputs": [
    {
     "data": {
      "image/png": "[encoded data removed]",
      "text/plain": [
       "<Figure size 432x288 with 1 Axes>"
      ]
     },
     "metadata": {
      "needs_background": "light"
     },
     "output_type": "display_data"
    }
   ],
   "source": [
    "#Train ALTA\n",
    "sns.distplot(df_stock_train_p['diff_months_T0_ALTA'], bins=12);"
   ]
  },
  {
   "cell_type": "code",
   "execution_count": 95,
   "metadata": {},
   "outputs": [
    {
     "data": {
      "image/png": "[encoded data removed]",
      "text/plain": [
       "<Figure size 432x288 with 1 Axes>"
      ]
     },
     "metadata": {
      "needs_background": "light"
     },
     "output_type": "display_data"
    }
   ],
   "source": [
    "#Test ALTA\n",
    "sns.distplot(df_stock_test_p['diff_months_T0_ALTA'], bins=12);"
   ]
  }
 ],
 "metadata": {
  "kernelspec": {
   "display_name": "Python 3",
   "language": "python",
   "name": "python3"
  },
  "language_info": {
   "codemirror_mode": {
    "name": "ipython",
    "version": 3
   },
   "file_extension": ".py",
   "mimetype": "text/x-python",
   "name": "python",
   "nbconvert_exporter": "python",
   "pygments_lexer": "ipython3",
   "version": "3.7.3"
  }
 },
 "nbformat": 4,
 "nbformat_minor": 2
}
