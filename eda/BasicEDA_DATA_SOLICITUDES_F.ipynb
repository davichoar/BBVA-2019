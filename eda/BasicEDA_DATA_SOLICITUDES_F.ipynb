{
 "cells": [
  {
   "cell_type": "code",
   "execution_count": 1,
   "metadata": {},
   "outputs": [],
   "source": [
    "import pandas as pd\n",
    "import numpy as np\n",
    "import seaborn as sns\n",
    "import matplotlib.pyplot as plt\n",
    "%matplotlib inline\n",
    "\n",
    "sns.set()"
   ]
  },
  {
   "cell_type": "markdown",
   "metadata": {},
   "source": [
    "# Solicitudes de productos\n",
    "Se pueden ver los productos solicitados entre los clientes. Revisar si la columna Producto_Solicitado tiene un número finito de tipos (debería). Features a sacar: Hace cuantos meses pidió un producto el cliente, el tipo de productos pedidos. Revisar columna de sustento. Tal vez incluya algunas irregularidades."
   ]
  },
  {
   "cell_type": "code",
   "execution_count": 2,
   "metadata": {},
   "outputs": [],
   "source": [
    "# Reading dataset\n",
    "df_solicitudes = pd.read_csv(\"../data/DATA_SOLICITUDES_F.csv\")"
   ]
  },
  {
   "cell_type": "code",
   "execution_count": 3,
   "metadata": {},
   "outputs": [
    {
     "name": "stdout",
     "output_type": "stream",
     "text": [
      "<class 'pandas.core.frame.DataFrame'>\n",
      "RangeIndex: 5202 entries, 0 to 5201\n",
      "Data columns (total 6 columns):\n",
      "MES                    5202 non-null int64\n",
      "ID_CLIENTE             5202 non-null int64\n",
      "Moneda                 5202 non-null object\n",
      "RGO_Importe            5202 non-null int64\n",
      "Producto_Solicitado    5202 non-null object\n",
      "Sustento_Solicitud     5190 non-null object\n",
      "dtypes: int64(3), object(3)\n",
      "memory usage: 243.9+ KB\n"
     ]
    }
   ],
   "source": [
    "df_solicitudes.info()"
   ]
  },
  {
   "cell_type": "code",
   "execution_count": 4,
   "metadata": {},
   "outputs": [
    {
     "data": {
      "text/html": [
       "<div>\n",
       "<style scoped>\n",
       "    .dataframe tbody tr th:only-of-type {\n",
       "        vertical-align: middle;\n",
       "    }\n",
       "\n",
       "    .dataframe tbody tr th {\n",
       "        vertical-align: top;\n",
       "    }\n",
       "\n",
       "    .dataframe thead th {\n",
       "        text-align: right;\n",
       "    }\n",
       "</style>\n",
       "<table border=\"1\" class=\"dataframe\">\n",
       "  <thead>\n",
       "    <tr style=\"text-align: right;\">\n",
       "      <th></th>\n",
       "      <th>0</th>\n",
       "      <th>1</th>\n",
       "      <th>2</th>\n",
       "      <th>3</th>\n",
       "      <th>4</th>\n",
       "    </tr>\n",
       "  </thead>\n",
       "  <tbody>\n",
       "    <tr>\n",
       "      <th>MES</th>\n",
       "      <td>201707</td>\n",
       "      <td>201707</td>\n",
       "      <td>201707</td>\n",
       "      <td>201803</td>\n",
       "      <td>201707</td>\n",
       "    </tr>\n",
       "    <tr>\n",
       "      <th>ID_CLIENTE</th>\n",
       "      <td>36714</td>\n",
       "      <td>56149</td>\n",
       "      <td>8423</td>\n",
       "      <td>30778</td>\n",
       "      <td>98413</td>\n",
       "    </tr>\n",
       "    <tr>\n",
       "      <th>Moneda</th>\n",
       "      <td>DÓLARES</td>\n",
       "      <td>DÓLARES</td>\n",
       "      <td>DÓLARES</td>\n",
       "      <td>DÓLARES</td>\n",
       "      <td>SOLES</td>\n",
       "    </tr>\n",
       "    <tr>\n",
       "      <th>RGO_Importe</th>\n",
       "      <td>1</td>\n",
       "      <td>1</td>\n",
       "      <td>1</td>\n",
       "      <td>1</td>\n",
       "      <td>1</td>\n",
       "    </tr>\n",
       "    <tr>\n",
       "      <th>Producto_Solicitado</th>\n",
       "      <td>LÍNEA DE FINANCIAMIENTO DE IMPORTACIÓN</td>\n",
       "      <td>PRÉSTAMO PARA ADQUISICIÓN DE BIENES INMUEBLES</td>\n",
       "      <td>CARTA DE CRÉDITO DE IMPORTACIÓN</td>\n",
       "      <td>LÍNEA MÚLTIPLE PARA OPERACIONES DE CORTO PLAZO</td>\n",
       "      <td>LÍNEA PARA EMISIÓN DE CARTAS FIANZA (TÉCNICAS ...</td>\n",
       "    </tr>\n",
       "    <tr>\n",
       "      <th>Sustento_Solicitud</th>\n",
       "      <td>#N.- SE TRATA DE OTORGAR UNA LÍNEA DE CARTAS F...</td>\n",
       "      <td>La propuesta contempla el financiamiento de # ...</td>\n",
       "      <td>Emision Carta de Credito para Importación de m...</td>\n",
       "      <td>Se propone renovar las líneas de descuento de ...</td>\n",
       "      <td>Se propone renovación e incremento de linea de...</td>\n",
       "    </tr>\n",
       "  </tbody>\n",
       "</table>\n",
       "</div>"
      ],
      "text/plain": [
       "                                                                     0  \\\n",
       "MES                                                             201707   \n",
       "ID_CLIENTE                                                       36714   \n",
       "Moneda                                                         DÓLARES   \n",
       "RGO_Importe                                                          1   \n",
       "Producto_Solicitado             LÍNEA DE FINANCIAMIENTO DE IMPORTACIÓN   \n",
       "Sustento_Solicitud   #N.- SE TRATA DE OTORGAR UNA LÍNEA DE CARTAS F...   \n",
       "\n",
       "                                                                     1  \\\n",
       "MES                                                             201707   \n",
       "ID_CLIENTE                                                       56149   \n",
       "Moneda                                                         DÓLARES   \n",
       "RGO_Importe                                                          1   \n",
       "Producto_Solicitado      PRÉSTAMO PARA ADQUISICIÓN DE BIENES INMUEBLES   \n",
       "Sustento_Solicitud   La propuesta contempla el financiamiento de # ...   \n",
       "\n",
       "                                                                     2  \\\n",
       "MES                                                             201707   \n",
       "ID_CLIENTE                                                        8423   \n",
       "Moneda                                                         DÓLARES   \n",
       "RGO_Importe                                                          1   \n",
       "Producto_Solicitado                    CARTA DE CRÉDITO DE IMPORTACIÓN   \n",
       "Sustento_Solicitud   Emision Carta de Credito para Importación de m...   \n",
       "\n",
       "                                                                     3  \\\n",
       "MES                                                             201803   \n",
       "ID_CLIENTE                                                       30778   \n",
       "Moneda                                                         DÓLARES   \n",
       "RGO_Importe                                                          1   \n",
       "Producto_Solicitado     LÍNEA MÚLTIPLE PARA OPERACIONES DE CORTO PLAZO   \n",
       "Sustento_Solicitud   Se propone renovar las líneas de descuento de ...   \n",
       "\n",
       "                                                                     4  \n",
       "MES                                                             201707  \n",
       "ID_CLIENTE                                                       98413  \n",
       "Moneda                                                           SOLES  \n",
       "RGO_Importe                                                          1  \n",
       "Producto_Solicitado  LÍNEA PARA EMISIÓN DE CARTAS FIANZA (TÉCNICAS ...  \n",
       "Sustento_Solicitud   Se propone renovación e incremento de linea de...  "
      ]
     },
     "execution_count": 4,
     "metadata": {},
     "output_type": "execute_result"
    }
   ],
   "source": [
    "df_solicitudes.head().T"
   ]
  },
  {
   "cell_type": "code",
   "execution_count": 6,
   "metadata": {},
   "outputs": [
    {
     "data": {
      "text/plain": [
       "(5202, 6)"
      ]
     },
     "execution_count": 6,
     "metadata": {},
     "output_type": "execute_result"
    }
   ],
   "source": [
    "df_solicitudes.shape #pocas"
   ]
  },
  {
   "cell_type": "code",
   "execution_count": 25,
   "metadata": {},
   "outputs": [
    {
     "data": {
      "text/html": [
       "<div>\n",
       "<style scoped>\n",
       "    .dataframe tbody tr th:only-of-type {\n",
       "        vertical-align: middle;\n",
       "    }\n",
       "\n",
       "    .dataframe tbody tr th {\n",
       "        vertical-align: top;\n",
       "    }\n",
       "\n",
       "    .dataframe thead th {\n",
       "        text-align: right;\n",
       "    }\n",
       "</style>\n",
       "<table border=\"1\" class=\"dataframe\">\n",
       "  <thead>\n",
       "    <tr style=\"text-align: right;\">\n",
       "      <th></th>\n",
       "      <th>count</th>\n",
       "      <th>mean</th>\n",
       "      <th>std</th>\n",
       "      <th>min</th>\n",
       "      <th>25%</th>\n",
       "      <th>50%</th>\n",
       "      <th>75%</th>\n",
       "      <th>max</th>\n",
       "    </tr>\n",
       "  </thead>\n",
       "  <tbody>\n",
       "    <tr>\n",
       "      <th>MES</th>\n",
       "      <td>5202.0</td>\n",
       "      <td>201749.143406</td>\n",
       "      <td>47.019976</td>\n",
       "      <td>201707.0</td>\n",
       "      <td>201707.00</td>\n",
       "      <td>201712.0</td>\n",
       "      <td>201804.0</td>\n",
       "      <td>201808.0</td>\n",
       "    </tr>\n",
       "    <tr>\n",
       "      <th>ID_CLIENTE</th>\n",
       "      <td>5202.0</td>\n",
       "      <td>50371.305652</td>\n",
       "      <td>28877.795126</td>\n",
       "      <td>37.0</td>\n",
       "      <td>26025.75</td>\n",
       "      <td>50113.0</td>\n",
       "      <td>75164.0</td>\n",
       "      <td>99966.0</td>\n",
       "    </tr>\n",
       "    <tr>\n",
       "      <th>RGO_Importe</th>\n",
       "      <td>5202.0</td>\n",
       "      <td>10.496540</td>\n",
       "      <td>5.768435</td>\n",
       "      <td>1.0</td>\n",
       "      <td>5.00</td>\n",
       "      <td>10.0</td>\n",
       "      <td>15.0</td>\n",
       "      <td>20.0</td>\n",
       "    </tr>\n",
       "  </tbody>\n",
       "</table>\n",
       "</div>"
      ],
      "text/plain": [
       "              count           mean           std       min        25%  \\\n",
       "MES          5202.0  201749.143406     47.019976  201707.0  201707.00   \n",
       "ID_CLIENTE   5202.0   50371.305652  28877.795126      37.0   26025.75   \n",
       "RGO_Importe  5202.0      10.496540      5.768435       1.0       5.00   \n",
       "\n",
       "                  50%       75%       max  \n",
       "MES          201712.0  201804.0  201808.0  \n",
       "ID_CLIENTE    50113.0   75164.0   99966.0  \n",
       "RGO_Importe      10.0      15.0      20.0  "
      ]
     },
     "execution_count": 25,
     "metadata": {},
     "output_type": "execute_result"
    }
   ],
   "source": [
    "df_solicitudes.describe().T"
   ]
  },
  {
   "cell_type": "markdown",
   "metadata": {},
   "source": [
    "## Distribucion por MES"
   ]
  },
  {
   "cell_type": "code",
   "execution_count": 7,
   "metadata": {},
   "outputs": [
    {
     "data": {
      "text/plain": [
       "201707    1508\n",
       "201710     511\n",
       "201711     503\n",
       "201712     483\n",
       "201801     439\n",
       "201803     443\n",
       "201804     402\n",
       "201805     577\n",
       "201808     336\n",
       "Name: MES, dtype: int64"
      ]
     },
     "execution_count": 7,
     "metadata": {},
     "output_type": "execute_result"
    }
   ],
   "source": [
    "df_solicitudes['MES'].value_counts(dropna=False).sort_index()"
   ]
  },
  {
   "cell_type": "code",
   "execution_count": 9,
   "metadata": {},
   "outputs": [
    {
     "data": {
      "image/png": "[encoded data removed]",
      "text/plain": [
       "<Figure size 1440x360 with 1 Axes>"
      ]
     },
     "metadata": {
      "needs_background": "light"
     },
     "output_type": "display_data"
    }
   ],
   "source": [
    "plt.figure(figsize=(20,5))\n",
    "plot = sns.countplot(x = 'MES', data = df_solicitudes) \n",
    "# 201707 con gran número de solicitudes (Suceso importante? Oferta?)"
   ]
  },
  {
   "cell_type": "markdown",
   "metadata": {},
   "source": [
    "## Distribucion por moneda"
   ]
  },
  {
   "cell_type": "code",
   "execution_count": 10,
   "metadata": {},
   "outputs": [
    {
     "data": {
      "text/plain": [
       "DÓLARES    1294\n",
       "SOLES      3908\n",
       "Name: Moneda, dtype: int64"
      ]
     },
     "execution_count": 10,
     "metadata": {},
     "output_type": "execute_result"
    }
   ],
   "source": [
    "df_solicitudes['Moneda'].value_counts(dropna=False).sort_index() # Sera indistinto?"
   ]
  },
  {
   "cell_type": "code",
   "execution_count": 11,
   "metadata": {
    "scrolled": true
   },
   "outputs": [
    {
     "data": {
      "image/png": "[encoded data removed]",
      "text/plain": [
       "<Figure size 1440x360 with 1 Axes>"
      ]
     },
     "metadata": {
      "needs_background": "light"
     },
     "output_type": "display_data"
    }
   ],
   "source": [
    "plt.figure(figsize=(20,5))\n",
    "plot = sns.countplot(x = 'Moneda', data = df_solicitudes)"
   ]
  },
  {
   "cell_type": "markdown",
   "metadata": {},
   "source": [
    "## Distribucion por rango de importe"
   ]
  },
  {
   "cell_type": "code",
   "execution_count": 12,
   "metadata": {},
   "outputs": [
    {
     "data": {
      "text/plain": [
       "1     261\n",
       "2     261\n",
       "3     260\n",
       "4     260\n",
       "5     260\n",
       "6     260\n",
       "7     260\n",
       "8     260\n",
       "9     260\n",
       "10    260\n",
       "11    260\n",
       "12    260\n",
       "13    260\n",
       "14    260\n",
       "15    260\n",
       "16    260\n",
       "17    260\n",
       "18    260\n",
       "19    260\n",
       "20    260\n",
       "Name: RGO_Importe, dtype: int64"
      ]
     },
     "execution_count": 12,
     "metadata": {},
     "output_type": "execute_result"
    }
   ],
   "source": [
    "df_solicitudes['RGO_Importe'].value_counts(dropna=False).sort_index() # ?????? Que es esto xd, es uniformisimo"
   ]
  },
  {
   "cell_type": "code",
   "execution_count": 13,
   "metadata": {
    "scrolled": true
   },
   "outputs": [
    {
     "data": {
      "image/png": "[encoded data removed]",
      "text/plain": [
       "<Figure size 1440x360 with 1 Axes>"
      ]
     },
     "metadata": {
      "needs_background": "light"
     },
     "output_type": "display_data"
    }
   ],
   "source": [
    "plt.figure(figsize=(20,5))\n",
    "plot = sns.countplot(x = 'RGO_Importe', data = df_solicitudes)"
   ]
  },
  {
   "cell_type": "markdown",
   "metadata": {},
   "source": [
    "## Explorando productos solicitados"
   ]
  },
  {
   "cell_type": "code",
   "execution_count": 17,
   "metadata": {
    "scrolled": true
   },
   "outputs": [
    {
     "data": {
      "text/plain": [
       "CARTA FIANZA TÉCNICA                                                                 1074\n",
       "LÍNEA DE PRÉSTAMO CAPITAL DE TRABAJO                                                  791\n",
       "PRÉSTAMO CAPITAL DE TRABAJO                                                           679\n",
       "LÍNEA DE TARJETA CAPITAL DE TRABAJO                                                   612\n",
       "LEASING MOBILIARIO                                                                    299\n",
       "CARTA FIANZA ECONÓMICA                                                                205\n",
       "PRÓRROGA DE CARTA FIANZA TÉCNICA                                                      189\n",
       "PRÉSTAMO PARA ADQUISICIÓN DE BIENES INMUEBLES                                         164\n",
       "LÍNEA DE FINANCIAMIENTO DE IMPORTACIÓN                                                 93\n",
       "LÍNEA PARA EMISIÓN DE CARTAS FIANZA (TÉCNICAS Y ECONÓMICAS)                            84\n",
       "PRÉSTAMO PARA ADQUISICIÓN DE BIENES MUEBLES                                            74\n",
       "PRÉSTAMO PARA FINANCIAMIENTO DE CONSTRUCCIÓN Y/O REMODELACIÓN                          71\n",
       "PRÉSTAMO COMERCIAL DE MEDIANO PLAZO                                                    68\n",
       "SUBROGACIÓN DE ADQUISICIÓN DE BIENES INMUEBLES                                         62\n",
       "DESCUENTO DE LETRAS                                                                    62\n",
       "LÍNEA DE DESCUENTO DE LETRAS                                                           62\n",
       "FINANCIAMIENTO DE IMPORTACIÓN                                                          57\n",
       "LÍNEA DE TARJETA EMPRESARIAL ORO                                                       50\n",
       "SUBROGACIÓN DE CAPITAL DE TRABAJO (RIESGOS DIRECTOS CORTO PLAZO)                       34\n",
       "LÍNEA DE DESCUENTO DE LETRAS                                                           33\n",
       "LÍNEA DE DESCUENTO DE LETRAS Y/O DESCUENTO DE FACTURAS NEGOCIABLES                     30\n",
       "PRÓRROGA DE CARTA FIANZA ECONÓMICA                                                     27\n",
       "PRÓRROGA DE PRÉSTAMO CAPITAL DE TRABAJO                                                26\n",
       "LEASING INMOBILIARIO                                                                   25\n",
       "CARTA FIANZA ANTE PROVEEDOR                                                            25\n",
       "SUBROGACIÓN DE FINANCIAMIENTOS DE CONSTRUCCION Y/O REMODELACION                        24\n",
       "LÍNEA DE CUENTA CORRIENTE                                                              21\n",
       "DESCUENTO DE LETRAS Y/O DESCUENTO DE FACTURAS NEGOCIABLES                              18\n",
       "LÍNEA DE CARTAS FIANZA TÉCNICAS                                                        18\n",
       "SUBROGACIÓN DE ADQUISICIÓN DE BIENES MUEBLES                                           16\n",
       "                                                                                     ... \n",
       "LÍNEA DE CARTAS FIANZA ANTE PROVEEDOR                                                   2\n",
       "PRÓRROGA LEASING INMOBILIARIO                                                           2\n",
       "FINANCIAMIENTO DE EXPORTACIÓN PRE Y POST EMBARQUE                                       2\n",
       "LÍNEA DE FORWARD VINCULADO A PRÉSTAMO MEJORADO                                          2\n",
       "LÍNEA DE PRÉSTAMO PARA ADQUISICIÓN DE BIENES MUEBLES                                    2\n",
       "REFINANCIADO VIA TRANSACCIÓN JUDICIAL                                                   2\n",
       "CESIÓN DE LEASING MOBILIARIO                                                            2\n",
       "LÍNEA DE DESCUENTO DE FACTURAS                                                          2\n",
       "PRÓRROGA LEASING MOBILIARIO                                                             1\n",
       "FORWARD                                                                                 1\n",
       "REPROGRAMADO DE PRÉSTAMO COMERCIAL DE MEDIANO PLAZO                                     1\n",
       "LÍNEA DE FORWARD                                                                        1\n",
       "INCREMENTO DE LÍNEA DE TARJETA DE CRÉDITO P.N.                                          1\n",
       "REFINANCIADO LEASING MOBILIARIO                                                         1\n",
       "LÍNEA DE PRÉSTAMO PARA ADQUISICIÓN DE BIENES INMUEBLES                                  1\n",
       "REFINANCIADO DE OPERACIONES MÚLTIPLES DE CORTO PLAZO                                    1\n",
       "OPERACIÓN MÚLTIPLE DE CORTO PLAZO                                                       1\n",
       "FINANCIAMIENTO DE IMPORTACIÓN CON PAGO DE CARTA DE CRÉDITO                              1\n",
       "REFINANCIADO MEDIANTE CONSOLIDACIÓN DE DEUDAS COMERCIALES CORTO PLAZO                   1\n",
       "FINANCIAMIENTO DE EXPORTACIÓN PRE EMBARQUE                                              1\n",
       "REPROGRAMADO DE SUBROGACIÓN DE FINANCIAMIENTOS DE CONSTRUCCIÓN Y/O REMODELACIÓN         1\n",
       "FINANCIAMIENTO DE EXPORTACIÓN DIRECTA                                                   1\n",
       "LÍNEA DE FACTORING ELECTRÓNICO                                                          1\n",
       "LÍNEA DE PRÉSTAMO PARA REPOSICIÓN DE CAPITAL DE TRABAJO                                 1\n",
       "PRÓRROGA DE PRÉSTAMO DE ADQUISICIÓN DE BIENES MUEBLES                                   1\n",
       "PRÓRROGA DE FINANCIAMIENTO DE IMPORTACIÓN                                               1\n",
       "PRÉSTAMO COMERCIAL MI OFICINA                                                           1\n",
       "LÍNEA DE FINANCIAMIENTO DE IMPORTACIÓN CON PAGO ADELANTADO                              1\n",
       "REFINANCIADO DE FINANCIAMIENTO DE IMPORTACIÓN DIRECTA                                   1\n",
       "REPROGRAMADO DE SUBROGACIÓN DE  CAPITAL DE TRABAJO (RIESGOS DIRECTOS CORTO PLAZO)       1\n",
       "Name: Producto_Solicitado, Length: 91, dtype: int64"
      ]
     },
     "execution_count": 17,
     "metadata": {},
     "output_type": "execute_result"
    }
   ],
   "source": [
    "df_solicitudes['Producto_Solicitado'].value_counts(dropna=False).sort_values(ascending=False)"
   ]
  },
  {
   "cell_type": "markdown",
   "metadata": {},
   "source": [
    "## Rango de distribución de rango en productos más solicitados"
   ]
  },
  {
   "cell_type": "code",
   "execution_count": 18,
   "metadata": {},
   "outputs": [
    {
     "data": {
      "image/png": "[encoded data removed]",
      "text/plain": [
       "<Figure size 1440x360 with 1 Axes>"
      ]
     },
     "metadata": {
      "needs_background": "light"
     },
     "output_type": "display_data"
    }
   ],
   "source": [
    "# CARTA FIANZA TÉCNICA\n",
    "plt.figure(figsize=(20,5))\n",
    "plot = sns.countplot(x = 'RGO_Importe', data = df_solicitudes[df_solicitudes['Producto_Solicitado'] == 'CARTA FIANZA TÉCNICA'])"
   ]
  },
  {
   "cell_type": "code",
   "execution_count": 19,
   "metadata": {},
   "outputs": [
    {
     "data": {
      "image/png": "[encoded data removed]",
      "text/plain": [
       "<Figure size 1440x360 with 1 Axes>"
      ]
     },
     "metadata": {
      "needs_background": "light"
     },
     "output_type": "display_data"
    }
   ],
   "source": [
    "# LÍNEA DE PRÉSTAMO CAPITAL DE TRABAJO\n",
    "plt.figure(figsize=(20,5))\n",
    "plot = sns.countplot(x = 'RGO_Importe', data = df_solicitudes[df_solicitudes['Producto_Solicitado'] == 'LÍNEA DE PRÉSTAMO CAPITAL DE TRABAJO'])"
   ]
  },
  {
   "cell_type": "code",
   "execution_count": 20,
   "metadata": {},
   "outputs": [
    {
     "data": {
      "image/png": "[encoded data removed]",
      "text/plain": [
       "<Figure size 1440x360 with 1 Axes>"
      ]
     },
     "metadata": {
      "needs_background": "light"
     },
     "output_type": "display_data"
    }
   ],
   "source": [
    "# PRÉSTAMO CAPITAL DE TRABAJO\n",
    "plt.figure(figsize=(20,5))\n",
    "plot = sns.countplot(x = 'RGO_Importe', data = df_solicitudes[df_solicitudes['Producto_Solicitado'] == 'PRÉSTAMO CAPITAL DE TRABAJO'])"
   ]
  },
  {
   "cell_type": "code",
   "execution_count": 21,
   "metadata": {
    "scrolled": true
   },
   "outputs": [
    {
     "data": {
      "image/png": "[encoded data removed]",
      "text/plain": [
       "<Figure size 1440x360 with 1 Axes>"
      ]
     },
     "metadata": {
      "needs_background": "light"
     },
     "output_type": "display_data"
    }
   ],
   "source": [
    "# LÍNEA DE TARJETA CAPITAL DE TRABAJO\n",
    "plt.figure(figsize=(20,5))\n",
    "plot = sns.countplot(x = 'RGO_Importe', data = df_solicitudes[df_solicitudes['Producto_Solicitado'] == 'LÍNEA DE TARJETA CAPITAL DE TRABAJO'])"
   ]
  },
  {
   "cell_type": "markdown",
   "metadata": {},
   "source": [
    "## Rango de distribución de rango por años más frecuentes"
   ]
  },
  {
   "cell_type": "code",
   "execution_count": 23,
   "metadata": {
    "scrolled": true
   },
   "outputs": [
    {
     "data": {
      "image/png": "[encoded data removed]",
      "text/plain": [
       "<Figure size 1440x360 with 1 Axes>"
      ]
     },
     "metadata": {
      "needs_background": "light"
     },
     "output_type": "display_data"
    }
   ],
   "source": [
    "# 201707\n",
    "plt.figure(figsize=(20,5))\n",
    "plot = sns.countplot(x = 'RGO_Importe', data = df_solicitudes[df_solicitudes['MES'] == 201707])"
   ]
  },
  {
   "cell_type": "code",
   "execution_count": 26,
   "metadata": {},
   "outputs": [
    {
     "data": {
      "text/plain": [
       "10.602785145888594"
      ]
     },
     "execution_count": 26,
     "metadata": {},
     "output_type": "execute_result"
    }
   ],
   "source": [
    "df_solicitudes[df_solicitudes['MES'] == 201707]['RGO_Importe'].mean()"
   ]
  },
  {
   "cell_type": "code",
   "execution_count": 27,
   "metadata": {},
   "outputs": [
    {
     "data": {
      "text/plain": [
       "5.752070012115469"
      ]
     },
     "execution_count": 27,
     "metadata": {},
     "output_type": "execute_result"
    }
   ],
   "source": [
    "df_solicitudes[df_solicitudes['MES'] == 201707]['RGO_Importe'].std()"
   ]
  },
  {
   "cell_type": "code",
   "execution_count": 24,
   "metadata": {},
   "outputs": [
    {
     "data": {
      "image/png": "[encoded data removed]",
      "text/plain": [
       "<Figure size 1440x360 with 1 Axes>"
      ]
     },
     "metadata": {
      "needs_background": "light"
     },
     "output_type": "display_data"
    }
   ],
   "source": [
    "# 201805\n",
    "plt.figure(figsize=(20,5))\n",
    "plot = sns.countplot(x = 'RGO_Importe', data = df_solicitudes[df_solicitudes['MES'] == 201805])"
   ]
  },
  {
   "cell_type": "code",
   "execution_count": 28,
   "metadata": {},
   "outputs": [
    {
     "data": {
      "text/plain": [
       "10.483535528596187"
      ]
     },
     "execution_count": 28,
     "metadata": {},
     "output_type": "execute_result"
    }
   ],
   "source": [
    "df_solicitudes[df_solicitudes['MES'] == 201805]['RGO_Importe'].mean()"
   ]
  },
  {
   "cell_type": "code",
   "execution_count": 29,
   "metadata": {},
   "outputs": [
    {
     "data": {
      "text/plain": [
       "5.642733402892071"
      ]
     },
     "execution_count": 29,
     "metadata": {},
     "output_type": "execute_result"
    }
   ],
   "source": [
    "df_solicitudes[df_solicitudes['MES'] == 201805]['RGO_Importe'].std()"
   ]
  },
  {
   "cell_type": "markdown",
   "metadata": {},
   "source": [
    "## Granularidad\n",
    "Deberia haber mucho mas de un producto por mes pedido para algunos clientes."
   ]
  },
  {
   "cell_type": "code",
   "execution_count": 31,
   "metadata": {},
   "outputs": [
    {
     "data": {
      "text/html": [
       "<div>\n",
       "<style scoped>\n",
       "    .dataframe tbody tr th:only-of-type {\n",
       "        vertical-align: middle;\n",
       "    }\n",
       "\n",
       "    .dataframe tbody tr th {\n",
       "        vertical-align: top;\n",
       "    }\n",
       "\n",
       "    .dataframe thead th {\n",
       "        text-align: right;\n",
       "    }\n",
       "</style>\n",
       "<table border=\"1\" class=\"dataframe\">\n",
       "  <thead>\n",
       "    <tr style=\"text-align: right;\">\n",
       "      <th></th>\n",
       "      <th>MES</th>\n",
       "      <th>ID_CLIENTE</th>\n",
       "      <th>Moneda</th>\n",
       "      <th>RGO_Importe</th>\n",
       "      <th>Producto_Solicitado</th>\n",
       "      <th>Sustento_Solicitud</th>\n",
       "    </tr>\n",
       "  </thead>\n",
       "  <tbody>\n",
       "    <tr>\n",
       "      <th>2738</th>\n",
       "      <td>201707</td>\n",
       "      <td>92</td>\n",
       "      <td>SOLES</td>\n",
       "      <td>11</td>\n",
       "      <td>LÍNEA DE TARJETA CAPITAL DE TRABAJO</td>\n",
       "      <td>#N SE TRATA DE ATENDER AL CLIENTE PARA LA ADQU...</td>\n",
       "    </tr>\n",
       "    <tr>\n",
       "      <th>2753</th>\n",
       "      <td>201711</td>\n",
       "      <td>250</td>\n",
       "      <td>SOLES</td>\n",
       "      <td>11</td>\n",
       "      <td>LÍNEA DE TARJETA CAPITAL DE TRABAJO</td>\n",
       "      <td>#N) Se propone la subrogación de la deuda que ...</td>\n",
       "    </tr>\n",
       "    <tr>\n",
       "      <th>4487</th>\n",
       "      <td>201711</td>\n",
       "      <td>250</td>\n",
       "      <td>SOLES</td>\n",
       "      <td>18</td>\n",
       "      <td>SUBROGACIÓN DE ADQUISICIÓN DE BIENES INMUEBLES</td>\n",
       "      <td>#N) Se propone la subrogación de la deuda que ...</td>\n",
       "    </tr>\n",
       "    <tr>\n",
       "      <th>2693</th>\n",
       "      <td>201711</td>\n",
       "      <td>532</td>\n",
       "      <td>SOLES</td>\n",
       "      <td>11</td>\n",
       "      <td>LÍNEA DE TARJETA CAPITAL DE TRABAJO</td>\n",
       "      <td>#N: SE PROPONE OTORGAR PCOM CAPITAL DE TRABAJO...</td>\n",
       "    </tr>\n",
       "    <tr>\n",
       "      <th>3102</th>\n",
       "      <td>201808</td>\n",
       "      <td>745</td>\n",
       "      <td>DÓLARES</td>\n",
       "      <td>12</td>\n",
       "      <td>LÍNEA DE FINANCIAMIENTO DE IMPORTACIÓN</td>\n",
       "      <td>AMPLIACIÓN Y RENOVACIÓN DE LIMITE COMEX DE IMP...</td>\n",
       "    </tr>\n",
       "    <tr>\n",
       "      <th>1016</th>\n",
       "      <td>201711</td>\n",
       "      <td>1009</td>\n",
       "      <td>SOLES</td>\n",
       "      <td>4</td>\n",
       "      <td>CARTA FIANZA TÉCNICA</td>\n",
       "      <td>EMISION DE CARTA FIANZA ANTE EL SERVICIO NACIO...</td>\n",
       "    </tr>\n",
       "    <tr>\n",
       "      <th>1619</th>\n",
       "      <td>201803</td>\n",
       "      <td>1009</td>\n",
       "      <td>SOLES</td>\n",
       "      <td>7</td>\n",
       "      <td>CARTA FIANZA TÉCNICA</td>\n",
       "      <td>#N - #N  EMISION DE CARTA FIANZA ANTE SERVICIO...</td>\n",
       "    </tr>\n",
       "    <tr>\n",
       "      <th>4080</th>\n",
       "      <td>201805</td>\n",
       "      <td>1129</td>\n",
       "      <td>SOLES</td>\n",
       "      <td>16</td>\n",
       "      <td>PRÉSTAMO CAPITAL DE TRABAJO</td>\n",
       "      <td>EMPRESA CON EXPERIENCIA EN EL RUBRO DE # AÑOS,...</td>\n",
       "    </tr>\n",
       "    <tr>\n",
       "      <th>1214</th>\n",
       "      <td>201707</td>\n",
       "      <td>1405</td>\n",
       "      <td>SOLES</td>\n",
       "      <td>5</td>\n",
       "      <td>LÍNEA DE TARJETA CAPITAL DE TRABAJO</td>\n",
       "      <td>#N - FINANCIAMIENTO DE VENTAS MEDIANTE EL DESC...</td>\n",
       "    </tr>\n",
       "    <tr>\n",
       "      <th>2291</th>\n",
       "      <td>201707</td>\n",
       "      <td>1602</td>\n",
       "      <td>DÓLARES</td>\n",
       "      <td>9</td>\n",
       "      <td>FINANCIAMIENTO DE IMPORTACIÓN DIRECTA</td>\n",
       "      <td># N  Financiamiento de importación de producto...</td>\n",
       "    </tr>\n",
       "    <tr>\n",
       "      <th>2427</th>\n",
       "      <td>201707</td>\n",
       "      <td>1602</td>\n",
       "      <td>DÓLARES</td>\n",
       "      <td>10</td>\n",
       "      <td>LEASING DE IMPORTACIÓN</td>\n",
       "      <td># N  Financiamiento de importación de producto...</td>\n",
       "    </tr>\n",
       "    <tr>\n",
       "      <th>2807</th>\n",
       "      <td>201707</td>\n",
       "      <td>1602</td>\n",
       "      <td>DÓLARES</td>\n",
       "      <td>11</td>\n",
       "      <td>FINANCIAMIENTO DE IMPORTACIÓN DIRECTA</td>\n",
       "      <td>#N Financiamiento de importación de productos ...</td>\n",
       "    </tr>\n",
       "    <tr>\n",
       "      <th>4221</th>\n",
       "      <td>201805</td>\n",
       "      <td>1763</td>\n",
       "      <td>SOLES</td>\n",
       "      <td>17</td>\n",
       "      <td>PRÉSTAMO PARA ADQUISICIÓN DE BIENES INMUEBLES</td>\n",
       "      <td>#N PRESTAMO COMERCIAL PARA ADQUISICIÓN DE TERR...</td>\n",
       "    </tr>\n",
       "    <tr>\n",
       "      <th>1333</th>\n",
       "      <td>201803</td>\n",
       "      <td>1894</td>\n",
       "      <td>SOLES</td>\n",
       "      <td>6</td>\n",
       "      <td>LÍNEA DE TARJETA CAPITAL DE TRABAJO</td>\n",
       "      <td>#N SE PLANTEA UNA TARJETA CAPITAL DE TRABAJO P...</td>\n",
       "    </tr>\n",
       "    <tr>\n",
       "      <th>3243</th>\n",
       "      <td>201712</td>\n",
       "      <td>2115</td>\n",
       "      <td>SOLES</td>\n",
       "      <td>13</td>\n",
       "      <td>PRÉSTAMO COMERCIAL DE MEDIANO PLAZO</td>\n",
       "      <td>#N.- SE TRATA DE RENOVAR PRESTAMO COMERCIAL OT...</td>\n",
       "    </tr>\n",
       "    <tr>\n",
       "      <th>1432</th>\n",
       "      <td>201801</td>\n",
       "      <td>2115</td>\n",
       "      <td>SOLES</td>\n",
       "      <td>6</td>\n",
       "      <td>LÍNEA DE TARJETA EMPRESARIAL ORO</td>\n",
       "      <td># N SE TRATA DE REPONER INVERSIÓN EN CONSTRUCC...</td>\n",
       "    </tr>\n",
       "    <tr>\n",
       "      <th>3242</th>\n",
       "      <td>201801</td>\n",
       "      <td>2115</td>\n",
       "      <td>SOLES</td>\n",
       "      <td>13</td>\n",
       "      <td>PRÉSTAMO COMERCIAL DE MEDIANO PLAZO</td>\n",
       "      <td># N SE TRATA DE REPONER INVERSIÓN EN CONSTRUCC...</td>\n",
       "    </tr>\n",
       "    <tr>\n",
       "      <th>3952</th>\n",
       "      <td>201801</td>\n",
       "      <td>2135</td>\n",
       "      <td>SOLES</td>\n",
       "      <td>16</td>\n",
       "      <td>LÍNEA DE TARJETA CAPITAL DE TRABAJO</td>\n",
       "      <td>#N Se trata de otorgar préstamo capital de tra...</td>\n",
       "    </tr>\n",
       "    <tr>\n",
       "      <th>2760</th>\n",
       "      <td>201805</td>\n",
       "      <td>2417</td>\n",
       "      <td>DÓLARES</td>\n",
       "      <td>11</td>\n",
       "      <td>CARTA FIANZA TÉCNICA</td>\n",
       "      <td>#N: Se trata de renovar Lim de Pcom por S/ ###...</td>\n",
       "    </tr>\n",
       "    <tr>\n",
       "      <th>2672</th>\n",
       "      <td>201805</td>\n",
       "      <td>2505</td>\n",
       "      <td>SOLES</td>\n",
       "      <td>11</td>\n",
       "      <td>LÍNEA DE TARJETA EMPRESARIAL ORO</td>\n",
       "      <td>#N SE TRATA DE ATENDER A CLIENTE EN EL FINANCI...</td>\n",
       "    </tr>\n",
       "    <tr>\n",
       "      <th>4775</th>\n",
       "      <td>201710</td>\n",
       "      <td>2572</td>\n",
       "      <td>SOLES</td>\n",
       "      <td>19</td>\n",
       "      <td>PRÉSTAMO CAPITAL DE TRABAJO</td>\n",
       "      <td>#N.- SE TRATA DE OTORGAR PRESTAMO PARA CAPITAL...</td>\n",
       "    </tr>\n",
       "    <tr>\n",
       "      <th>3644</th>\n",
       "      <td>201707</td>\n",
       "      <td>2783</td>\n",
       "      <td>SOLES</td>\n",
       "      <td>15</td>\n",
       "      <td>PRÉSTAMO CAPITAL DE TRABAJO</td>\n",
       "      <td>#N: Se solicita renovar linea de préstamo come...</td>\n",
       "    </tr>\n",
       "    <tr>\n",
       "      <th>563</th>\n",
       "      <td>201712</td>\n",
       "      <td>2783</td>\n",
       "      <td>DÓLARES</td>\n",
       "      <td>3</td>\n",
       "      <td>LÍNEA DE FINANCIAMIENTO DE IMPORTACIÓN</td>\n",
       "      <td>#N: Se solicita renovar linea de capital de tr...</td>\n",
       "    </tr>\n",
       "    <tr>\n",
       "      <th>2920</th>\n",
       "      <td>201707</td>\n",
       "      <td>2792</td>\n",
       "      <td>SOLES</td>\n",
       "      <td>12</td>\n",
       "      <td>PRÓRROGA DE CARTA FIANZA TÉCNICA</td>\n",
       "      <td>SE PROPONE PRORROGA DE ## DIAS DENTRO DE LINEA...</td>\n",
       "    </tr>\n",
       "    <tr>\n",
       "      <th>2215</th>\n",
       "      <td>201710</td>\n",
       "      <td>2792</td>\n",
       "      <td>SOLES</td>\n",
       "      <td>9</td>\n",
       "      <td>PRÓRROGA DE CARTA FIANZA TÉCNICA</td>\n",
       "      <td>#P.- PRORROGA POR ## DIAS DE CARTA FIANZA -###...</td>\n",
       "    </tr>\n",
       "    <tr>\n",
       "      <th>3159</th>\n",
       "      <td>201710</td>\n",
       "      <td>2792</td>\n",
       "      <td>SOLES</td>\n",
       "      <td>13</td>\n",
       "      <td>PRÓRROGA DE CARTA FIANZA TÉCNICA</td>\n",
       "      <td>SE PROPONE PRORROGA DE ## DIAS DENTRO DE LINEA...</td>\n",
       "    </tr>\n",
       "    <tr>\n",
       "      <th>4091</th>\n",
       "      <td>201710</td>\n",
       "      <td>2792</td>\n",
       "      <td>SOLES</td>\n",
       "      <td>16</td>\n",
       "      <td>PRÓRROGA DE CARTA FIANZA TÉCNICA</td>\n",
       "      <td>SE PROPONE PRORROGA DE ## DIAS DENTRO DE LINEA...</td>\n",
       "    </tr>\n",
       "    <tr>\n",
       "      <th>3210</th>\n",
       "      <td>201801</td>\n",
       "      <td>2792</td>\n",
       "      <td>DÓLARES</td>\n",
       "      <td>13</td>\n",
       "      <td>LEASING MOBILIARIO</td>\n",
       "      <td>#N SE TRATA DE LA ADQUISICION DE UN TRACTO CAM...</td>\n",
       "    </tr>\n",
       "    <tr>\n",
       "      <th>4090</th>\n",
       "      <td>201801</td>\n",
       "      <td>2792</td>\n",
       "      <td>SOLES</td>\n",
       "      <td>16</td>\n",
       "      <td>PRÓRROGA DE CARTA FIANZA TÉCNICA</td>\n",
       "      <td>SE PROPONE PRORROGA DE ## DIAS DENTRO DE LINEA...</td>\n",
       "    </tr>\n",
       "    <tr>\n",
       "      <th>4126</th>\n",
       "      <td>201801</td>\n",
       "      <td>2792</td>\n",
       "      <td>DÓLARES</td>\n",
       "      <td>16</td>\n",
       "      <td>LEASING MOBILIARIO</td>\n",
       "      <td>#N SE TRATA DE LA ADQUISICION DE UN CARGADOR F...</td>\n",
       "    </tr>\n",
       "    <tr>\n",
       "      <th>...</th>\n",
       "      <td>...</td>\n",
       "      <td>...</td>\n",
       "      <td>...</td>\n",
       "      <td>...</td>\n",
       "      <td>...</td>\n",
       "      <td>...</td>\n",
       "    </tr>\n",
       "    <tr>\n",
       "      <th>2579</th>\n",
       "      <td>201707</td>\n",
       "      <td>99091</td>\n",
       "      <td>SOLES</td>\n",
       "      <td>10</td>\n",
       "      <td>PRÓRROGA DE CARTA FIANZA TÉCNICA</td>\n",
       "      <td>#N Prorroga de Carta Fianza n° ####-####-#####...</td>\n",
       "    </tr>\n",
       "    <tr>\n",
       "      <th>4540</th>\n",
       "      <td>201707</td>\n",
       "      <td>99091</td>\n",
       "      <td>SOLES</td>\n",
       "      <td>18</td>\n",
       "      <td>PRÓRROGA DE CARTA FIANZA TÉCNICA</td>\n",
       "      <td>#N Prorroga de Carta Fianza n° ####-####-#####...</td>\n",
       "    </tr>\n",
       "    <tr>\n",
       "      <th>2489</th>\n",
       "      <td>201707</td>\n",
       "      <td>99116</td>\n",
       "      <td>DÓLARES</td>\n",
       "      <td>10</td>\n",
       "      <td>LEASING MOBILIARIO</td>\n",
       "      <td>#N.Se propone la adquisición de ## camioneta  ...</td>\n",
       "    </tr>\n",
       "    <tr>\n",
       "      <th>4605</th>\n",
       "      <td>201707</td>\n",
       "      <td>99116</td>\n",
       "      <td>DÓLARES</td>\n",
       "      <td>18</td>\n",
       "      <td>LÍNEA DE PRÉSTAMO CAPITAL DE TRABAJO</td>\n",
       "      <td>#N.Se propone  Línea de Préstamos comerciales ...</td>\n",
       "    </tr>\n",
       "    <tr>\n",
       "      <th>4744</th>\n",
       "      <td>201804</td>\n",
       "      <td>99116</td>\n",
       "      <td>DÓLARES</td>\n",
       "      <td>19</td>\n",
       "      <td>LEASING MOBILIARIO</td>\n",
       "      <td>#N.Se propone  la adquisición de ## máquina de...</td>\n",
       "    </tr>\n",
       "    <tr>\n",
       "      <th>2941</th>\n",
       "      <td>201711</td>\n",
       "      <td>99134</td>\n",
       "      <td>SOLES</td>\n",
       "      <td>12</td>\n",
       "      <td>CARTA FIANZA TÉCNICA</td>\n",
       "      <td>#N - EMISION DE CARTA GARANTIZANDO A NUESTRO C...</td>\n",
       "    </tr>\n",
       "    <tr>\n",
       "      <th>2523</th>\n",
       "      <td>201712</td>\n",
       "      <td>99134</td>\n",
       "      <td>SOLES</td>\n",
       "      <td>10</td>\n",
       "      <td>CARTA FIANZA TÉCNICA</td>\n",
       "      <td>#N - EMISION DE CARTA GARANTIZANDO A NUESTRO C...</td>\n",
       "    </tr>\n",
       "    <tr>\n",
       "      <th>2944</th>\n",
       "      <td>201712</td>\n",
       "      <td>99134</td>\n",
       "      <td>SOLES</td>\n",
       "      <td>12</td>\n",
       "      <td>CARTA FIANZA TÉCNICA</td>\n",
       "      <td>#N - EMISION DE CARTA GARANTIZANDO A NUESTRO C...</td>\n",
       "    </tr>\n",
       "    <tr>\n",
       "      <th>2894</th>\n",
       "      <td>201801</td>\n",
       "      <td>99151</td>\n",
       "      <td>SOLES</td>\n",
       "      <td>12</td>\n",
       "      <td>PRÉSTAMO CAPITAL DE TRABAJO</td>\n",
       "      <td>Se trata de OTORGAR Préstamo Comercial para Ca...</td>\n",
       "    </tr>\n",
       "    <tr>\n",
       "      <th>3477</th>\n",
       "      <td>201711</td>\n",
       "      <td>99295</td>\n",
       "      <td>SOLES</td>\n",
       "      <td>14</td>\n",
       "      <td>PRÉSTAMO PARA ADQUISICIÓN DE BIENES MUEBLES</td>\n",
       "      <td>#N PRESTAMO COMERCIAL LARGO PLAZO DESTINADO A ...</td>\n",
       "    </tr>\n",
       "    <tr>\n",
       "      <th>4590</th>\n",
       "      <td>201804</td>\n",
       "      <td>99346</td>\n",
       "      <td>SOLES</td>\n",
       "      <td>18</td>\n",
       "      <td>LÍNEA DE DESCUENTO DE LETRAS</td>\n",
       "      <td>#N RENOVACION DE PRESTAMO CAPITAL DE TRABAJO P...</td>\n",
       "    </tr>\n",
       "    <tr>\n",
       "      <th>5199</th>\n",
       "      <td>201712</td>\n",
       "      <td>99349</td>\n",
       "      <td>SOLES</td>\n",
       "      <td>20</td>\n",
       "      <td>CARTA FIANZA ECONÓMICA</td>\n",
       "      <td>#N.- CARTA FIANZA FIEL CUMPLIMIENTO , \\r\\r\\n#N...</td>\n",
       "    </tr>\n",
       "    <tr>\n",
       "      <th>4779</th>\n",
       "      <td>201710</td>\n",
       "      <td>99446</td>\n",
       "      <td>SOLES</td>\n",
       "      <td>19</td>\n",
       "      <td>CARTA FIANZA ECONÓMICA</td>\n",
       "      <td>#N.SE TRATA DE APOYAR AL CLIENTE CON LA EMISIO...</td>\n",
       "    </tr>\n",
       "    <tr>\n",
       "      <th>4781</th>\n",
       "      <td>201710</td>\n",
       "      <td>99446</td>\n",
       "      <td>SOLES</td>\n",
       "      <td>19</td>\n",
       "      <td>CARTA FIANZA TÉCNICA</td>\n",
       "      <td>#N.SE TRATA DE APOYAR AL CLIENTE CON LA EMISIO...</td>\n",
       "    </tr>\n",
       "    <tr>\n",
       "      <th>1049</th>\n",
       "      <td>201803</td>\n",
       "      <td>99446</td>\n",
       "      <td>SOLES</td>\n",
       "      <td>5</td>\n",
       "      <td>CARTA FIANZA TÉCNICA</td>\n",
       "      <td>#N.SE TRATA DE APOYAR AL CLIENTE CON LA RENOVA...</td>\n",
       "    </tr>\n",
       "    <tr>\n",
       "      <th>2575</th>\n",
       "      <td>201803</td>\n",
       "      <td>99446</td>\n",
       "      <td>SOLES</td>\n",
       "      <td>10</td>\n",
       "      <td>CARTA FIANZA TÉCNICA</td>\n",
       "      <td>#N.SE TRATA DE APOYAR AL CLIENTE CON LA RENOVA...</td>\n",
       "    </tr>\n",
       "    <tr>\n",
       "      <th>4079</th>\n",
       "      <td>201803</td>\n",
       "      <td>99446</td>\n",
       "      <td>SOLES</td>\n",
       "      <td>16</td>\n",
       "      <td>CARTA FIANZA TÉCNICA</td>\n",
       "      <td>#N.SE TRATA DE APOYAR AL CLIENTE CON LA RENOVA...</td>\n",
       "    </tr>\n",
       "    <tr>\n",
       "      <th>4077</th>\n",
       "      <td>201804</td>\n",
       "      <td>99446</td>\n",
       "      <td>SOLES</td>\n",
       "      <td>16</td>\n",
       "      <td>CARTA FIANZA TÉCNICA</td>\n",
       "      <td>#N.SE TRATA DE APOYAR AL CLIENTE CON LA RENOVA...</td>\n",
       "    </tr>\n",
       "    <tr>\n",
       "      <th>4226</th>\n",
       "      <td>201804</td>\n",
       "      <td>99446</td>\n",
       "      <td>SOLES</td>\n",
       "      <td>17</td>\n",
       "      <td>CARTA FIANZA TÉCNICA</td>\n",
       "      <td>#N.SE TRATA DE APOYAR AL CLIENTE CON LA RENOVA...</td>\n",
       "    </tr>\n",
       "    <tr>\n",
       "      <th>2563</th>\n",
       "      <td>201805</td>\n",
       "      <td>99446</td>\n",
       "      <td>SOLES</td>\n",
       "      <td>10</td>\n",
       "      <td>LÍNEA PARA EMISIÓN DE CARTAS FIANZA (TÉCNICAS ...</td>\n",
       "      <td>#N-Se trata de apoyar al cliente con la renova...</td>\n",
       "    </tr>\n",
       "    <tr>\n",
       "      <th>2878</th>\n",
       "      <td>201805</td>\n",
       "      <td>99446</td>\n",
       "      <td>SOLES</td>\n",
       "      <td>12</td>\n",
       "      <td>PRÉSTAMO CAPITAL DE TRABAJO</td>\n",
       "      <td>#N*Se trata de apoyar al cliente con un présta...</td>\n",
       "    </tr>\n",
       "    <tr>\n",
       "      <th>2981</th>\n",
       "      <td>201805</td>\n",
       "      <td>99446</td>\n",
       "      <td>DÓLARES</td>\n",
       "      <td>12</td>\n",
       "      <td>PRÉSTAMO PARA ADQUISICIÓN DE BIENES MUEBLES</td>\n",
       "      <td>#N*Se trata de apoyar al cliente con un présta...</td>\n",
       "    </tr>\n",
       "    <tr>\n",
       "      <th>1883</th>\n",
       "      <td>201803</td>\n",
       "      <td>99490</td>\n",
       "      <td>SOLES</td>\n",
       "      <td>8</td>\n",
       "      <td>LÍNEA DE PRÉSTAMO CAPITAL DE TRABAJO</td>\n",
       "      <td>#M: Se trata de solicitar autorización para mo...</td>\n",
       "    </tr>\n",
       "    <tr>\n",
       "      <th>2983</th>\n",
       "      <td>201707</td>\n",
       "      <td>99570</td>\n",
       "      <td>SOLES</td>\n",
       "      <td>12</td>\n",
       "      <td>CARTA FIANZA TÉCNICA</td>\n",
       "      <td>#N: Se trata de otorgar una carta fianza para ...</td>\n",
       "    </tr>\n",
       "    <tr>\n",
       "      <th>1606</th>\n",
       "      <td>201805</td>\n",
       "      <td>99830</td>\n",
       "      <td>DÓLARES</td>\n",
       "      <td>7</td>\n",
       "      <td>LEASING MOBILIARIO</td>\n",
       "      <td>#N: se trata de otorgar financiamientom para l...</td>\n",
       "    </tr>\n",
       "    <tr>\n",
       "      <th>2789</th>\n",
       "      <td>201805</td>\n",
       "      <td>99830</td>\n",
       "      <td>SOLES</td>\n",
       "      <td>11</td>\n",
       "      <td>LÍNEA DE TARJETA CAPITAL DE TRABAJO</td>\n",
       "      <td>#N: se trata de otorgar financiamientom para l...</td>\n",
       "    </tr>\n",
       "    <tr>\n",
       "      <th>2608</th>\n",
       "      <td>201707</td>\n",
       "      <td>99966</td>\n",
       "      <td>DÓLARES</td>\n",
       "      <td>11</td>\n",
       "      <td>PRÉSTAMO CAPITAL DE TRABAJO</td>\n",
       "      <td>#N SE PROPONE CAPITAL DE TRABAJO PARA PODER AS...</td>\n",
       "    </tr>\n",
       "    <tr>\n",
       "      <th>4672</th>\n",
       "      <td>201707</td>\n",
       "      <td>99966</td>\n",
       "      <td>DÓLARES</td>\n",
       "      <td>18</td>\n",
       "      <td>LÍNEA DE PRÉSTAMO CAPITAL DE TRABAJO</td>\n",
       "      <td>SE PROPONE ACTUALIZAR Y AUMENTAR LINEA PARA PR...</td>\n",
       "    </tr>\n",
       "    <tr>\n",
       "      <th>4598</th>\n",
       "      <td>201712</td>\n",
       "      <td>99966</td>\n",
       "      <td>DÓLARES</td>\n",
       "      <td>18</td>\n",
       "      <td>LÍNEA DE PRÉSTAMO CAPITAL DE TRABAJO</td>\n",
       "      <td>#N SE PROPONE ACTUALIZAR LINEA PARA PRESTAMO D...</td>\n",
       "    </tr>\n",
       "    <tr>\n",
       "      <th>4630</th>\n",
       "      <td>201808</td>\n",
       "      <td>99966</td>\n",
       "      <td>DÓLARES</td>\n",
       "      <td>18</td>\n",
       "      <td>LÍNEA DE PRÉSTAMO CAPITAL DE TRABAJO</td>\n",
       "      <td>#N - SE PROPONE RENOVACION DE PRESTAMO CAPITAL...</td>\n",
       "    </tr>\n",
       "  </tbody>\n",
       "</table>\n",
       "<p>1616 rows × 6 columns</p>\n",
       "</div>"
      ],
      "text/plain": [
       "         MES  ID_CLIENTE   Moneda  RGO_Importe  \\\n",
       "2738  201707          92    SOLES           11   \n",
       "2753  201711         250    SOLES           11   \n",
       "4487  201711         250    SOLES           18   \n",
       "2693  201711         532    SOLES           11   \n",
       "3102  201808         745  DÓLARES           12   \n",
       "1016  201711        1009    SOLES            4   \n",
       "1619  201803        1009    SOLES            7   \n",
       "4080  201805        1129    SOLES           16   \n",
       "1214  201707        1405    SOLES            5   \n",
       "2291  201707        1602  DÓLARES            9   \n",
       "2427  201707        1602  DÓLARES           10   \n",
       "2807  201707        1602  DÓLARES           11   \n",
       "4221  201805        1763    SOLES           17   \n",
       "1333  201803        1894    SOLES            6   \n",
       "3243  201712        2115    SOLES           13   \n",
       "1432  201801        2115    SOLES            6   \n",
       "3242  201801        2115    SOLES           13   \n",
       "3952  201801        2135    SOLES           16   \n",
       "2760  201805        2417  DÓLARES           11   \n",
       "2672  201805        2505    SOLES           11   \n",
       "4775  201710        2572    SOLES           19   \n",
       "3644  201707        2783    SOLES           15   \n",
       "563   201712        2783  DÓLARES            3   \n",
       "2920  201707        2792    SOLES           12   \n",
       "2215  201710        2792    SOLES            9   \n",
       "3159  201710        2792    SOLES           13   \n",
       "4091  201710        2792    SOLES           16   \n",
       "3210  201801        2792  DÓLARES           13   \n",
       "4090  201801        2792    SOLES           16   \n",
       "4126  201801        2792  DÓLARES           16   \n",
       "...      ...         ...      ...          ...   \n",
       "2579  201707       99091    SOLES           10   \n",
       "4540  201707       99091    SOLES           18   \n",
       "2489  201707       99116  DÓLARES           10   \n",
       "4605  201707       99116  DÓLARES           18   \n",
       "4744  201804       99116  DÓLARES           19   \n",
       "2941  201711       99134    SOLES           12   \n",
       "2523  201712       99134    SOLES           10   \n",
       "2944  201712       99134    SOLES           12   \n",
       "2894  201801       99151    SOLES           12   \n",
       "3477  201711       99295    SOLES           14   \n",
       "4590  201804       99346    SOLES           18   \n",
       "5199  201712       99349    SOLES           20   \n",
       "4779  201710       99446    SOLES           19   \n",
       "4781  201710       99446    SOLES           19   \n",
       "1049  201803       99446    SOLES            5   \n",
       "2575  201803       99446    SOLES           10   \n",
       "4079  201803       99446    SOLES           16   \n",
       "4077  201804       99446    SOLES           16   \n",
       "4226  201804       99446    SOLES           17   \n",
       "2563  201805       99446    SOLES           10   \n",
       "2878  201805       99446    SOLES           12   \n",
       "2981  201805       99446  DÓLARES           12   \n",
       "1883  201803       99490    SOLES            8   \n",
       "2983  201707       99570    SOLES           12   \n",
       "1606  201805       99830  DÓLARES            7   \n",
       "2789  201805       99830    SOLES           11   \n",
       "2608  201707       99966  DÓLARES           11   \n",
       "4672  201707       99966  DÓLARES           18   \n",
       "4598  201712       99966  DÓLARES           18   \n",
       "4630  201808       99966  DÓLARES           18   \n",
       "\n",
       "                                    Producto_Solicitado  \\\n",
       "2738                LÍNEA DE TARJETA CAPITAL DE TRABAJO   \n",
       "2753                LÍNEA DE TARJETA CAPITAL DE TRABAJO   \n",
       "4487     SUBROGACIÓN DE ADQUISICIÓN DE BIENES INMUEBLES   \n",
       "2693                LÍNEA DE TARJETA CAPITAL DE TRABAJO   \n",
       "3102             LÍNEA DE FINANCIAMIENTO DE IMPORTACIÓN   \n",
       "1016                               CARTA FIANZA TÉCNICA   \n",
       "1619                               CARTA FIANZA TÉCNICA   \n",
       "4080                        PRÉSTAMO CAPITAL DE TRABAJO   \n",
       "1214                LÍNEA DE TARJETA CAPITAL DE TRABAJO   \n",
       "2291              FINANCIAMIENTO DE IMPORTACIÓN DIRECTA   \n",
       "2427                             LEASING DE IMPORTACIÓN   \n",
       "2807              FINANCIAMIENTO DE IMPORTACIÓN DIRECTA   \n",
       "4221      PRÉSTAMO PARA ADQUISICIÓN DE BIENES INMUEBLES   \n",
       "1333                LÍNEA DE TARJETA CAPITAL DE TRABAJO   \n",
       "3243                PRÉSTAMO COMERCIAL DE MEDIANO PLAZO   \n",
       "1432                   LÍNEA DE TARJETA EMPRESARIAL ORO   \n",
       "3242                PRÉSTAMO COMERCIAL DE MEDIANO PLAZO   \n",
       "3952                LÍNEA DE TARJETA CAPITAL DE TRABAJO   \n",
       "2760                               CARTA FIANZA TÉCNICA   \n",
       "2672                   LÍNEA DE TARJETA EMPRESARIAL ORO   \n",
       "4775                        PRÉSTAMO CAPITAL DE TRABAJO   \n",
       "3644                        PRÉSTAMO CAPITAL DE TRABAJO   \n",
       "563              LÍNEA DE FINANCIAMIENTO DE IMPORTACIÓN   \n",
       "2920                   PRÓRROGA DE CARTA FIANZA TÉCNICA   \n",
       "2215                   PRÓRROGA DE CARTA FIANZA TÉCNICA   \n",
       "3159                   PRÓRROGA DE CARTA FIANZA TÉCNICA   \n",
       "4091                   PRÓRROGA DE CARTA FIANZA TÉCNICA   \n",
       "3210                                 LEASING MOBILIARIO   \n",
       "4090                   PRÓRROGA DE CARTA FIANZA TÉCNICA   \n",
       "4126                                 LEASING MOBILIARIO   \n",
       "...                                                 ...   \n",
       "2579                   PRÓRROGA DE CARTA FIANZA TÉCNICA   \n",
       "4540                   PRÓRROGA DE CARTA FIANZA TÉCNICA   \n",
       "2489                                 LEASING MOBILIARIO   \n",
       "4605               LÍNEA DE PRÉSTAMO CAPITAL DE TRABAJO   \n",
       "4744                                 LEASING MOBILIARIO   \n",
       "2941                               CARTA FIANZA TÉCNICA   \n",
       "2523                               CARTA FIANZA TÉCNICA   \n",
       "2944                               CARTA FIANZA TÉCNICA   \n",
       "2894                        PRÉSTAMO CAPITAL DE TRABAJO   \n",
       "3477        PRÉSTAMO PARA ADQUISICIÓN DE BIENES MUEBLES   \n",
       "4590                       LÍNEA DE DESCUENTO DE LETRAS   \n",
       "5199                             CARTA FIANZA ECONÓMICA   \n",
       "4779                             CARTA FIANZA ECONÓMICA   \n",
       "4781                               CARTA FIANZA TÉCNICA   \n",
       "1049                               CARTA FIANZA TÉCNICA   \n",
       "2575                               CARTA FIANZA TÉCNICA   \n",
       "4079                               CARTA FIANZA TÉCNICA   \n",
       "4077                               CARTA FIANZA TÉCNICA   \n",
       "4226                               CARTA FIANZA TÉCNICA   \n",
       "2563  LÍNEA PARA EMISIÓN DE CARTAS FIANZA (TÉCNICAS ...   \n",
       "2878                        PRÉSTAMO CAPITAL DE TRABAJO   \n",
       "2981        PRÉSTAMO PARA ADQUISICIÓN DE BIENES MUEBLES   \n",
       "1883               LÍNEA DE PRÉSTAMO CAPITAL DE TRABAJO   \n",
       "2983                               CARTA FIANZA TÉCNICA   \n",
       "1606                                 LEASING MOBILIARIO   \n",
       "2789                LÍNEA DE TARJETA CAPITAL DE TRABAJO   \n",
       "2608                        PRÉSTAMO CAPITAL DE TRABAJO   \n",
       "4672               LÍNEA DE PRÉSTAMO CAPITAL DE TRABAJO   \n",
       "4598               LÍNEA DE PRÉSTAMO CAPITAL DE TRABAJO   \n",
       "4630               LÍNEA DE PRÉSTAMO CAPITAL DE TRABAJO   \n",
       "\n",
       "                                     Sustento_Solicitud  \n",
       "2738  #N SE TRATA DE ATENDER AL CLIENTE PARA LA ADQU...  \n",
       "2753  #N) Se propone la subrogación de la deuda que ...  \n",
       "4487  #N) Se propone la subrogación de la deuda que ...  \n",
       "2693  #N: SE PROPONE OTORGAR PCOM CAPITAL DE TRABAJO...  \n",
       "3102  AMPLIACIÓN Y RENOVACIÓN DE LIMITE COMEX DE IMP...  \n",
       "1016  EMISION DE CARTA FIANZA ANTE EL SERVICIO NACIO...  \n",
       "1619  #N - #N  EMISION DE CARTA FIANZA ANTE SERVICIO...  \n",
       "4080  EMPRESA CON EXPERIENCIA EN EL RUBRO DE # AÑOS,...  \n",
       "1214  #N - FINANCIAMIENTO DE VENTAS MEDIANTE EL DESC...  \n",
       "2291  # N  Financiamiento de importación de producto...  \n",
       "2427  # N  Financiamiento de importación de producto...  \n",
       "2807  #N Financiamiento de importación de productos ...  \n",
       "4221  #N PRESTAMO COMERCIAL PARA ADQUISICIÓN DE TERR...  \n",
       "1333  #N SE PLANTEA UNA TARJETA CAPITAL DE TRABAJO P...  \n",
       "3243  #N.- SE TRATA DE RENOVAR PRESTAMO COMERCIAL OT...  \n",
       "1432  # N SE TRATA DE REPONER INVERSIÓN EN CONSTRUCC...  \n",
       "3242  # N SE TRATA DE REPONER INVERSIÓN EN CONSTRUCC...  \n",
       "3952  #N Se trata de otorgar préstamo capital de tra...  \n",
       "2760  #N: Se trata de renovar Lim de Pcom por S/ ###...  \n",
       "2672  #N SE TRATA DE ATENDER A CLIENTE EN EL FINANCI...  \n",
       "4775  #N.- SE TRATA DE OTORGAR PRESTAMO PARA CAPITAL...  \n",
       "3644  #N: Se solicita renovar linea de préstamo come...  \n",
       "563   #N: Se solicita renovar linea de capital de tr...  \n",
       "2920  SE PROPONE PRORROGA DE ## DIAS DENTRO DE LINEA...  \n",
       "2215  #P.- PRORROGA POR ## DIAS DE CARTA FIANZA -###...  \n",
       "3159  SE PROPONE PRORROGA DE ## DIAS DENTRO DE LINEA...  \n",
       "4091  SE PROPONE PRORROGA DE ## DIAS DENTRO DE LINEA...  \n",
       "3210  #N SE TRATA DE LA ADQUISICION DE UN TRACTO CAM...  \n",
       "4090  SE PROPONE PRORROGA DE ## DIAS DENTRO DE LINEA...  \n",
       "4126  #N SE TRATA DE LA ADQUISICION DE UN CARGADOR F...  \n",
       "...                                                 ...  \n",
       "2579  #N Prorroga de Carta Fianza n° ####-####-#####...  \n",
       "4540  #N Prorroga de Carta Fianza n° ####-####-#####...  \n",
       "2489  #N.Se propone la adquisición de ## camioneta  ...  \n",
       "4605  #N.Se propone  Línea de Préstamos comerciales ...  \n",
       "4744  #N.Se propone  la adquisición de ## máquina de...  \n",
       "2941  #N - EMISION DE CARTA GARANTIZANDO A NUESTRO C...  \n",
       "2523  #N - EMISION DE CARTA GARANTIZANDO A NUESTRO C...  \n",
       "2944  #N - EMISION DE CARTA GARANTIZANDO A NUESTRO C...  \n",
       "2894  Se trata de OTORGAR Préstamo Comercial para Ca...  \n",
       "3477  #N PRESTAMO COMERCIAL LARGO PLAZO DESTINADO A ...  \n",
       "4590  #N RENOVACION DE PRESTAMO CAPITAL DE TRABAJO P...  \n",
       "5199  #N.- CARTA FIANZA FIEL CUMPLIMIENTO , \\r\\r\\n#N...  \n",
       "4779  #N.SE TRATA DE APOYAR AL CLIENTE CON LA EMISIO...  \n",
       "4781  #N.SE TRATA DE APOYAR AL CLIENTE CON LA EMISIO...  \n",
       "1049  #N.SE TRATA DE APOYAR AL CLIENTE CON LA RENOVA...  \n",
       "2575  #N.SE TRATA DE APOYAR AL CLIENTE CON LA RENOVA...  \n",
       "4079  #N.SE TRATA DE APOYAR AL CLIENTE CON LA RENOVA...  \n",
       "4077  #N.SE TRATA DE APOYAR AL CLIENTE CON LA RENOVA...  \n",
       "4226  #N.SE TRATA DE APOYAR AL CLIENTE CON LA RENOVA...  \n",
       "2563  #N-Se trata de apoyar al cliente con la renova...  \n",
       "2878  #N*Se trata de apoyar al cliente con un présta...  \n",
       "2981  #N*Se trata de apoyar al cliente con un présta...  \n",
       "1883  #M: Se trata de solicitar autorización para mo...  \n",
       "2983  #N: Se trata de otorgar una carta fianza para ...  \n",
       "1606  #N: se trata de otorgar financiamientom para l...  \n",
       "2789  #N: se trata de otorgar financiamientom para l...  \n",
       "2608  #N SE PROPONE CAPITAL DE TRABAJO PARA PODER AS...  \n",
       "4672  SE PROPONE ACTUALIZAR Y AUMENTAR LINEA PARA PR...  \n",
       "4598  #N SE PROPONE ACTUALIZAR LINEA PARA PRESTAMO D...  \n",
       "4630  #N - SE PROPONE RENOVACION DE PRESTAMO CAPITAL...  \n",
       "\n",
       "[1616 rows x 6 columns]"
      ]
     },
     "execution_count": 31,
     "metadata": {},
     "output_type": "execute_result"
    }
   ],
   "source": [
    "df_solicitudes.sort_values([\"ID_CLIENTE\",\"MES\"], inplace = True)\n",
    "bool_series = df_solicitudes[[\"ID_CLIENTE\",\"MES\"]].duplicated()\n",
    "df_solicitudes[bool_series] "
   ]
  },
  {
   "cell_type": "markdown",
   "metadata": {},
   "source": [
    "### Buscando ejemplos especificos"
   ]
  },
  {
   "cell_type": "code",
   "execution_count": 32,
   "metadata": {
    "scrolled": true
   },
   "outputs": [
    {
     "data": {
      "text/html": [
       "<div>\n",
       "<style scoped>\n",
       "    .dataframe tbody tr th:only-of-type {\n",
       "        vertical-align: middle;\n",
       "    }\n",
       "\n",
       "    .dataframe tbody tr th {\n",
       "        vertical-align: top;\n",
       "    }\n",
       "\n",
       "    .dataframe thead th {\n",
       "        text-align: right;\n",
       "    }\n",
       "</style>\n",
       "<table border=\"1\" class=\"dataframe\">\n",
       "  <thead>\n",
       "    <tr style=\"text-align: right;\">\n",
       "      <th></th>\n",
       "      <th>MES</th>\n",
       "      <th>ID_CLIENTE</th>\n",
       "      <th>Moneda</th>\n",
       "      <th>RGO_Importe</th>\n",
       "      <th>Producto_Solicitado</th>\n",
       "      <th>Sustento_Solicitud</th>\n",
       "    </tr>\n",
       "  </thead>\n",
       "  <tbody>\n",
       "    <tr>\n",
       "      <th>1864</th>\n",
       "      <td>201707</td>\n",
       "      <td>92</td>\n",
       "      <td>DÓLARES</td>\n",
       "      <td>8</td>\n",
       "      <td>LEASING MOBILIARIO</td>\n",
       "      <td>#N SE TRATA DE ATENDER AL CLIENTE PARA LA ADQU...</td>\n",
       "    </tr>\n",
       "    <tr>\n",
       "      <th>2738</th>\n",
       "      <td>201707</td>\n",
       "      <td>92</td>\n",
       "      <td>SOLES</td>\n",
       "      <td>11</td>\n",
       "      <td>LÍNEA DE TARJETA CAPITAL DE TRABAJO</td>\n",
       "      <td>#N SE TRATA DE ATENDER AL CLIENTE PARA LA ADQU...</td>\n",
       "    </tr>\n",
       "  </tbody>\n",
       "</table>\n",
       "</div>"
      ],
      "text/plain": [
       "         MES  ID_CLIENTE   Moneda  RGO_Importe  \\\n",
       "1864  201707          92  DÓLARES            8   \n",
       "2738  201707          92    SOLES           11   \n",
       "\n",
       "                      Producto_Solicitado  \\\n",
       "1864                   LEASING MOBILIARIO   \n",
       "2738  LÍNEA DE TARJETA CAPITAL DE TRABAJO   \n",
       "\n",
       "                                     Sustento_Solicitud  \n",
       "1864  #N SE TRATA DE ATENDER AL CLIENTE PARA LA ADQU...  \n",
       "2738  #N SE TRATA DE ATENDER AL CLIENTE PARA LA ADQU...  "
      ]
     },
     "execution_count": 32,
     "metadata": {},
     "output_type": "execute_result"
    }
   ],
   "source": [
    "df_solicitudes[(df_solicitudes['MES'] == 201707) & (df_solicitudes['ID_CLIENTE'] == 92)]"
   ]
  },
  {
   "cell_type": "code",
   "execution_count": 34,
   "metadata": {
    "scrolled": true
   },
   "outputs": [
    {
     "data": {
      "text/plain": [
       "'#N SE TRATA DE ATENDER AL CLIENTE PARA LA ADQUISICION DE CAMIONETA PICK UP - MARCA TOYOA HILUX - PROVEEDOR GRUPO AUTONORT:\\r\\r\\nPRECIO DE VENTA : US$ ##,###- APORTE : ##% , FINANCIAMIENTO ##% .\\r\\r\\n\\r\\r\\nCLIENTE SE MOVILIZA CONSTANTEMENTE PARA ADMINISTRAR SUS ## LOCALES - RESTAURANTES , ASI COMO PARA COMPRA DE INSUMOS, CON LA COMPRA DE LA CAMIONETA LE PERMITIRA TENER MAYOR COMODIDAD.\\r\\r\\n\\r\\r\\n\\r\\r\\n#N EMISION DE TARJETA CAPITAL DE TRABAJO, COMO PROACTIVIDAD COMERCIAL DE MANERA EXCEPCIONAL.'"
      ]
     },
     "execution_count": 34,
     "metadata": {},
     "output_type": "execute_result"
    }
   ],
   "source": [
    "# Leyendo el sustento\n",
    "df_solicitudes[(df_solicitudes['MES'] == 201707) & (df_solicitudes['ID_CLIENTE'] == 92)]['Sustento_Solicitud'].values[0]"
   ]
  },
  {
   "cell_type": "code",
   "execution_count": 35,
   "metadata": {},
   "outputs": [
    {
     "data": {
      "text/html": [
       "<div>\n",
       "<style scoped>\n",
       "    .dataframe tbody tr th:only-of-type {\n",
       "        vertical-align: middle;\n",
       "    }\n",
       "\n",
       "    .dataframe tbody tr th {\n",
       "        vertical-align: top;\n",
       "    }\n",
       "\n",
       "    .dataframe thead th {\n",
       "        text-align: right;\n",
       "    }\n",
       "</style>\n",
       "<table border=\"1\" class=\"dataframe\">\n",
       "  <thead>\n",
       "    <tr style=\"text-align: right;\">\n",
       "      <th></th>\n",
       "      <th>MES</th>\n",
       "      <th>ID_CLIENTE</th>\n",
       "      <th>Moneda</th>\n",
       "      <th>RGO_Importe</th>\n",
       "      <th>Producto_Solicitado</th>\n",
       "      <th>Sustento_Solicitud</th>\n",
       "    </tr>\n",
       "  </thead>\n",
       "  <tbody>\n",
       "    <tr>\n",
       "      <th>1864</th>\n",
       "      <td>201707</td>\n",
       "      <td>92</td>\n",
       "      <td>DÓLARES</td>\n",
       "      <td>8</td>\n",
       "      <td>LEASING MOBILIARIO</td>\n",
       "      <td>#N SE TRATA DE ATENDER AL CLIENTE PARA LA ADQU...</td>\n",
       "    </tr>\n",
       "    <tr>\n",
       "      <th>2738</th>\n",
       "      <td>201707</td>\n",
       "      <td>92</td>\n",
       "      <td>SOLES</td>\n",
       "      <td>11</td>\n",
       "      <td>LÍNEA DE TARJETA CAPITAL DE TRABAJO</td>\n",
       "      <td>#N SE TRATA DE ATENDER AL CLIENTE PARA LA ADQU...</td>\n",
       "    </tr>\n",
       "  </tbody>\n",
       "</table>\n",
       "</div>"
      ],
      "text/plain": [
       "         MES  ID_CLIENTE   Moneda  RGO_Importe  \\\n",
       "1864  201707          92  DÓLARES            8   \n",
       "2738  201707          92    SOLES           11   \n",
       "\n",
       "                      Producto_Solicitado  \\\n",
       "1864                   LEASING MOBILIARIO   \n",
       "2738  LÍNEA DE TARJETA CAPITAL DE TRABAJO   \n",
       "\n",
       "                                     Sustento_Solicitud  \n",
       "1864  #N SE TRATA DE ATENDER AL CLIENTE PARA LA ADQU...  \n",
       "2738  #N SE TRATA DE ATENDER AL CLIENTE PARA LA ADQU...  "
      ]
     },
     "execution_count": 35,
     "metadata": {},
     "output_type": "execute_result"
    }
   ],
   "source": [
    "# Revisando si este cliente hizo compra de otros productos en otros periodos.\n",
    "df_solicitudes[(df_solicitudes['ID_CLIENTE'] == 92)] # No. (Tal vez se fue xd)"
   ]
  }
 ],
 "metadata": {
  "kernelspec": {
   "display_name": "Python 3",
   "language": "python",
   "name": "python3"
  },
  "language_info": {
   "codemirror_mode": {
    "name": "ipython",
    "version": 3
   },
   "file_extension": ".py",
   "mimetype": "text/x-python",
   "name": "python",
   "nbconvert_exporter": "python",
   "pygments_lexer": "ipython3",
   "version": "3.7.3"
  }
 },
 "nbformat": 4,
 "nbformat_minor": 2
}
