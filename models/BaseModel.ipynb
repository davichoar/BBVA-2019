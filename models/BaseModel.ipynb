{
 "cells": [
  {
   "cell_type": "code",
   "execution_count": 136,
   "metadata": {},
   "outputs": [],
   "source": [
    "import numpy as np\n",
    "import pandas as pd\n",
    "from xgboost import XGBClassifier\n",
    "from sklearn.preprocessing import OneHotEncoder\n",
    "from sklearn.model_selection import train_test_split\n",
    "from sklearn.metrics import roc_auc_score\n",
    "from xgboost import plot_importance\n",
    "from matplotlib import pyplot"
   ]
  },
  {
   "cell_type": "code",
   "execution_count": 104,
   "metadata": {},
   "outputs": [],
   "source": [
    "import os\n",
    "os.environ['KMP_DUPLICATE_LIB_OK']='True'"
   ]
  },
  {
   "cell_type": "code",
   "execution_count": 105,
   "metadata": {},
   "outputs": [],
   "source": [
    "# Reading datasetss\n",
    "df_stock_train = pd.read_csv(\"../data/DATA_STOCK_VARS_TRAIN_F.csv\")\n",
    "df_stock_test = pd.read_csv(\"../data/DATA_STOCK_VARS_TEST_F.csv\")"
   ]
  },
  {
   "cell_type": "markdown",
   "metadata": {},
   "source": [
    "# Primer modelo base con RF y one_hot"
   ]
  },
  {
   "cell_type": "markdown",
   "metadata": {},
   "source": [
    "## Preprocessing"
   ]
  },
  {
   "cell_type": "code",
   "execution_count": 106,
   "metadata": {},
   "outputs": [],
   "source": [
    "df_stock_train_p = df_stock_train.copy()\n",
    "df_stock_test_p = df_stock_test.copy()"
   ]
  },
  {
   "cell_type": "code",
   "execution_count": 107,
   "metadata": {},
   "outputs": [
    {
     "data": {
      "text/html": [
       "<div>\n",
       "<style scoped>\n",
       "    .dataframe tbody tr th:only-of-type {\n",
       "        vertical-align: middle;\n",
       "    }\n",
       "\n",
       "    .dataframe tbody tr th {\n",
       "        vertical-align: top;\n",
       "    }\n",
       "\n",
       "    .dataframe thead th {\n",
       "        text-align: right;\n",
       "    }\n",
       "</style>\n",
       "<table border=\"1\" class=\"dataframe\">\n",
       "  <thead>\n",
       "    <tr style=\"text-align: right;\">\n",
       "      <th></th>\n",
       "      <th>0</th>\n",
       "    </tr>\n",
       "  </thead>\n",
       "  <tbody>\n",
       "    <tr>\n",
       "      <th>ID</th>\n",
       "      <td>201808_48117</td>\n",
       "    </tr>\n",
       "    <tr>\n",
       "      <th>MES_T0</th>\n",
       "      <td>201808</td>\n",
       "    </tr>\n",
       "    <tr>\n",
       "      <th>ID_CLIENTE</th>\n",
       "      <td>48117</td>\n",
       "    </tr>\n",
       "    <tr>\n",
       "      <th>FUGA_3M</th>\n",
       "      <td>0</td>\n",
       "    </tr>\n",
       "    <tr>\n",
       "      <th>FH_NACIMIENTO</th>\n",
       "      <td>2015-12-04 00:00:00</td>\n",
       "    </tr>\n",
       "    <tr>\n",
       "      <th>FH_ALTA</th>\n",
       "      <td>2017-09-04 00:00:00</td>\n",
       "    </tr>\n",
       "    <tr>\n",
       "      <th>RGO_RIEGO_BBVA</th>\n",
       "      <td>1</td>\n",
       "    </tr>\n",
       "    <tr>\n",
       "      <th>RGO_RIESGO_SIST</th>\n",
       "      <td>8</td>\n",
       "    </tr>\n",
       "    <tr>\n",
       "      <th>RGO_SDO_MEDIO_ACTIVO</th>\n",
       "      <td>6</td>\n",
       "    </tr>\n",
       "    <tr>\n",
       "      <th>RGO_SDO_MEDIO_PASIVO</th>\n",
       "      <td>9</td>\n",
       "    </tr>\n",
       "    <tr>\n",
       "      <th>RGO_MARGEN_OPER_MES</th>\n",
       "      <td>1</td>\n",
       "    </tr>\n",
       "    <tr>\n",
       "      <th>RGO_MARGEN_OPER_ACUM</th>\n",
       "      <td>1</td>\n",
       "    </tr>\n",
       "    <tr>\n",
       "      <th>RGO_FACTURA_ANUAL</th>\n",
       "      <td>7</td>\n",
       "    </tr>\n",
       "    <tr>\n",
       "      <th>TO_EMPLEADOS</th>\n",
       "      <td>2</td>\n",
       "    </tr>\n",
       "    <tr>\n",
       "      <th>CD_SBS_NORMAL</th>\n",
       "      <td>100</td>\n",
       "    </tr>\n",
       "    <tr>\n",
       "      <th>CD_SBS_CPP</th>\n",
       "      <td>0</td>\n",
       "    </tr>\n",
       "    <tr>\n",
       "      <th>CD_SBS_DDP</th>\n",
       "      <td>0</td>\n",
       "    </tr>\n",
       "    <tr>\n",
       "      <th>TP_VIVI</th>\n",
       "      <td>LEGAL</td>\n",
       "    </tr>\n",
       "    <tr>\n",
       "      <th>TP_PERSONA</th>\n",
       "      <td>J</td>\n",
       "    </tr>\n",
       "    <tr>\n",
       "      <th>TIPO_NEGOCIO</th>\n",
       "      <td>Pyme</td>\n",
       "    </tr>\n",
       "  </tbody>\n",
       "</table>\n",
       "</div>"
      ],
      "text/plain": [
       "                                        0\n",
       "ID                           201808_48117\n",
       "MES_T0                             201808\n",
       "ID_CLIENTE                          48117\n",
       "FUGA_3M                                 0\n",
       "FH_NACIMIENTO         2015-12-04 00:00:00\n",
       "FH_ALTA               2017-09-04 00:00:00\n",
       "RGO_RIEGO_BBVA                          1\n",
       "RGO_RIESGO_SIST                         8\n",
       "RGO_SDO_MEDIO_ACTIVO                    6\n",
       "RGO_SDO_MEDIO_PASIVO                    9\n",
       "RGO_MARGEN_OPER_MES                     1\n",
       "RGO_MARGEN_OPER_ACUM                    1\n",
       "RGO_FACTURA_ANUAL                       7\n",
       "TO_EMPLEADOS                            2\n",
       "CD_SBS_NORMAL                         100\n",
       "CD_SBS_CPP                              0\n",
       "CD_SBS_DDP                              0\n",
       "TP_VIVI                             LEGAL\n",
       "TP_PERSONA                              J\n",
       "TIPO_NEGOCIO                         Pyme"
      ]
     },
     "execution_count": 107,
     "metadata": {},
     "output_type": "execute_result"
    }
   ],
   "source": [
    "df_stock_train_p.head(1).T"
   ]
  },
  {
   "cell_type": "code",
   "execution_count": 108,
   "metadata": {},
   "outputs": [
    {
     "name": "stdout",
     "output_type": "stream",
     "text": [
      "<class 'pandas.core.frame.DataFrame'>\n",
      "RangeIndex: 73661 entries, 0 to 73660\n",
      "Data columns (total 20 columns):\n",
      "ID                      73661 non-null object\n",
      "MES_T0                  73661 non-null int64\n",
      "ID_CLIENTE              73661 non-null int64\n",
      "FUGA_3M                 73661 non-null int64\n",
      "FH_NACIMIENTO           72765 non-null object\n",
      "FH_ALTA                 72852 non-null object\n",
      "RGO_RIEGO_BBVA          73661 non-null int64\n",
      "RGO_RIESGO_SIST         73661 non-null int64\n",
      "RGO_SDO_MEDIO_ACTIVO    73661 non-null int64\n",
      "RGO_SDO_MEDIO_PASIVO    73661 non-null int64\n",
      "RGO_MARGEN_OPER_MES     73661 non-null int64\n",
      "RGO_MARGEN_OPER_ACUM    73661 non-null int64\n",
      "RGO_FACTURA_ANUAL       73661 non-null int64\n",
      "TO_EMPLEADOS            72211 non-null float64\n",
      "CD_SBS_NORMAL           51297 non-null float64\n",
      "CD_SBS_CPP              51297 non-null float64\n",
      "CD_SBS_DDP              51297 non-null float64\n",
      "TP_VIVI                 72734 non-null object\n",
      "TP_PERSONA              73661 non-null object\n",
      "TIPO_NEGOCIO            73661 non-null object\n",
      "dtypes: float64(4), int64(10), object(6)\n",
      "memory usage: 11.2+ MB\n"
     ]
    }
   ],
   "source": [
    "df_stock_train_p.info()"
   ]
  },
  {
   "cell_type": "markdown",
   "metadata": {},
   "source": [
    "# Primer modelo. XGBoost sin inputaciones (valores nulos) y sólo relleno de nans para hacer one_hot en tipo de vivienda. One_hot en resto de categoricas tmb. Computo de meses desde nacimiento y alta."
   ]
  },
  {
   "cell_type": "code",
   "execution_count": 109,
   "metadata": {},
   "outputs": [],
   "source": [
    "#Llenando nulos porque son importantes en la distribucion, excepto para total de empleados (se dejara en null de momento)\n",
    "df_stock_train_p['TP_VIVI'].fillna('nan_value', inplace=True)\n",
    "df_stock_test_p['TP_VIVI'].fillna('nan_value', inplace=True)"
   ]
  },
  {
   "cell_type": "code",
   "execution_count": 110,
   "metadata": {},
   "outputs": [],
   "source": [
    "#Computando nuevas columnas de meses hasta la fecha de nacimiento y alta.\n",
    "\n",
    "#Numero de meses hasta la fecha de nacimiento desde año 0 mes 0.\n",
    "df_stock_train_p['months_NACIMIENTO'] = df_stock_train_p['FH_NACIMIENTO'].apply(lambda x: int(str(x).split('-')[0])*12 + int(str(x).split('-')[1]) if isinstance(x, str) else x)\n",
    "df_stock_test_p['months_NACIMIENTO'] = df_stock_test_p['FH_NACIMIENTO'].apply(lambda x: int(str(x).split('-')[0])*12 + int(str(x).split('-')[1]) if isinstance(x, str) else x)\n",
    "\n",
    "#Numero de meses basta fecha de alta desde año 0 mes 0\n",
    "df_stock_train_p['months_ALTA'] = df_stock_train_p['FH_ALTA'].apply(lambda x: int(str(x).split('-')[0])*12 + int(str(x).split('-')[1]) if isinstance(x, str) else x)\n",
    "df_stock_test_p['months_ALTA'] = df_stock_test_p['FH_ALTA'].apply(lambda x: int(str(x).split('-')[0])*12 + int(str(x).split('-')[1]) if isinstance(x, str) else x)\n",
    "\n",
    "#Computando los meses del T0 desde el año 0 mes 0\n",
    "df_stock_train_p['months_T0'] = df_stock_train_p['MES_T0'].apply(lambda x: int(str(x)[:4])*12 + int(str(x)[4:6]))\n",
    "df_stock_test_p['months_T0'] = df_stock_test_p['MES_T0'].apply(lambda x: int(str(x)[:4])*12 + int(str(x)[4:6]))\n",
    "\n",
    "#Computando columnas finales\n",
    "df_stock_train_p['diff_months_T0_NACIMIENTO'] = df_stock_train_p['months_T0'] - df_stock_train_p['months_NACIMIENTO']\n",
    "df_stock_test_p['diff_months_T0_NACIMIENTO'] = df_stock_test_p['months_T0'] - df_stock_test_p['months_NACIMIENTO']\n",
    "\n",
    "df_stock_train_p['diff_months_T0_ALTA'] = df_stock_train_p['months_T0'] - df_stock_train_p['months_ALTA']\n",
    "df_stock_test_p['diff_months_T0_ALTA'] = df_stock_test_p['months_T0'] - df_stock_test_p['months_ALTA']"
   ]
  },
  {
   "cell_type": "code",
   "execution_count": 111,
   "metadata": {},
   "outputs": [
    {
     "name": "stdout",
     "output_type": "stream",
     "text": [
      "<class 'pandas.core.frame.DataFrame'>\n",
      "RangeIndex: 73661 entries, 0 to 73660\n",
      "Data columns (total 25 columns):\n",
      "ID                           73661 non-null object\n",
      "MES_T0                       73661 non-null int64\n",
      "ID_CLIENTE                   73661 non-null int64\n",
      "FUGA_3M                      73661 non-null int64\n",
      "FH_NACIMIENTO                72765 non-null object\n",
      "FH_ALTA                      72852 non-null object\n",
      "RGO_RIEGO_BBVA               73661 non-null int64\n",
      "RGO_RIESGO_SIST              73661 non-null int64\n",
      "RGO_SDO_MEDIO_ACTIVO         73661 non-null int64\n",
      "RGO_SDO_MEDIO_PASIVO         73661 non-null int64\n",
      "RGO_MARGEN_OPER_MES          73661 non-null int64\n",
      "RGO_MARGEN_OPER_ACUM         73661 non-null int64\n",
      "RGO_FACTURA_ANUAL            73661 non-null int64\n",
      "TO_EMPLEADOS                 72211 non-null float64\n",
      "CD_SBS_NORMAL                51297 non-null float64\n",
      "CD_SBS_CPP                   51297 non-null float64\n",
      "CD_SBS_DDP                   51297 non-null float64\n",
      "TP_VIVI                      73661 non-null object\n",
      "TP_PERSONA                   73661 non-null object\n",
      "TIPO_NEGOCIO                 73661 non-null object\n",
      "months_NACIMIENTO            72765 non-null float64\n",
      "months_ALTA                  72852 non-null float64\n",
      "months_T0                    73661 non-null int64\n",
      "diff_months_T0_NACIMIENTO    72765 non-null float64\n",
      "diff_months_T0_ALTA          72852 non-null float64\n",
      "dtypes: float64(8), int64(11), object(6)\n",
      "memory usage: 14.0+ MB\n"
     ]
    }
   ],
   "source": [
    "df_stock_train_p.info()"
   ]
  },
  {
   "cell_type": "code",
   "execution_count": 112,
   "metadata": {},
   "outputs": [],
   "source": [
    "cat_cols = ['TP_VIVI','TP_PERSONA','TIPO_NEGOCIO']\n",
    "intermediate_cols = ['months_NACIMIENTO','months_ALTA','months_T0']"
   ]
  },
  {
   "cell_type": "code",
   "execution_count": 113,
   "metadata": {},
   "outputs": [],
   "source": [
    "df_stock_train_p = pd.concat([df_stock_train_p,pd.get_dummies(df_stock_train_p['TP_VIVI'], prefix='TP_VIVI')],axis=1)\n",
    "df_stock_train_p = pd.concat([df_stock_train_p,pd.get_dummies(df_stock_train_p['TP_PERSONA'], prefix='TP_PERSONA')],axis=1)\n",
    "df_stock_train_p = pd.concat([df_stock_train_p,pd.get_dummies(df_stock_train_p['TIPO_NEGOCIO'], prefix='TIPO_NEGOCIO')],axis=1)\n",
    "\n",
    "\n",
    "df_stock_test_p = pd.concat([df_stock_test_p,pd.get_dummies(df_stock_test_p['TP_VIVI'], prefix='TP_VIVI')],axis=1)\n",
    "df_stock_test_p = pd.concat([df_stock_test_p,pd.get_dummies(df_stock_test_p['TP_PERSONA'], prefix='TP_PERSONA')],axis=1)\n",
    "df_stock_test_p = pd.concat([df_stock_test_p,pd.get_dummies(df_stock_test_p['TIPO_NEGOCIO'], prefix='TIPO_NEGOCIO')],axis=1)"
   ]
  },
  {
   "cell_type": "code",
   "execution_count": 114,
   "metadata": {
    "scrolled": true
   },
   "outputs": [
    {
     "data": {
      "text/html": [
       "<div>\n",
       "<style scoped>\n",
       "    .dataframe tbody tr th:only-of-type {\n",
       "        vertical-align: middle;\n",
       "    }\n",
       "\n",
       "    .dataframe tbody tr th {\n",
       "        vertical-align: top;\n",
       "    }\n",
       "\n",
       "    .dataframe thead th {\n",
       "        text-align: right;\n",
       "    }\n",
       "</style>\n",
       "<table border=\"1\" class=\"dataframe\">\n",
       "  <thead>\n",
       "    <tr style=\"text-align: right;\">\n",
       "      <th></th>\n",
       "      <th>0</th>\n",
       "    </tr>\n",
       "  </thead>\n",
       "  <tbody>\n",
       "    <tr>\n",
       "      <th>ID</th>\n",
       "      <td>201808_48117</td>\n",
       "    </tr>\n",
       "    <tr>\n",
       "      <th>MES_T0</th>\n",
       "      <td>201808</td>\n",
       "    </tr>\n",
       "    <tr>\n",
       "      <th>ID_CLIENTE</th>\n",
       "      <td>48117</td>\n",
       "    </tr>\n",
       "    <tr>\n",
       "      <th>FUGA_3M</th>\n",
       "      <td>0</td>\n",
       "    </tr>\n",
       "    <tr>\n",
       "      <th>FH_NACIMIENTO</th>\n",
       "      <td>2015-12-04 00:00:00</td>\n",
       "    </tr>\n",
       "    <tr>\n",
       "      <th>FH_ALTA</th>\n",
       "      <td>2017-09-04 00:00:00</td>\n",
       "    </tr>\n",
       "    <tr>\n",
       "      <th>RGO_RIEGO_BBVA</th>\n",
       "      <td>1</td>\n",
       "    </tr>\n",
       "    <tr>\n",
       "      <th>RGO_RIESGO_SIST</th>\n",
       "      <td>8</td>\n",
       "    </tr>\n",
       "    <tr>\n",
       "      <th>RGO_SDO_MEDIO_ACTIVO</th>\n",
       "      <td>6</td>\n",
       "    </tr>\n",
       "    <tr>\n",
       "      <th>RGO_SDO_MEDIO_PASIVO</th>\n",
       "      <td>9</td>\n",
       "    </tr>\n",
       "    <tr>\n",
       "      <th>RGO_MARGEN_OPER_MES</th>\n",
       "      <td>1</td>\n",
       "    </tr>\n",
       "    <tr>\n",
       "      <th>RGO_MARGEN_OPER_ACUM</th>\n",
       "      <td>1</td>\n",
       "    </tr>\n",
       "    <tr>\n",
       "      <th>RGO_FACTURA_ANUAL</th>\n",
       "      <td>7</td>\n",
       "    </tr>\n",
       "    <tr>\n",
       "      <th>TO_EMPLEADOS</th>\n",
       "      <td>2</td>\n",
       "    </tr>\n",
       "    <tr>\n",
       "      <th>CD_SBS_NORMAL</th>\n",
       "      <td>100</td>\n",
       "    </tr>\n",
       "    <tr>\n",
       "      <th>CD_SBS_CPP</th>\n",
       "      <td>0</td>\n",
       "    </tr>\n",
       "    <tr>\n",
       "      <th>CD_SBS_DDP</th>\n",
       "      <td>0</td>\n",
       "    </tr>\n",
       "    <tr>\n",
       "      <th>TP_VIVI</th>\n",
       "      <td>LEGAL</td>\n",
       "    </tr>\n",
       "    <tr>\n",
       "      <th>TP_PERSONA</th>\n",
       "      <td>J</td>\n",
       "    </tr>\n",
       "    <tr>\n",
       "      <th>TIPO_NEGOCIO</th>\n",
       "      <td>Pyme</td>\n",
       "    </tr>\n",
       "    <tr>\n",
       "      <th>months_NACIMIENTO</th>\n",
       "      <td>24192</td>\n",
       "    </tr>\n",
       "    <tr>\n",
       "      <th>months_ALTA</th>\n",
       "      <td>24213</td>\n",
       "    </tr>\n",
       "    <tr>\n",
       "      <th>months_T0</th>\n",
       "      <td>24224</td>\n",
       "    </tr>\n",
       "    <tr>\n",
       "      <th>diff_months_T0_NACIMIENTO</th>\n",
       "      <td>32</td>\n",
       "    </tr>\n",
       "    <tr>\n",
       "      <th>diff_months_T0_ALTA</th>\n",
       "      <td>11</td>\n",
       "    </tr>\n",
       "    <tr>\n",
       "      <th>TP_VIVI_HOGAR</th>\n",
       "      <td>0</td>\n",
       "    </tr>\n",
       "    <tr>\n",
       "      <th>TP_VIVI_LEGAL</th>\n",
       "      <td>1</td>\n",
       "    </tr>\n",
       "    <tr>\n",
       "      <th>TP_VIVI_TRABAJO</th>\n",
       "      <td>0</td>\n",
       "    </tr>\n",
       "    <tr>\n",
       "      <th>TP_VIVI_nan_value</th>\n",
       "      <td>0</td>\n",
       "    </tr>\n",
       "    <tr>\n",
       "      <th>TP_PERSONA_A</th>\n",
       "      <td>0</td>\n",
       "    </tr>\n",
       "    <tr>\n",
       "      <th>TP_PERSONA_F</th>\n",
       "      <td>0</td>\n",
       "    </tr>\n",
       "    <tr>\n",
       "      <th>TP_PERSONA_J</th>\n",
       "      <td>1</td>\n",
       "    </tr>\n",
       "    <tr>\n",
       "      <th>TIPO_NEGOCIO_PNN</th>\n",
       "      <td>0</td>\n",
       "    </tr>\n",
       "    <tr>\n",
       "      <th>TIPO_NEGOCIO_Pyme</th>\n",
       "      <td>1</td>\n",
       "    </tr>\n",
       "  </tbody>\n",
       "</table>\n",
       "</div>"
      ],
      "text/plain": [
       "                                             0\n",
       "ID                                201808_48117\n",
       "MES_T0                                  201808\n",
       "ID_CLIENTE                               48117\n",
       "FUGA_3M                                      0\n",
       "FH_NACIMIENTO              2015-12-04 00:00:00\n",
       "FH_ALTA                    2017-09-04 00:00:00\n",
       "RGO_RIEGO_BBVA                               1\n",
       "RGO_RIESGO_SIST                              8\n",
       "RGO_SDO_MEDIO_ACTIVO                         6\n",
       "RGO_SDO_MEDIO_PASIVO                         9\n",
       "RGO_MARGEN_OPER_MES                          1\n",
       "RGO_MARGEN_OPER_ACUM                         1\n",
       "RGO_FACTURA_ANUAL                            7\n",
       "TO_EMPLEADOS                                 2\n",
       "CD_SBS_NORMAL                              100\n",
       "CD_SBS_CPP                                   0\n",
       "CD_SBS_DDP                                   0\n",
       "TP_VIVI                                  LEGAL\n",
       "TP_PERSONA                                   J\n",
       "TIPO_NEGOCIO                              Pyme\n",
       "months_NACIMIENTO                        24192\n",
       "months_ALTA                              24213\n",
       "months_T0                                24224\n",
       "diff_months_T0_NACIMIENTO                   32\n",
       "diff_months_T0_ALTA                         11\n",
       "TP_VIVI_HOGAR                                0\n",
       "TP_VIVI_LEGAL                                1\n",
       "TP_VIVI_TRABAJO                              0\n",
       "TP_VIVI_nan_value                            0\n",
       "TP_PERSONA_A                                 0\n",
       "TP_PERSONA_F                                 0\n",
       "TP_PERSONA_J                                 1\n",
       "TIPO_NEGOCIO_PNN                             0\n",
       "TIPO_NEGOCIO_Pyme                            1"
      ]
     },
     "execution_count": 114,
     "metadata": {},
     "output_type": "execute_result"
    }
   ],
   "source": [
    "df_stock_train_p.head(1).T"
   ]
  },
  {
   "cell_type": "code",
   "execution_count": 115,
   "metadata": {},
   "outputs": [
    {
     "data": {
      "text/plain": [
       "['TP_VIVI_HOGAR',\n",
       " 'TP_PERSONA_J',\n",
       " 'TIPO_NEGOCIO_Pyme',\n",
       " 'CD_SBS_NORMAL',\n",
       " 'TP_PERSONA_A',\n",
       " 'TO_EMPLEADOS',\n",
       " 'RGO_MARGEN_OPER_MES',\n",
       " 'RGO_SDO_MEDIO_PASIVO',\n",
       " 'TP_VIVI_nan_value',\n",
       " 'TP_VIVI_LEGAL',\n",
       " 'RGO_RIEGO_BBVA',\n",
       " 'TP_PERSONA_F',\n",
       " 'RGO_MARGEN_OPER_ACUM',\n",
       " 'CD_SBS_DDP',\n",
       " 'diff_months_T0_NACIMIENTO',\n",
       " 'FUGA_3M',\n",
       " 'RGO_FACTURA_ANUAL',\n",
       " 'RGO_SDO_MEDIO_ACTIVO',\n",
       " 'diff_months_T0_ALTA',\n",
       " 'CD_SBS_CPP',\n",
       " 'TP_VIVI_TRABAJO',\n",
       " 'RGO_RIESGO_SIST',\n",
       " 'TIPO_NEGOCIO_PNN',\n",
       " 'ID']"
      ]
     },
     "execution_count": 115,
     "metadata": {},
     "output_type": "execute_result"
    }
   ],
   "source": [
    "fit_cols = list(set(df_stock_train_p.columns)\n",
    "                - set(cat_cols) \n",
    "                - set(intermediate_cols) \n",
    "                - set(['MES_T0','ID_CLIENTE','FH_ALTA','FH_NACIMIENTO']))\n",
    "fit_cols"
   ]
  },
  {
   "cell_type": "code",
   "execution_count": 116,
   "metadata": {},
   "outputs": [],
   "source": [
    "# Final datasets\n",
    "df_stock_train_f = df_stock_train_p[fit_cols]\n",
    "df_stock_test_f = df_stock_test_p[fit_cols]"
   ]
  },
  {
   "cell_type": "code",
   "execution_count": 117,
   "metadata": {
    "scrolled": false
   },
   "outputs": [
    {
     "data": {
      "text/html": [
       "<div>\n",
       "<style scoped>\n",
       "    .dataframe tbody tr th:only-of-type {\n",
       "        vertical-align: middle;\n",
       "    }\n",
       "\n",
       "    .dataframe tbody tr th {\n",
       "        vertical-align: top;\n",
       "    }\n",
       "\n",
       "    .dataframe thead th {\n",
       "        text-align: right;\n",
       "    }\n",
       "</style>\n",
       "<table border=\"1\" class=\"dataframe\">\n",
       "  <thead>\n",
       "    <tr style=\"text-align: right;\">\n",
       "      <th></th>\n",
       "      <th>0</th>\n",
       "    </tr>\n",
       "  </thead>\n",
       "  <tbody>\n",
       "    <tr>\n",
       "      <th>TP_VIVI_HOGAR</th>\n",
       "      <td>0</td>\n",
       "    </tr>\n",
       "    <tr>\n",
       "      <th>TP_PERSONA_J</th>\n",
       "      <td>1</td>\n",
       "    </tr>\n",
       "    <tr>\n",
       "      <th>TIPO_NEGOCIO_Pyme</th>\n",
       "      <td>1</td>\n",
       "    </tr>\n",
       "    <tr>\n",
       "      <th>CD_SBS_NORMAL</th>\n",
       "      <td>100</td>\n",
       "    </tr>\n",
       "    <tr>\n",
       "      <th>TP_PERSONA_A</th>\n",
       "      <td>0</td>\n",
       "    </tr>\n",
       "    <tr>\n",
       "      <th>TO_EMPLEADOS</th>\n",
       "      <td>2</td>\n",
       "    </tr>\n",
       "    <tr>\n",
       "      <th>RGO_MARGEN_OPER_MES</th>\n",
       "      <td>1</td>\n",
       "    </tr>\n",
       "    <tr>\n",
       "      <th>RGO_SDO_MEDIO_PASIVO</th>\n",
       "      <td>9</td>\n",
       "    </tr>\n",
       "    <tr>\n",
       "      <th>TP_VIVI_nan_value</th>\n",
       "      <td>0</td>\n",
       "    </tr>\n",
       "    <tr>\n",
       "      <th>TP_VIVI_LEGAL</th>\n",
       "      <td>1</td>\n",
       "    </tr>\n",
       "    <tr>\n",
       "      <th>RGO_RIEGO_BBVA</th>\n",
       "      <td>1</td>\n",
       "    </tr>\n",
       "    <tr>\n",
       "      <th>TP_PERSONA_F</th>\n",
       "      <td>0</td>\n",
       "    </tr>\n",
       "    <tr>\n",
       "      <th>RGO_MARGEN_OPER_ACUM</th>\n",
       "      <td>1</td>\n",
       "    </tr>\n",
       "    <tr>\n",
       "      <th>CD_SBS_DDP</th>\n",
       "      <td>0</td>\n",
       "    </tr>\n",
       "    <tr>\n",
       "      <th>diff_months_T0_NACIMIENTO</th>\n",
       "      <td>32</td>\n",
       "    </tr>\n",
       "    <tr>\n",
       "      <th>FUGA_3M</th>\n",
       "      <td>0</td>\n",
       "    </tr>\n",
       "    <tr>\n",
       "      <th>RGO_FACTURA_ANUAL</th>\n",
       "      <td>7</td>\n",
       "    </tr>\n",
       "    <tr>\n",
       "      <th>RGO_SDO_MEDIO_ACTIVO</th>\n",
       "      <td>6</td>\n",
       "    </tr>\n",
       "    <tr>\n",
       "      <th>diff_months_T0_ALTA</th>\n",
       "      <td>11</td>\n",
       "    </tr>\n",
       "    <tr>\n",
       "      <th>CD_SBS_CPP</th>\n",
       "      <td>0</td>\n",
       "    </tr>\n",
       "    <tr>\n",
       "      <th>TP_VIVI_TRABAJO</th>\n",
       "      <td>0</td>\n",
       "    </tr>\n",
       "    <tr>\n",
       "      <th>RGO_RIESGO_SIST</th>\n",
       "      <td>8</td>\n",
       "    </tr>\n",
       "    <tr>\n",
       "      <th>TIPO_NEGOCIO_PNN</th>\n",
       "      <td>0</td>\n",
       "    </tr>\n",
       "    <tr>\n",
       "      <th>ID</th>\n",
       "      <td>201808_48117</td>\n",
       "    </tr>\n",
       "  </tbody>\n",
       "</table>\n",
       "</div>"
      ],
      "text/plain": [
       "                                      0\n",
       "TP_VIVI_HOGAR                         0\n",
       "TP_PERSONA_J                          1\n",
       "TIPO_NEGOCIO_Pyme                     1\n",
       "CD_SBS_NORMAL                       100\n",
       "TP_PERSONA_A                          0\n",
       "TO_EMPLEADOS                          2\n",
       "RGO_MARGEN_OPER_MES                   1\n",
       "RGO_SDO_MEDIO_PASIVO                  9\n",
       "TP_VIVI_nan_value                     0\n",
       "TP_VIVI_LEGAL                         1\n",
       "RGO_RIEGO_BBVA                        1\n",
       "TP_PERSONA_F                          0\n",
       "RGO_MARGEN_OPER_ACUM                  1\n",
       "CD_SBS_DDP                            0\n",
       "diff_months_T0_NACIMIENTO            32\n",
       "FUGA_3M                               0\n",
       "RGO_FACTURA_ANUAL                     7\n",
       "RGO_SDO_MEDIO_ACTIVO                  6\n",
       "diff_months_T0_ALTA                  11\n",
       "CD_SBS_CPP                            0\n",
       "TP_VIVI_TRABAJO                       0\n",
       "RGO_RIESGO_SIST                       8\n",
       "TIPO_NEGOCIO_PNN                      0\n",
       "ID                         201808_48117"
      ]
     },
     "execution_count": 117,
     "metadata": {},
     "output_type": "execute_result"
    }
   ],
   "source": [
    "df_stock_train_f.head(1).T"
   ]
  },
  {
   "cell_type": "code",
   "execution_count": 118,
   "metadata": {},
   "outputs": [],
   "source": [
    "final_cols = list(set(fit_cols)-set(['ID','FUGA_3M']))"
   ]
  },
  {
   "cell_type": "code",
   "execution_count": 119,
   "metadata": {},
   "outputs": [],
   "source": [
    "ids = df_stock_train_f['ID']\n",
    "X = df_stock_train_f[final_cols]\n",
    "y = df_stock_train_f['FUGA_3M']"
   ]
  },
  {
   "cell_type": "code",
   "execution_count": 120,
   "metadata": {},
   "outputs": [],
   "source": [
    "X_train, X_test, y_train, y_test = train_test_split(X, y, test_size = 0.2, random_state = 42, stratify = y)"
   ]
  },
  {
   "cell_type": "code",
   "execution_count": 121,
   "metadata": {},
   "outputs": [
    {
     "data": {
      "text/plain": [
       "0    0.866277\n",
       "1    0.133723\n",
       "Name: FUGA_3M, dtype: float64"
      ]
     },
     "execution_count": 121,
     "metadata": {},
     "output_type": "execute_result"
    }
   ],
   "source": [
    "y_train.value_counts(normalize = True)"
   ]
  },
  {
   "cell_type": "code",
   "execution_count": 122,
   "metadata": {},
   "outputs": [
    {
     "data": {
      "text/plain": [
       "0    0.866287\n",
       "1    0.133713\n",
       "Name: FUGA_3M, dtype: float64"
      ]
     },
     "execution_count": 122,
     "metadata": {},
     "output_type": "execute_result"
    }
   ],
   "source": [
    "y_test.value_counts(normalize = True)"
   ]
  },
  {
   "cell_type": "markdown",
   "metadata": {},
   "source": [
    "# Fitting"
   ]
  },
  {
   "cell_type": "code",
   "execution_count": 123,
   "metadata": {},
   "outputs": [],
   "source": [
    "#vc\n",
    "xgb = XGBClassifier(learning_rate =0.1,\n",
    "                 n_estimators=1000,\n",
    "                 max_depth=5,\n",
    "                 min_child_weight=1,\n",
    "                 gamma=0,\n",
    "                 subsample=0.8,\n",
    "                 colsample_bytree=0.8,\n",
    "                 objective= 'binary:logistic',\n",
    "                 nthread=4,\n",
    "                 scale_pos_weight=1,\n",
    "                 seed=42)"
   ]
  },
  {
   "cell_type": "code",
   "execution_count": 124,
   "metadata": {},
   "outputs": [
    {
     "data": {
      "text/plain": [
       "XGBClassifier(base_score=0.5, booster='gbtree', colsample_bylevel=1,\n",
       "       colsample_bynode=1, colsample_bytree=0.8, gamma=0,\n",
       "       learning_rate=0.1, max_delta_step=0, max_depth=5,\n",
       "       min_child_weight=1, missing=None, n_estimators=1000, n_jobs=1,\n",
       "       nthread=4, objective='binary:logistic', random_state=0, reg_alpha=0,\n",
       "       reg_lambda=1, scale_pos_weight=1, seed=42, silent=None,\n",
       "       subsample=0.8, verbosity=1)"
      ]
     },
     "execution_count": 124,
     "metadata": {},
     "output_type": "execute_result"
    }
   ],
   "source": [
    "#fit\n",
    "xgb.fit(X_train, y_train)"
   ]
  },
  {
   "cell_type": "code",
   "execution_count": 125,
   "metadata": {},
   "outputs": [],
   "source": [
    "#Getting results\n",
    "y_pred = xgb.predict_proba(X_test)"
   ]
  },
  {
   "cell_type": "code",
   "execution_count": 130,
   "metadata": {},
   "outputs": [
    {
     "data": {
      "text/plain": [
       "array([[0.9955869 , 0.00441313],\n",
       "       [0.9706547 , 0.02934529],\n",
       "       [0.96444875, 0.03555122],\n",
       "       ...,\n",
       "       [0.9763416 , 0.02365838],\n",
       "       [0.45665854, 0.54334146],\n",
       "       [0.866269  , 0.13373102]], dtype=float32)"
      ]
     },
     "execution_count": 130,
     "metadata": {},
     "output_type": "execute_result"
    }
   ],
   "source": [
    "y_pred"
   ]
  },
  {
   "cell_type": "code",
   "execution_count": 131,
   "metadata": {},
   "outputs": [],
   "source": [
    "y_pred_final = y_pred[:,1]"
   ]
  },
  {
   "cell_type": "code",
   "execution_count": 132,
   "metadata": {},
   "outputs": [
    {
     "data": {
      "text/plain": [
       "0.7825352551852177"
      ]
     },
     "execution_count": 132,
     "metadata": {},
     "output_type": "execute_result"
    }
   ],
   "source": [
    "# First result\n",
    "roc_auc_score(y_test, y_pred_final)"
   ]
  },
  {
   "cell_type": "code",
   "execution_count": 182,
   "metadata": {},
   "outputs": [
    {
     "data": {
      "image/png": "[encoded data removed]",
      "text/plain": [
       "<Figure size 432x288 with 1 Axes>"
      ]
     },
     "metadata": {
      "needs_background": "light"
     },
     "output_type": "display_data"
    }
   ],
   "source": [
    "plot_importance(xgb)\n",
    "pyplot.show()"
   ]
  },
  {
   "cell_type": "markdown",
   "metadata": {},
   "source": [
    "# Segundo modelo. Target encoding a variables categoricas"
   ]
  },
  {
   "cell_type": "code",
   "execution_count": 161,
   "metadata": {},
   "outputs": [],
   "source": [
    "# Recogido de: https://www.kaggle.com/ogrellier/python-target-encoding-for-categorical-features\n",
    "def add_noise(series, noise_level):\n",
    "    return series * (1 + noise_level * np.random.randn(len(series)))\n",
    "\n",
    "def target_encode(trn_series=None, \n",
    "                  tst_series=None, \n",
    "                  target=None, \n",
    "                  min_samples_leaf=1, \n",
    "                  smoothing=1,\n",
    "                  noise_level=0):\n",
    "    \"\"\"\n",
    "    Smoothing is computed like in the following paper by Daniele Micci-Barreca\n",
    "    https://kaggle2.blob.core.windows.net/forum-message-attachments/225952/7441/high%20cardinality%20categoricals.pdf\n",
    "    trn_series : training categorical feature as a pd.Series\n",
    "    tst_series : test categorical feature as a pd.Series\n",
    "    target : target data as a pd.Series\n",
    "    min_samples_leaf (int) : minimum samples to take category average into account\n",
    "    smoothing (int) : smoothing effect to balance categorical average vs prior  \n",
    "    \"\"\" \n",
    "    assert len(trn_series) == len(target)\n",
    "    assert trn_series.name == tst_series.name\n",
    "    temp = pd.concat([trn_series, target], axis=1)\n",
    "    # Compute target mean \n",
    "    averages = temp.groupby(by=trn_series.name)[target.name].agg([\"mean\", \"count\"])\n",
    "    # Compute smoothing\n",
    "    smoothing = 1 / (1 + np.exp(-(averages[\"count\"] - min_samples_leaf) / smoothing))\n",
    "    # Apply average function to all target data\n",
    "    prior = target.mean()\n",
    "    # The bigger the count the less full_avg is taken into account\n",
    "    averages[target.name] = prior * (1 - smoothing) + averages[\"mean\"] * smoothing\n",
    "    averages.drop([\"mean\", \"count\"], axis=1, inplace=True)\n",
    "    # Apply averages to trn and tst series\n",
    "    ft_trn_series = pd.merge(\n",
    "        trn_series.to_frame(trn_series.name),\n",
    "        averages.reset_index().rename(columns={'index': target.name, target.name: 'average'}),\n",
    "        on=trn_series.name,\n",
    "        how='left')['average'].rename(trn_series.name + '_mean').fillna(prior)\n",
    "    # pd.merge does not keep the index so restore it\n",
    "    ft_trn_series.index = trn_series.index \n",
    "    ft_tst_series = pd.merge(\n",
    "        tst_series.to_frame(tst_series.name),\n",
    "        averages.reset_index().rename(columns={'index': target.name, target.name: 'average'}),\n",
    "        on=tst_series.name,\n",
    "        how='left')['average'].rename(trn_series.name + '_mean').fillna(prior)\n",
    "    # pd.merge does not keep the index so restore it\n",
    "    ft_tst_series.index = tst_series.index\n",
    "    return add_noise(ft_trn_series, noise_level), add_noise(ft_tst_series, noise_level)"
   ]
  },
  {
   "cell_type": "code",
   "execution_count": 162,
   "metadata": {},
   "outputs": [],
   "source": [
    "df_stock_train_p2 = df_stock_train.copy()\n",
    "df_stock_test_p2 = df_stock_test.copy()"
   ]
  },
  {
   "cell_type": "code",
   "execution_count": 163,
   "metadata": {},
   "outputs": [],
   "source": [
    "#Llenando nulos porque son importantes en la distribucion, excepto para total de empleados (se dejara en null de momento)\n",
    "df_stock_train_p2['TP_VIVI'].fillna('nan_value', inplace=True)\n",
    "df_stock_test_p2['TP_VIVI'].fillna('nan_value', inplace=True)"
   ]
  },
  {
   "cell_type": "code",
   "execution_count": 164,
   "metadata": {},
   "outputs": [],
   "source": [
    "#Partiendo en train y val de una vez, para probar te\n",
    "X_2 = df_stock_train_p2[list(set(df_stock_train_p2.columns) - set('FUGA_3M'))]\n",
    "y_2 = df_stock_train_p2['FUGA_3M']"
   ]
  },
  {
   "cell_type": "code",
   "execution_count": 165,
   "metadata": {},
   "outputs": [],
   "source": [
    "X_train_2, X_test_2, y_train_2, y_test_2 = train_test_split(X_2, y_2, test_size = 0.3, random_state = 42, stratify = y)"
   ]
  },
  {
   "cell_type": "code",
   "execution_count": 166,
   "metadata": {},
   "outputs": [],
   "source": [
    "#Testeando el te para vivienda\n",
    "df_stock_train_p2_vivi_enc = target_encode(X_train_2['TP_VIVI'], \n",
    "                                           X_test_2['TP_VIVI'], \n",
    "                                           y_train_2)"
   ]
  },
  {
   "cell_type": "code",
   "execution_count": 167,
   "metadata": {},
   "outputs": [],
   "source": [
    "#Testeando el te para tipo_persona\n",
    "df_stock_train_p2_pers_enc = target_encode(X_train_2['TP_PERSONA'], \n",
    "                                           X_test_2['TP_PERSONA'], \n",
    "                                           y_train_2)"
   ]
  },
  {
   "cell_type": "code",
   "execution_count": 168,
   "metadata": {},
   "outputs": [],
   "source": [
    "#Testeando el te para tipo_negocio\n",
    "df_stock_train_p2_neg_enc = target_encode(X_train_2['TIPO_NEGOCIO'], \n",
    "                                           X_test_2['TIPO_NEGOCIO'], \n",
    "                                           y_train_2)"
   ]
  },
  {
   "cell_type": "code",
   "execution_count": 169,
   "metadata": {},
   "outputs": [],
   "source": [
    "X_train_2 = pd.concat([X_train_2,df_stock_train_p2_vivi_enc[0]],axis=1)\n",
    "X_test_2 = pd.concat([X_test_2,df_stock_train_p2_vivi_enc[1]],axis=1)\n",
    "\n",
    "X_train_2 = pd.concat([X_train_2,df_stock_train_p2_pers_enc[0]],axis=1)\n",
    "X_test_2 = pd.concat([X_test_2,df_stock_train_p2_pers_enc[1]],axis=1)\n",
    "\n",
    "X_train_2 = pd.concat([X_train_2,df_stock_train_p2_neg_enc[0]],axis=1)\n",
    "X_test_2 = pd.concat([X_test_2,df_stock_train_p2_neg_enc[1]],axis=1)"
   ]
  },
  {
   "cell_type": "code",
   "execution_count": 170,
   "metadata": {},
   "outputs": [],
   "source": [
    "# Agregando columnas de los meses desde nacimiento y alta.\n",
    "\n",
    "#Numero de meses hasta la fecha de nacimiento desde año 0 mes 0.\n",
    "X_train_2['months_NACIMIENTO'] = X_train_2['FH_NACIMIENTO'].apply(lambda x: int(str(x).split('-')[0])*12 + int(str(x).split('-')[1]) if isinstance(x, str) else x)\n",
    "X_test_2['months_NACIMIENTO'] = X_test_2['FH_NACIMIENTO'].apply(lambda x: int(str(x).split('-')[0])*12 + int(str(x).split('-')[1]) if isinstance(x, str) else x)\n",
    "\n",
    "#Numero de meses basta fecha de alta desde año 0 mes 0\n",
    "X_train_2['months_ALTA'] = X_train_2['FH_ALTA'].apply(lambda x: int(str(x).split('-')[0])*12 + int(str(x).split('-')[1]) if isinstance(x, str) else x)\n",
    "X_test_2['months_ALTA'] = X_test_2['FH_ALTA'].apply(lambda x: int(str(x).split('-')[0])*12 + int(str(x).split('-')[1]) if isinstance(x, str) else x)\n",
    "\n",
    "#Computando los meses del T0 desde el año 0 mes 0\n",
    "X_train_2['months_T0'] = X_train_2['MES_T0'].apply(lambda x: int(str(x)[:4])*12 + int(str(x)[4:6]))\n",
    "X_test_2['months_T0'] = X_test_2['MES_T0'].apply(lambda x: int(str(x)[:4])*12 + int(str(x)[4:6]))\n",
    "\n",
    "#Computando columnas finales\n",
    "X_train_2['diff_months_T0_NACIMIENTO'] = X_train_2['months_T0'] - X_train_2['months_NACIMIENTO']\n",
    "X_test_2['diff_months_T0_NACIMIENTO'] = X_test_2['months_T0'] - X_test_2['months_NACIMIENTO']\n",
    "\n",
    "X_train_2['diff_months_T0_ALTA'] = X_train_2['months_T0'] - X_train_2['months_ALTA']\n",
    "X_test_2['diff_months_T0_ALTA'] = X_test_2['months_T0'] - X_test_2['months_ALTA']\n"
   ]
  },
  {
   "cell_type": "code",
   "execution_count": 171,
   "metadata": {},
   "outputs": [
    {
     "data": {
      "text/plain": [
       "0    0.866277\n",
       "1    0.133723\n",
       "Name: FUGA_3M, dtype: float64"
      ]
     },
     "execution_count": 171,
     "metadata": {},
     "output_type": "execute_result"
    }
   ],
   "source": [
    "y_train_2.value_counts(normalize = True)"
   ]
  },
  {
   "cell_type": "code",
   "execution_count": 172,
   "metadata": {},
   "outputs": [
    {
     "data": {
      "text/plain": [
       "0    0.866284\n",
       "1    0.133716\n",
       "Name: FUGA_3M, dtype: float64"
      ]
     },
     "execution_count": 172,
     "metadata": {},
     "output_type": "execute_result"
    }
   ],
   "source": [
    "y_test_2.value_counts(normalize = True)"
   ]
  },
  {
   "cell_type": "code",
   "execution_count": 173,
   "metadata": {},
   "outputs": [],
   "source": [
    "fit_cols_2 = list(set(X_train_2.columns)\n",
    "                - set(cat_cols) \n",
    "                - set(intermediate_cols) \n",
    "                - set(['MES_T0','ID_CLIENTE','FH_ALTA','FH_NACIMIENTO','ID','FUGA_3M']))"
   ]
  },
  {
   "cell_type": "code",
   "execution_count": 174,
   "metadata": {},
   "outputs": [],
   "source": [
    "X_train_2 = X_train_2[fit_cols_2]\n",
    "X_test_2  = X_test_2[fit_cols_2]"
   ]
  },
  {
   "cell_type": "code",
   "execution_count": 175,
   "metadata": {},
   "outputs": [],
   "source": [
    "# Testing luck before mega merge\n",
    "xgb2 = XGBClassifier(learning_rate =0.1,\n",
    "                 n_estimators=1000,\n",
    "                 max_depth=5,\n",
    "                 min_child_weight=1,\n",
    "                 gamma=0,\n",
    "                 subsample=0.8,\n",
    "                 colsample_bytree=0.8,\n",
    "                 objective= 'binary:logistic',\n",
    "                 nthread=4,\n",
    "                 scale_pos_weight=1,\n",
    "                 seed=42)"
   ]
  },
  {
   "cell_type": "code",
   "execution_count": 176,
   "metadata": {},
   "outputs": [
    {
     "data": {
      "text/plain": [
       "XGBClassifier(base_score=0.5, booster='gbtree', colsample_bylevel=1,\n",
       "       colsample_bynode=1, colsample_bytree=0.8, gamma=0,\n",
       "       learning_rate=0.1, max_delta_step=0, max_depth=5,\n",
       "       min_child_weight=1, missing=None, n_estimators=1000, n_jobs=1,\n",
       "       nthread=4, objective='binary:logistic', random_state=0, reg_alpha=0,\n",
       "       reg_lambda=1, scale_pos_weight=1, seed=42, silent=None,\n",
       "       subsample=0.8, verbosity=1)"
      ]
     },
     "execution_count": 176,
     "metadata": {},
     "output_type": "execute_result"
    }
   ],
   "source": [
    "#fit\n",
    "xgb2.fit(X_train_2, y_train_2)"
   ]
  },
  {
   "cell_type": "code",
   "execution_count": 177,
   "metadata": {},
   "outputs": [],
   "source": [
    "#Getting results\n",
    "y_pred_2 = xgb2.predict_proba(X_test_2)"
   ]
  },
  {
   "cell_type": "code",
   "execution_count": 178,
   "metadata": {},
   "outputs": [
    {
     "data": {
      "text/plain": [
       "array([[0.8616072 , 0.13839279],\n",
       "       [0.46585745, 0.53414255],\n",
       "       [0.56602657, 0.43397346],\n",
       "       ...,\n",
       "       [0.98341084, 0.01658916],\n",
       "       [0.95055187, 0.04944814],\n",
       "       [0.9706695 , 0.02933047]], dtype=float32)"
      ]
     },
     "execution_count": 178,
     "metadata": {},
     "output_type": "execute_result"
    }
   ],
   "source": [
    "y_pred_2"
   ]
  },
  {
   "cell_type": "code",
   "execution_count": 179,
   "metadata": {},
   "outputs": [],
   "source": [
    "y_pred_final_2 = y_pred_2[:,1]"
   ]
  },
  {
   "cell_type": "code",
   "execution_count": 180,
   "metadata": {},
   "outputs": [
    {
     "data": {
      "text/plain": [
       "0.780899556871671"
      ]
     },
     "execution_count": 180,
     "metadata": {},
     "output_type": "execute_result"
    }
   ],
   "source": [
    "# Second result\n",
    "roc_auc_score(y_test_2, y_pred_final_2) "
   ]
  },
  {
   "cell_type": "code",
   "execution_count": 181,
   "metadata": {
    "scrolled": true
   },
   "outputs": [
    {
     "data": {
      "image/png": "[encoded data removed]",
      "text/plain": [
       "<Figure size 432x288 with 1 Axes>"
      ]
     },
     "metadata": {
      "needs_background": "light"
     },
     "output_type": "display_data"
    }
   ],
   "source": [
    "plot_importance(xgb2)\n",
    "pyplot.show()"
   ]
  },
  {
   "cell_type": "markdown",
   "metadata": {},
   "source": [
    "# Tercer modelo antes de mega merge. Computando nueva columna de diferencia de meses entre nacimiento y alta, y eliminando variables sin importancia"
   ]
  },
  {
   "cell_type": "code",
   "execution_count": 188,
   "metadata": {},
   "outputs": [
    {
     "data": {
      "text/html": [
       "<div>\n",
       "<style scoped>\n",
       "    .dataframe tbody tr th:only-of-type {\n",
       "        vertical-align: middle;\n",
       "    }\n",
       "\n",
       "    .dataframe tbody tr th {\n",
       "        vertical-align: top;\n",
       "    }\n",
       "\n",
       "    .dataframe thead th {\n",
       "        text-align: right;\n",
       "    }\n",
       "</style>\n",
       "<table border=\"1\" class=\"dataframe\">\n",
       "  <thead>\n",
       "    <tr style=\"text-align: right;\">\n",
       "      <th></th>\n",
       "      <th>0</th>\n",
       "    </tr>\n",
       "  </thead>\n",
       "  <tbody>\n",
       "    <tr>\n",
       "      <th>ID</th>\n",
       "      <td>201808_48117</td>\n",
       "    </tr>\n",
       "    <tr>\n",
       "      <th>MES_T0</th>\n",
       "      <td>201808</td>\n",
       "    </tr>\n",
       "    <tr>\n",
       "      <th>ID_CLIENTE</th>\n",
       "      <td>48117</td>\n",
       "    </tr>\n",
       "    <tr>\n",
       "      <th>FUGA_3M</th>\n",
       "      <td>0</td>\n",
       "    </tr>\n",
       "    <tr>\n",
       "      <th>FH_NACIMIENTO</th>\n",
       "      <td>2015-12-04 00:00:00</td>\n",
       "    </tr>\n",
       "    <tr>\n",
       "      <th>FH_ALTA</th>\n",
       "      <td>2017-09-04 00:00:00</td>\n",
       "    </tr>\n",
       "    <tr>\n",
       "      <th>RGO_RIEGO_BBVA</th>\n",
       "      <td>1</td>\n",
       "    </tr>\n",
       "    <tr>\n",
       "      <th>RGO_RIESGO_SIST</th>\n",
       "      <td>8</td>\n",
       "    </tr>\n",
       "    <tr>\n",
       "      <th>RGO_SDO_MEDIO_ACTIVO</th>\n",
       "      <td>6</td>\n",
       "    </tr>\n",
       "    <tr>\n",
       "      <th>RGO_SDO_MEDIO_PASIVO</th>\n",
       "      <td>9</td>\n",
       "    </tr>\n",
       "    <tr>\n",
       "      <th>RGO_MARGEN_OPER_MES</th>\n",
       "      <td>1</td>\n",
       "    </tr>\n",
       "    <tr>\n",
       "      <th>RGO_MARGEN_OPER_ACUM</th>\n",
       "      <td>1</td>\n",
       "    </tr>\n",
       "    <tr>\n",
       "      <th>RGO_FACTURA_ANUAL</th>\n",
       "      <td>7</td>\n",
       "    </tr>\n",
       "    <tr>\n",
       "      <th>TO_EMPLEADOS</th>\n",
       "      <td>2</td>\n",
       "    </tr>\n",
       "    <tr>\n",
       "      <th>CD_SBS_NORMAL</th>\n",
       "      <td>100</td>\n",
       "    </tr>\n",
       "    <tr>\n",
       "      <th>CD_SBS_CPP</th>\n",
       "      <td>0</td>\n",
       "    </tr>\n",
       "    <tr>\n",
       "      <th>CD_SBS_DDP</th>\n",
       "      <td>0</td>\n",
       "    </tr>\n",
       "    <tr>\n",
       "      <th>TP_VIVI</th>\n",
       "      <td>LEGAL</td>\n",
       "    </tr>\n",
       "    <tr>\n",
       "      <th>TP_PERSONA</th>\n",
       "      <td>J</td>\n",
       "    </tr>\n",
       "    <tr>\n",
       "      <th>TIPO_NEGOCIO</th>\n",
       "      <td>Pyme</td>\n",
       "    </tr>\n",
       "    <tr>\n",
       "      <th>months_NACIMIENTO</th>\n",
       "      <td>24192</td>\n",
       "    </tr>\n",
       "    <tr>\n",
       "      <th>months_ALTA</th>\n",
       "      <td>24213</td>\n",
       "    </tr>\n",
       "    <tr>\n",
       "      <th>months_T0</th>\n",
       "      <td>24224</td>\n",
       "    </tr>\n",
       "    <tr>\n",
       "      <th>diff_months_T0_NACIMIENTO</th>\n",
       "      <td>32</td>\n",
       "    </tr>\n",
       "    <tr>\n",
       "      <th>diff_months_T0_ALTA</th>\n",
       "      <td>11</td>\n",
       "    </tr>\n",
       "    <tr>\n",
       "      <th>TP_VIVI_HOGAR</th>\n",
       "      <td>0</td>\n",
       "    </tr>\n",
       "    <tr>\n",
       "      <th>TP_VIVI_LEGAL</th>\n",
       "      <td>1</td>\n",
       "    </tr>\n",
       "    <tr>\n",
       "      <th>TP_VIVI_TRABAJO</th>\n",
       "      <td>0</td>\n",
       "    </tr>\n",
       "    <tr>\n",
       "      <th>TP_VIVI_nan_value</th>\n",
       "      <td>0</td>\n",
       "    </tr>\n",
       "    <tr>\n",
       "      <th>TP_PERSONA_A</th>\n",
       "      <td>0</td>\n",
       "    </tr>\n",
       "    <tr>\n",
       "      <th>TP_PERSONA_F</th>\n",
       "      <td>0</td>\n",
       "    </tr>\n",
       "    <tr>\n",
       "      <th>TP_PERSONA_J</th>\n",
       "      <td>1</td>\n",
       "    </tr>\n",
       "    <tr>\n",
       "      <th>TIPO_NEGOCIO_PNN</th>\n",
       "      <td>0</td>\n",
       "    </tr>\n",
       "    <tr>\n",
       "      <th>TIPO_NEGOCIO_Pyme</th>\n",
       "      <td>1</td>\n",
       "    </tr>\n",
       "  </tbody>\n",
       "</table>\n",
       "</div>"
      ],
      "text/plain": [
       "                                             0\n",
       "ID                                201808_48117\n",
       "MES_T0                                  201808\n",
       "ID_CLIENTE                               48117\n",
       "FUGA_3M                                      0\n",
       "FH_NACIMIENTO              2015-12-04 00:00:00\n",
       "FH_ALTA                    2017-09-04 00:00:00\n",
       "RGO_RIEGO_BBVA                               1\n",
       "RGO_RIESGO_SIST                              8\n",
       "RGO_SDO_MEDIO_ACTIVO                         6\n",
       "RGO_SDO_MEDIO_PASIVO                         9\n",
       "RGO_MARGEN_OPER_MES                          1\n",
       "RGO_MARGEN_OPER_ACUM                         1\n",
       "RGO_FACTURA_ANUAL                            7\n",
       "TO_EMPLEADOS                                 2\n",
       "CD_SBS_NORMAL                              100\n",
       "CD_SBS_CPP                                   0\n",
       "CD_SBS_DDP                                   0\n",
       "TP_VIVI                                  LEGAL\n",
       "TP_PERSONA                                   J\n",
       "TIPO_NEGOCIO                              Pyme\n",
       "months_NACIMIENTO                        24192\n",
       "months_ALTA                              24213\n",
       "months_T0                                24224\n",
       "diff_months_T0_NACIMIENTO                   32\n",
       "diff_months_T0_ALTA                         11\n",
       "TP_VIVI_HOGAR                                0\n",
       "TP_VIVI_LEGAL                                1\n",
       "TP_VIVI_TRABAJO                              0\n",
       "TP_VIVI_nan_value                            0\n",
       "TP_PERSONA_A                                 0\n",
       "TP_PERSONA_F                                 0\n",
       "TP_PERSONA_J                                 1\n",
       "TIPO_NEGOCIO_PNN                             0\n",
       "TIPO_NEGOCIO_Pyme                            1"
      ]
     },
     "execution_count": 188,
     "metadata": {},
     "output_type": "execute_result"
    }
   ],
   "source": [
    "# Original X,y\n",
    "\n",
    "df_stock_train_p.head(1).T"
   ]
  },
  {
   "cell_type": "code",
   "execution_count": 197,
   "metadata": {},
   "outputs": [],
   "source": [
    "df_stock_train_p['diff_months_ALTA_NACIMIENTO'] = df_stock_train_p['months_ALTA'] - df_stock_train_p['months_NACIMIENTO']\n",
    "df_stock_test_p['diff_months_ALTA_NACIMIENTO'] = df_stock_test_p['months_ALTA'] - df_stock_test_p['months_NACIMIENTO']\n"
   ]
  },
  {
   "cell_type": "code",
   "execution_count": 198,
   "metadata": {},
   "outputs": [],
   "source": [
    "fit_cols_3 = list(set(df_stock_train_p.columns)\n",
    "                - set(cat_cols) \n",
    "                - set(intermediate_cols) \n",
    "                - set(['MES_T0','ID_CLIENTE','FH_ALTA','FH_NACIMIENTO',\n",
    "                      'TP_PERSONA_J','TP_VIVI_HOGAR','TP_VIVI_LEGAL','TP_VIVI_TRABAJO','TP_VIVI_nan_value','TIPO_NEGOCIO_PNN','TIPO_NEGOCIO_Pyme']))"
   ]
  },
  {
   "cell_type": "code",
   "execution_count": 199,
   "metadata": {},
   "outputs": [],
   "source": [
    "# Final datasets\n",
    "df_stock_train_f_3 = df_stock_train_p[fit_cols_3]\n",
    "df_stock_test_f_3 = df_stock_test_p[fit_cols_3]"
   ]
  },
  {
   "cell_type": "code",
   "execution_count": 210,
   "metadata": {},
   "outputs": [
    {
     "data": {
      "text/html": [
       "<div>\n",
       "<style scoped>\n",
       "    .dataframe tbody tr th:only-of-type {\n",
       "        vertical-align: middle;\n",
       "    }\n",
       "\n",
       "    .dataframe tbody tr th {\n",
       "        vertical-align: top;\n",
       "    }\n",
       "\n",
       "    .dataframe thead th {\n",
       "        text-align: right;\n",
       "    }\n",
       "</style>\n",
       "<table border=\"1\" class=\"dataframe\">\n",
       "  <thead>\n",
       "    <tr style=\"text-align: right;\">\n",
       "      <th></th>\n",
       "      <th>0</th>\n",
       "    </tr>\n",
       "  </thead>\n",
       "  <tbody>\n",
       "    <tr>\n",
       "      <th>CD_SBS_NORMAL</th>\n",
       "      <td>100</td>\n",
       "    </tr>\n",
       "    <tr>\n",
       "      <th>TP_PERSONA_A</th>\n",
       "      <td>0</td>\n",
       "    </tr>\n",
       "    <tr>\n",
       "      <th>CD_SBS_DDP</th>\n",
       "      <td>0</td>\n",
       "    </tr>\n",
       "    <tr>\n",
       "      <th>FUGA_3M</th>\n",
       "      <td>0</td>\n",
       "    </tr>\n",
       "    <tr>\n",
       "      <th>RGO_FACTURA_ANUAL</th>\n",
       "      <td>7</td>\n",
       "    </tr>\n",
       "    <tr>\n",
       "      <th>ID</th>\n",
       "      <td>201808_48117</td>\n",
       "    </tr>\n",
       "    <tr>\n",
       "      <th>TO_EMPLEADOS</th>\n",
       "      <td>2</td>\n",
       "    </tr>\n",
       "    <tr>\n",
       "      <th>RGO_SDO_MEDIO_ACTIVO</th>\n",
       "      <td>6</td>\n",
       "    </tr>\n",
       "    <tr>\n",
       "      <th>diff_months_T0_ALTA</th>\n",
       "      <td>11</td>\n",
       "    </tr>\n",
       "    <tr>\n",
       "      <th>RGO_MARGEN_OPER_MES</th>\n",
       "      <td>1</td>\n",
       "    </tr>\n",
       "    <tr>\n",
       "      <th>diff_months_ALTA_NACIMIENTO</th>\n",
       "      <td>21</td>\n",
       "    </tr>\n",
       "    <tr>\n",
       "      <th>RGO_SDO_MEDIO_PASIVO</th>\n",
       "      <td>9</td>\n",
       "    </tr>\n",
       "    <tr>\n",
       "      <th>CD_SBS_CPP</th>\n",
       "      <td>0</td>\n",
       "    </tr>\n",
       "    <tr>\n",
       "      <th>RGO_RIESGO_SIST</th>\n",
       "      <td>8</td>\n",
       "    </tr>\n",
       "    <tr>\n",
       "      <th>diff_months_T0_NACIMIENTO</th>\n",
       "      <td>32</td>\n",
       "    </tr>\n",
       "    <tr>\n",
       "      <th>RGO_RIEGO_BBVA</th>\n",
       "      <td>1</td>\n",
       "    </tr>\n",
       "    <tr>\n",
       "      <th>TP_PERSONA_F</th>\n",
       "      <td>0</td>\n",
       "    </tr>\n",
       "    <tr>\n",
       "      <th>RGO_MARGEN_OPER_ACUM</th>\n",
       "      <td>1</td>\n",
       "    </tr>\n",
       "  </tbody>\n",
       "</table>\n",
       "</div>"
      ],
      "text/plain": [
       "                                        0\n",
       "CD_SBS_NORMAL                         100\n",
       "TP_PERSONA_A                            0\n",
       "CD_SBS_DDP                              0\n",
       "FUGA_3M                                 0\n",
       "RGO_FACTURA_ANUAL                       7\n",
       "ID                           201808_48117\n",
       "TO_EMPLEADOS                            2\n",
       "RGO_SDO_MEDIO_ACTIVO                    6\n",
       "diff_months_T0_ALTA                    11\n",
       "RGO_MARGEN_OPER_MES                     1\n",
       "diff_months_ALTA_NACIMIENTO            21\n",
       "RGO_SDO_MEDIO_PASIVO                    9\n",
       "CD_SBS_CPP                              0\n",
       "RGO_RIESGO_SIST                         8\n",
       "diff_months_T0_NACIMIENTO              32\n",
       "RGO_RIEGO_BBVA                          1\n",
       "TP_PERSONA_F                            0\n",
       "RGO_MARGEN_OPER_ACUM                    1"
      ]
     },
     "execution_count": 210,
     "metadata": {},
     "output_type": "execute_result"
    }
   ],
   "source": [
    "df_stock_train_f_3.head(1).T"
   ]
  },
  {
   "cell_type": "code",
   "execution_count": 200,
   "metadata": {},
   "outputs": [],
   "source": [
    "final_cols_3 = list(set(fit_cols_3)-set(['ID','FUGA_3M']))"
   ]
  },
  {
   "cell_type": "code",
   "execution_count": 202,
   "metadata": {},
   "outputs": [],
   "source": [
    "X_3 = df_stock_train_f_3[final_cols_3]\n",
    "y_3 = df_stock_train_f_3['FUGA_3M']"
   ]
  },
  {
   "cell_type": "code",
   "execution_count": 203,
   "metadata": {},
   "outputs": [],
   "source": [
    "X_train_3, X_test_3, y_train_3, y_test_3 = train_test_split(X_3, y_3, test_size = 0.2, random_state = 42, stratify = y)"
   ]
  },
  {
   "cell_type": "code",
   "execution_count": 204,
   "metadata": {},
   "outputs": [],
   "source": [
    "#Fitting\n",
    "xgb3 = XGBClassifier(learning_rate =0.1,\n",
    "                 n_estimators=1000,\n",
    "                 max_depth=5,\n",
    "                 min_child_weight=1,\n",
    "                 gamma=0,\n",
    "                 subsample=0.8,\n",
    "                 colsample_bytree=0.8,\n",
    "                 objective= 'binary:logistic',\n",
    "                 nthread=4,\n",
    "                 scale_pos_weight=1,\n",
    "                 seed=42)"
   ]
  },
  {
   "cell_type": "code",
   "execution_count": 205,
   "metadata": {},
   "outputs": [
    {
     "data": {
      "text/plain": [
       "XGBClassifier(base_score=0.5, booster='gbtree', colsample_bylevel=1,\n",
       "       colsample_bynode=1, colsample_bytree=0.8, gamma=0,\n",
       "       learning_rate=0.1, max_delta_step=0, max_depth=5,\n",
       "       min_child_weight=1, missing=None, n_estimators=1000, n_jobs=1,\n",
       "       nthread=4, objective='binary:logistic', random_state=0, reg_alpha=0,\n",
       "       reg_lambda=1, scale_pos_weight=1, seed=42, silent=None,\n",
       "       subsample=0.8, verbosity=1)"
      ]
     },
     "execution_count": 205,
     "metadata": {},
     "output_type": "execute_result"
    }
   ],
   "source": [
    "xgb3.fit(X_train_3, y_train_3)"
   ]
  },
  {
   "cell_type": "code",
   "execution_count": 207,
   "metadata": {},
   "outputs": [],
   "source": [
    "#Getting results\n",
    "y_pred_3 = xgb3.predict_proba(X_test_3)"
   ]
  },
  {
   "cell_type": "code",
   "execution_count": 208,
   "metadata": {},
   "outputs": [
    {
     "data": {
      "text/plain": [
       "0.7834752343683815"
      ]
     },
     "execution_count": 208,
     "metadata": {},
     "output_type": "execute_result"
    }
   ],
   "source": [
    "roc_auc_score(y_test_3, y_pred_3[:,1]) "
   ]
  },
  {
   "cell_type": "code",
   "execution_count": 211,
   "metadata": {
    "scrolled": true
   },
   "outputs": [
    {
     "data": {
      "image/png": "[encoded data removed]",
      "text/plain": [
       "<Figure size 432x288 with 1 Axes>"
      ]
     },
     "metadata": {
      "needs_background": "light"
     },
     "output_type": "display_data"
    }
   ],
   "source": [
    "plot_importance(xgb3)\n",
    "pyplot.show()"
   ]
  },
  {
   "cell_type": "code",
   "execution_count": null,
   "metadata": {},
   "outputs": [],
   "source": [
    "# Hora de mergiar"
   ]
  }
 ],
 "metadata": {
  "kernelspec": {
   "display_name": "Python 3",
   "language": "python",
   "name": "python3"
  },
  "language_info": {
   "codemirror_mode": {
    "name": "ipython",
    "version": 3
   },
   "file_extension": ".py",
   "mimetype": "text/x-python",
   "name": "python",
   "nbconvert_exporter": "python",
   "pygments_lexer": "ipython3",
   "version": "3.7.3"
  }
 },
 "nbformat": 4,
 "nbformat_minor": 2
}
